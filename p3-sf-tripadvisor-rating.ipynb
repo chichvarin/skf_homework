{
 "cells": [
  {
   "cell_type": "markdown",
   "metadata": {
    "_cell_guid": "59613fd5-5f4b-4ec2-9705-5a2caee8caf3",
    "_uuid": "d442f5e8-11c3-450b-8a59-69f32969ab61"
   },
   "source": [
    "# Predict TripAdvisor Rating\n",
    "## In this competition we have to predict the rating of the restaurant on TripAdvisor\n",
    "**Along the way:**\n",
    "* Improve pandas skills\n",
    "* Learn how to work with Kaggle Notebooks\n",
    "* Understand the data preprocessing\n",
    "* Learn to work with missing data (Nan)\n",
    "* Gain experience in feature encoding techniques\n",
    "* Try feature engineering \n",
    "* Make first steps in ML   \n",
    "\n",
    "\n",
    "\n",
    "*Baseline Notebook is used for creating this solution."
   ]
  },
  {
   "cell_type": "markdown",
   "metadata": {
    "_cell_guid": "08efdfb4-e4d0-4132-8f48-73e4b98f8885",
    "_uuid": "1b290a3b-e287-4865-8e3d-f626e2f2316e"
   },
   "source": [
    "# Import"
   ]
  },
  {
   "cell_type": "code",
   "execution_count": 1,
   "metadata": {
    "_cell_guid": "f61658fb-953f-47f8-8b23-eff9baaf5550",
    "_uuid": "b9f2577e-4dc7-4b63-b5ec-24d5c1574219",
    "collapsed": false,
    "execution": {
     "iopub.execute_input": "2021-08-25T09:36:48.528803Z",
     "iopub.status.busy": "2021-08-25T09:36:48.528280Z",
     "iopub.status.idle": "2021-08-25T09:36:51.848288Z",
     "shell.execute_reply": "2021-08-25T09:36:51.847231Z",
     "shell.execute_reply.started": "2021-08-25T09:36:48.528741Z"
    },
    "jupyter": {
     "outputs_hidden": false
    }
   },
   "outputs": [
    {
     "name": "stdout",
     "output_type": "stream",
     "text": [
      "/kaggle/input/sf-dst-restaurant-rating/sample_submission.csv\n",
      "/kaggle/input/sf-dst-restaurant-rating/main_task.csv\n",
      "/kaggle/input/sf-dst-restaurant-rating/kaggle_task.csv\n"
     ]
    }
   ],
   "source": [
    "# This Python 3 environment comes with many helpful analytics libraries installed\n",
    "# It is defined by the kaggle/python docker image: https://github.com/kaggle/docker-python\n",
    "# For example, here's several helpful packages to load in \n",
    "\n",
    "import numpy as np # linear algebra\n",
    "import pandas as pd # data processing, CSV file I/O (e.g. pd.read_csv)\n",
    "\n",
    "import matplotlib.pyplot as plt\n",
    "import seaborn as sns \n",
    "%matplotlib inline\n",
    "\n",
    "import re\n",
    "from datetime import datetime\n",
    "# Загружаем специальный удобный инструмент для разделения датасета:\n",
    "from sklearn.model_selection import train_test_split\n",
    "\n",
    "# Input data files are available in the \"../input/\" directory.\n",
    "# For example, running this (by clicking run or pressing Shift+Enter) will list all files under the input directory\n",
    "\n",
    "import os\n",
    "for dirname, _, filenames in os.walk('/kaggle/input'):\n",
    "    for filename in filenames:\n",
    "        print(os.path.join(dirname, filename))\n",
    "\n",
    "# Any results you write to the current directory are saved as output."
   ]
  },
  {
   "cell_type": "code",
   "execution_count": 2,
   "metadata": {
    "_cell_guid": "b0f13f7b-a1a6-49ac-a7f7-cf11768d55d6",
    "_uuid": "7db86419-fbc2-4a60-9a2b-ac312d39f10a",
    "collapsed": false,
    "execution": {
     "iopub.execute_input": "2021-08-25T09:36:51.851137Z",
     "iopub.status.busy": "2021-08-25T09:36:51.850807Z",
     "iopub.status.idle": "2021-08-25T09:36:51.858424Z",
     "shell.execute_reply": "2021-08-25T09:36:51.857309Z",
     "shell.execute_reply.started": "2021-08-25T09:36:51.851071Z"
    },
    "jupyter": {
     "outputs_hidden": false
    }
   },
   "outputs": [],
   "source": [
    "# always fix RANDOM_SEED so that your experiments are reproducible!\n",
    "RANDOM_SEED = 42"
   ]
  },
  {
   "cell_type": "code",
   "execution_count": 3,
   "metadata": {
    "_cell_guid": "b8e2d8f6-bb30-4d09-972f-60158ce98501",
    "_uuid": "65aba6bb-7060-41ac-b07c-1cf8721b8fd8",
    "collapsed": false,
    "execution": {
     "iopub.execute_input": "2021-08-25T09:36:51.860567Z",
     "iopub.status.busy": "2021-08-25T09:36:51.860236Z",
     "iopub.status.idle": "2021-08-25T09:36:55.596538Z",
     "shell.execute_reply": "2021-08-25T09:36:55.595034Z",
     "shell.execute_reply.started": "2021-08-25T09:36:51.860513Z"
    },
    "jupyter": {
     "outputs_hidden": false
    }
   },
   "outputs": [],
   "source": [
    "# fix the version of the packages so that the experiments are reproducible:\n",
    "!pip freeze > requirements.txt"
   ]
  },
  {
   "cell_type": "markdown",
   "metadata": {
    "_cell_guid": "41c06bf7-659e-4a36-860d-1ae6d2a36bda",
    "_uuid": "1abf9ad0-a32c-4250-b5d1-2067145a3943"
   },
   "source": [
    "# DATA"
   ]
  },
  {
   "cell_type": "code",
   "execution_count": 4,
   "metadata": {
    "_cell_guid": "63fd639c-4f00-4883-b6ff-0ecb283c339e",
    "_uuid": "6fab443c-b4e2-4da4-9573-f7991936e150",
    "collapsed": false,
    "execution": {
     "iopub.execute_input": "2021-08-25T09:36:55.598652Z",
     "iopub.status.busy": "2021-08-25T09:36:55.598299Z",
     "iopub.status.idle": "2021-08-25T09:36:56.024638Z",
     "shell.execute_reply": "2021-08-25T09:36:56.023771Z",
     "shell.execute_reply.started": "2021-08-25T09:36:55.598608Z"
    },
    "jupyter": {
     "outputs_hidden": false
    }
   },
   "outputs": [],
   "source": [
    "DATA_DIR = '/kaggle/input/sf-dst-restaurant-rating/'\n",
    "df_train = pd.read_csv(DATA_DIR+'/main_task.csv')\n",
    "df_test = pd.read_csv(DATA_DIR+'kaggle_task.csv')\n",
    "sample_submission = pd.read_csv(DATA_DIR+'/sample_submission.csv')"
   ]
  },
  {
   "cell_type": "code",
   "execution_count": 5,
   "metadata": {
    "_cell_guid": "92b2a1e0-0612-46e4-a0af-ba861843ef93",
    "_uuid": "d5f4f51e-ebc5-44bb-905e-e10e3c8c16da",
    "collapsed": false,
    "execution": {
     "iopub.execute_input": "2021-08-25T09:36:56.029067Z",
     "iopub.status.busy": "2021-08-25T09:36:56.028451Z",
     "iopub.status.idle": "2021-08-25T09:36:56.085040Z",
     "shell.execute_reply": "2021-08-25T09:36:56.082649Z",
     "shell.execute_reply.started": "2021-08-25T09:36:56.029000Z"
    },
    "jupyter": {
     "outputs_hidden": false
    }
   },
   "outputs": [
    {
     "name": "stdout",
     "output_type": "stream",
     "text": [
      "<class 'pandas.core.frame.DataFrame'>\n",
      "RangeIndex: 40000 entries, 0 to 39999\n",
      "Data columns (total 10 columns):\n",
      "Restaurant_id        40000 non-null object\n",
      "City                 40000 non-null object\n",
      "Cuisine Style        30717 non-null object\n",
      "Ranking              40000 non-null float64\n",
      "Rating               40000 non-null float64\n",
      "Price Range          26114 non-null object\n",
      "Number of Reviews    37457 non-null float64\n",
      "Reviews              40000 non-null object\n",
      "URL_TA               40000 non-null object\n",
      "ID_TA                40000 non-null object\n",
      "dtypes: float64(3), object(7)\n",
      "memory usage: 3.1+ MB\n"
     ]
    }
   ],
   "source": [
    "df_train.info()"
   ]
  },
  {
   "cell_type": "code",
   "execution_count": 6,
   "metadata": {
    "_cell_guid": "04ceb262-3ea7-4445-9f59-2df5060db17b",
    "_uuid": "880d9f68-d56c-400b-a2c8-ca3fabbd1ab3",
    "collapsed": false,
    "execution": {
     "iopub.execute_input": "2021-08-25T09:36:56.092494Z",
     "iopub.status.busy": "2021-08-25T09:36:56.091913Z",
     "iopub.status.idle": "2021-08-25T09:36:56.124278Z",
     "shell.execute_reply": "2021-08-25T09:36:56.123152Z",
     "shell.execute_reply.started": "2021-08-25T09:36:56.092439Z"
    },
    "jupyter": {
     "outputs_hidden": false
    }
   },
   "outputs": [
    {
     "data": {
      "text/html": [
       "<div>\n",
       "<style scoped>\n",
       "    .dataframe tbody tr th:only-of-type {\n",
       "        vertical-align: middle;\n",
       "    }\n",
       "\n",
       "    .dataframe tbody tr th {\n",
       "        vertical-align: top;\n",
       "    }\n",
       "\n",
       "    .dataframe thead th {\n",
       "        text-align: right;\n",
       "    }\n",
       "</style>\n",
       "<table border=\"1\" class=\"dataframe\">\n",
       "  <thead>\n",
       "    <tr style=\"text-align: right;\">\n",
       "      <th></th>\n",
       "      <th>Restaurant_id</th>\n",
       "      <th>City</th>\n",
       "      <th>Cuisine Style</th>\n",
       "      <th>Ranking</th>\n",
       "      <th>Rating</th>\n",
       "      <th>Price Range</th>\n",
       "      <th>Number of Reviews</th>\n",
       "      <th>Reviews</th>\n",
       "      <th>URL_TA</th>\n",
       "      <th>ID_TA</th>\n",
       "    </tr>\n",
       "  </thead>\n",
       "  <tbody>\n",
       "    <tr>\n",
       "      <th>0</th>\n",
       "      <td>id_5569</td>\n",
       "      <td>Paris</td>\n",
       "      <td>['European', 'French', 'International']</td>\n",
       "      <td>5570.0</td>\n",
       "      <td>3.5</td>\n",
       "      <td>$$ - $$$</td>\n",
       "      <td>194.0</td>\n",
       "      <td>[['Good food at your doorstep', 'A good hotel ...</td>\n",
       "      <td>/Restaurant_Review-g187147-d1912643-Reviews-R_...</td>\n",
       "      <td>d1912643</td>\n",
       "    </tr>\n",
       "    <tr>\n",
       "      <th>1</th>\n",
       "      <td>id_1535</td>\n",
       "      <td>Stockholm</td>\n",
       "      <td>NaN</td>\n",
       "      <td>1537.0</td>\n",
       "      <td>4.0</td>\n",
       "      <td>NaN</td>\n",
       "      <td>10.0</td>\n",
       "      <td>[['Unique cuisine', 'Delicious Nepalese food']...</td>\n",
       "      <td>/Restaurant_Review-g189852-d7992032-Reviews-Bu...</td>\n",
       "      <td>d7992032</td>\n",
       "    </tr>\n",
       "    <tr>\n",
       "      <th>2</th>\n",
       "      <td>id_352</td>\n",
       "      <td>London</td>\n",
       "      <td>['Japanese', 'Sushi', 'Asian', 'Grill', 'Veget...</td>\n",
       "      <td>353.0</td>\n",
       "      <td>4.5</td>\n",
       "      <td>$$$$</td>\n",
       "      <td>688.0</td>\n",
       "      <td>[['Catch up with friends', 'Not exceptional'],...</td>\n",
       "      <td>/Restaurant_Review-g186338-d8632781-Reviews-RO...</td>\n",
       "      <td>d8632781</td>\n",
       "    </tr>\n",
       "    <tr>\n",
       "      <th>3</th>\n",
       "      <td>id_3456</td>\n",
       "      <td>Berlin</td>\n",
       "      <td>NaN</td>\n",
       "      <td>3458.0</td>\n",
       "      <td>5.0</td>\n",
       "      <td>NaN</td>\n",
       "      <td>3.0</td>\n",
       "      <td>[[], []]</td>\n",
       "      <td>/Restaurant_Review-g187323-d1358776-Reviews-Es...</td>\n",
       "      <td>d1358776</td>\n",
       "    </tr>\n",
       "    <tr>\n",
       "      <th>4</th>\n",
       "      <td>id_615</td>\n",
       "      <td>Munich</td>\n",
       "      <td>['German', 'Central European', 'Vegetarian Fri...</td>\n",
       "      <td>621.0</td>\n",
       "      <td>4.0</td>\n",
       "      <td>$$ - $$$</td>\n",
       "      <td>84.0</td>\n",
       "      <td>[['Best place to try a Bavarian food', 'Nice b...</td>\n",
       "      <td>/Restaurant_Review-g187309-d6864963-Reviews-Au...</td>\n",
       "      <td>d6864963</td>\n",
       "    </tr>\n",
       "  </tbody>\n",
       "</table>\n",
       "</div>"
      ],
      "text/plain": [
       "  Restaurant_id       City                                      Cuisine Style  \\\n",
       "0       id_5569      Paris            ['European', 'French', 'International']   \n",
       "1       id_1535  Stockholm                                                NaN   \n",
       "2        id_352     London  ['Japanese', 'Sushi', 'Asian', 'Grill', 'Veget...   \n",
       "3       id_3456     Berlin                                                NaN   \n",
       "4        id_615     Munich  ['German', 'Central European', 'Vegetarian Fri...   \n",
       "\n",
       "   Ranking  Rating Price Range  Number of Reviews  \\\n",
       "0   5570.0     3.5    $$ - $$$              194.0   \n",
       "1   1537.0     4.0         NaN               10.0   \n",
       "2    353.0     4.5        $$$$              688.0   \n",
       "3   3458.0     5.0         NaN                3.0   \n",
       "4    621.0     4.0    $$ - $$$               84.0   \n",
       "\n",
       "                                             Reviews  \\\n",
       "0  [['Good food at your doorstep', 'A good hotel ...   \n",
       "1  [['Unique cuisine', 'Delicious Nepalese food']...   \n",
       "2  [['Catch up with friends', 'Not exceptional'],...   \n",
       "3                                           [[], []]   \n",
       "4  [['Best place to try a Bavarian food', 'Nice b...   \n",
       "\n",
       "                                              URL_TA     ID_TA  \n",
       "0  /Restaurant_Review-g187147-d1912643-Reviews-R_...  d1912643  \n",
       "1  /Restaurant_Review-g189852-d7992032-Reviews-Bu...  d7992032  \n",
       "2  /Restaurant_Review-g186338-d8632781-Reviews-RO...  d8632781  \n",
       "3  /Restaurant_Review-g187323-d1358776-Reviews-Es...  d1358776  \n",
       "4  /Restaurant_Review-g187309-d6864963-Reviews-Au...  d6864963  "
      ]
     },
     "execution_count": 6,
     "metadata": {},
     "output_type": "execute_result"
    }
   ],
   "source": [
    "df_train.head(5)"
   ]
  },
  {
   "cell_type": "code",
   "execution_count": 7,
   "metadata": {
    "_cell_guid": "4fd3cb7f-1769-468d-bbf8-199ada8e0f39",
    "_uuid": "9268d5ce-2e13-4cf3-a487-5c1abb28adbf",
    "collapsed": false,
    "execution": {
     "iopub.execute_input": "2021-08-25T09:36:56.126000Z",
     "iopub.status.busy": "2021-08-25T09:36:56.125732Z",
     "iopub.status.idle": "2021-08-25T09:36:56.148264Z",
     "shell.execute_reply": "2021-08-25T09:36:56.147228Z",
     "shell.execute_reply.started": "2021-08-25T09:36:56.125955Z"
    },
    "jupyter": {
     "outputs_hidden": false
    }
   },
   "outputs": [
    {
     "name": "stdout",
     "output_type": "stream",
     "text": [
      "<class 'pandas.core.frame.DataFrame'>\n",
      "RangeIndex: 10000 entries, 0 to 9999\n",
      "Data columns (total 9 columns):\n",
      "Restaurant_id        10000 non-null object\n",
      "City                 10000 non-null object\n",
      "Cuisine Style        7693 non-null object\n",
      "Ranking              10000 non-null float64\n",
      "Price Range          6525 non-null object\n",
      "Number of Reviews    9343 non-null float64\n",
      "Reviews              9998 non-null object\n",
      "URL_TA               10000 non-null object\n",
      "ID_TA                10000 non-null object\n",
      "dtypes: float64(2), object(7)\n",
      "memory usage: 703.2+ KB\n"
     ]
    }
   ],
   "source": [
    "df_test.info()"
   ]
  },
  {
   "cell_type": "code",
   "execution_count": 8,
   "metadata": {
    "_cell_guid": "ff62b2ba-180a-4583-a838-3c7c22ec086a",
    "_uuid": "daad8e6f-559b-48c2-bdb2-7f88f9390bd1",
    "collapsed": false,
    "execution": {
     "iopub.execute_input": "2021-08-25T09:36:56.150424Z",
     "iopub.status.busy": "2021-08-25T09:36:56.150069Z",
     "iopub.status.idle": "2021-08-25T09:36:56.174905Z",
     "shell.execute_reply": "2021-08-25T09:36:56.173993Z",
     "shell.execute_reply.started": "2021-08-25T09:36:56.150369Z"
    },
    "jupyter": {
     "outputs_hidden": false
    }
   },
   "outputs": [
    {
     "data": {
      "text/html": [
       "<div>\n",
       "<style scoped>\n",
       "    .dataframe tbody tr th:only-of-type {\n",
       "        vertical-align: middle;\n",
       "    }\n",
       "\n",
       "    .dataframe tbody tr th {\n",
       "        vertical-align: top;\n",
       "    }\n",
       "\n",
       "    .dataframe thead th {\n",
       "        text-align: right;\n",
       "    }\n",
       "</style>\n",
       "<table border=\"1\" class=\"dataframe\">\n",
       "  <thead>\n",
       "    <tr style=\"text-align: right;\">\n",
       "      <th></th>\n",
       "      <th>Restaurant_id</th>\n",
       "      <th>City</th>\n",
       "      <th>Cuisine Style</th>\n",
       "      <th>Ranking</th>\n",
       "      <th>Price Range</th>\n",
       "      <th>Number of Reviews</th>\n",
       "      <th>Reviews</th>\n",
       "      <th>URL_TA</th>\n",
       "      <th>ID_TA</th>\n",
       "    </tr>\n",
       "  </thead>\n",
       "  <tbody>\n",
       "    <tr>\n",
       "      <th>0</th>\n",
       "      <td>id_0</td>\n",
       "      <td>Paris</td>\n",
       "      <td>['Bar', 'Pub']</td>\n",
       "      <td>12963.0</td>\n",
       "      <td>$$ - $$$</td>\n",
       "      <td>4.0</td>\n",
       "      <td>[[], []]</td>\n",
       "      <td>/Restaurant_Review-g187147-d10746918-Reviews-L...</td>\n",
       "      <td>d10746918</td>\n",
       "    </tr>\n",
       "    <tr>\n",
       "      <th>1</th>\n",
       "      <td>id_1</td>\n",
       "      <td>Helsinki</td>\n",
       "      <td>['European', 'Scandinavian', 'Gluten Free Opti...</td>\n",
       "      <td>106.0</td>\n",
       "      <td>$$ - $$$</td>\n",
       "      <td>97.0</td>\n",
       "      <td>[['Very good reviews!', 'Fine dining in Hakani...</td>\n",
       "      <td>/Restaurant_Review-g189934-d6674944-Reviews-Ra...</td>\n",
       "      <td>d6674944</td>\n",
       "    </tr>\n",
       "    <tr>\n",
       "      <th>2</th>\n",
       "      <td>id_2</td>\n",
       "      <td>Edinburgh</td>\n",
       "      <td>['Vegetarian Friendly']</td>\n",
       "      <td>810.0</td>\n",
       "      <td>$$ - $$$</td>\n",
       "      <td>28.0</td>\n",
       "      <td>[['Better than the Links', 'Ivy Black'], ['12/...</td>\n",
       "      <td>/Restaurant_Review-g186525-d13129638-Reviews-B...</td>\n",
       "      <td>d13129638</td>\n",
       "    </tr>\n",
       "    <tr>\n",
       "      <th>3</th>\n",
       "      <td>id_3</td>\n",
       "      <td>London</td>\n",
       "      <td>['Italian', 'Mediterranean', 'European', 'Vege...</td>\n",
       "      <td>1669.0</td>\n",
       "      <td>$$$$</td>\n",
       "      <td>202.0</td>\n",
       "      <td>[['Most exquisite', 'Delicious and authentic']...</td>\n",
       "      <td>/Restaurant_Review-g186338-d680417-Reviews-Qui...</td>\n",
       "      <td>d680417</td>\n",
       "    </tr>\n",
       "    <tr>\n",
       "      <th>4</th>\n",
       "      <td>id_4</td>\n",
       "      <td>Bratislava</td>\n",
       "      <td>['Italian', 'Mediterranean', 'European', 'Seaf...</td>\n",
       "      <td>37.0</td>\n",
       "      <td>$$$$</td>\n",
       "      <td>162.0</td>\n",
       "      <td>[['Always the best in bratislava', 'Very good ...</td>\n",
       "      <td>/Restaurant_Review-g274924-d1112354-Reviews-Ma...</td>\n",
       "      <td>d1112354</td>\n",
       "    </tr>\n",
       "  </tbody>\n",
       "</table>\n",
       "</div>"
      ],
      "text/plain": [
       "  Restaurant_id        City  \\\n",
       "0          id_0       Paris   \n",
       "1          id_1    Helsinki   \n",
       "2          id_2   Edinburgh   \n",
       "3          id_3      London   \n",
       "4          id_4  Bratislava   \n",
       "\n",
       "                                       Cuisine Style  Ranking Price Range  \\\n",
       "0                                     ['Bar', 'Pub']  12963.0    $$ - $$$   \n",
       "1  ['European', 'Scandinavian', 'Gluten Free Opti...    106.0    $$ - $$$   \n",
       "2                            ['Vegetarian Friendly']    810.0    $$ - $$$   \n",
       "3  ['Italian', 'Mediterranean', 'European', 'Vege...   1669.0        $$$$   \n",
       "4  ['Italian', 'Mediterranean', 'European', 'Seaf...     37.0        $$$$   \n",
       "\n",
       "   Number of Reviews                                            Reviews  \\\n",
       "0                4.0                                           [[], []]   \n",
       "1               97.0  [['Very good reviews!', 'Fine dining in Hakani...   \n",
       "2               28.0  [['Better than the Links', 'Ivy Black'], ['12/...   \n",
       "3              202.0  [['Most exquisite', 'Delicious and authentic']...   \n",
       "4              162.0  [['Always the best in bratislava', 'Very good ...   \n",
       "\n",
       "                                              URL_TA      ID_TA  \n",
       "0  /Restaurant_Review-g187147-d10746918-Reviews-L...  d10746918  \n",
       "1  /Restaurant_Review-g189934-d6674944-Reviews-Ra...   d6674944  \n",
       "2  /Restaurant_Review-g186525-d13129638-Reviews-B...  d13129638  \n",
       "3  /Restaurant_Review-g186338-d680417-Reviews-Qui...    d680417  \n",
       "4  /Restaurant_Review-g274924-d1112354-Reviews-Ma...   d1112354  "
      ]
     },
     "execution_count": 8,
     "metadata": {},
     "output_type": "execute_result"
    }
   ],
   "source": [
    "df_test.head(5)"
   ]
  },
  {
   "cell_type": "code",
   "execution_count": 9,
   "metadata": {
    "_cell_guid": "86d6e494-5692-4534-a671-78238f5d3dc8",
    "_uuid": "c71c0021-8065-4a6c-a9fe-f0955ff57ade",
    "collapsed": false,
    "execution": {
     "iopub.execute_input": "2021-08-25T09:36:56.176966Z",
     "iopub.status.busy": "2021-08-25T09:36:56.176663Z",
     "iopub.status.idle": "2021-08-25T09:36:56.190822Z",
     "shell.execute_reply": "2021-08-25T09:36:56.189772Z",
     "shell.execute_reply.started": "2021-08-25T09:36:56.176917Z"
    },
    "jupyter": {
     "outputs_hidden": false
    }
   },
   "outputs": [
    {
     "data": {
      "text/html": [
       "<div>\n",
       "<style scoped>\n",
       "    .dataframe tbody tr th:only-of-type {\n",
       "        vertical-align: middle;\n",
       "    }\n",
       "\n",
       "    .dataframe tbody tr th {\n",
       "        vertical-align: top;\n",
       "    }\n",
       "\n",
       "    .dataframe thead th {\n",
       "        text-align: right;\n",
       "    }\n",
       "</style>\n",
       "<table border=\"1\" class=\"dataframe\">\n",
       "  <thead>\n",
       "    <tr style=\"text-align: right;\">\n",
       "      <th></th>\n",
       "      <th>Restaurant_id</th>\n",
       "      <th>Rating</th>\n",
       "    </tr>\n",
       "  </thead>\n",
       "  <tbody>\n",
       "    <tr>\n",
       "      <th>0</th>\n",
       "      <td>id_0</td>\n",
       "      <td>2.0</td>\n",
       "    </tr>\n",
       "    <tr>\n",
       "      <th>1</th>\n",
       "      <td>id_1</td>\n",
       "      <td>2.5</td>\n",
       "    </tr>\n",
       "    <tr>\n",
       "      <th>2</th>\n",
       "      <td>id_2</td>\n",
       "      <td>4.0</td>\n",
       "    </tr>\n",
       "    <tr>\n",
       "      <th>3</th>\n",
       "      <td>id_3</td>\n",
       "      <td>1.0</td>\n",
       "    </tr>\n",
       "    <tr>\n",
       "      <th>4</th>\n",
       "      <td>id_4</td>\n",
       "      <td>4.0</td>\n",
       "    </tr>\n",
       "  </tbody>\n",
       "</table>\n",
       "</div>"
      ],
      "text/plain": [
       "  Restaurant_id  Rating\n",
       "0          id_0     2.0\n",
       "1          id_1     2.5\n",
       "2          id_2     4.0\n",
       "3          id_3     1.0\n",
       "4          id_4     4.0"
      ]
     },
     "execution_count": 9,
     "metadata": {},
     "output_type": "execute_result"
    }
   ],
   "source": [
    "sample_submission.head(5)"
   ]
  },
  {
   "cell_type": "code",
   "execution_count": 10,
   "metadata": {
    "_cell_guid": "44d1b50a-b1ae-49da-9440-d0c695889c0a",
    "_uuid": "6584adb9-5d80-4dee-93cb-7cc8785c7578",
    "collapsed": false,
    "execution": {
     "iopub.execute_input": "2021-08-25T09:36:56.193801Z",
     "iopub.status.busy": "2021-08-25T09:36:56.193336Z",
     "iopub.status.idle": "2021-08-25T09:36:56.205178Z",
     "shell.execute_reply": "2021-08-25T09:36:56.204248Z",
     "shell.execute_reply.started": "2021-08-25T09:36:56.193723Z"
    },
    "jupyter": {
     "outputs_hidden": false
    }
   },
   "outputs": [
    {
     "name": "stdout",
     "output_type": "stream",
     "text": [
      "<class 'pandas.core.frame.DataFrame'>\n",
      "RangeIndex: 10000 entries, 0 to 9999\n",
      "Data columns (total 2 columns):\n",
      "Restaurant_id    10000 non-null object\n",
      "Rating           10000 non-null float64\n",
      "dtypes: float64(1), object(1)\n",
      "memory usage: 156.4+ KB\n"
     ]
    }
   ],
   "source": [
    "sample_submission.info()"
   ]
  },
  {
   "cell_type": "code",
   "execution_count": 11,
   "metadata": {
    "_cell_guid": "15d991ce-dfc3-4a80-aa40-0d5ceb33e213",
    "_uuid": "eedc456c-ecc3-4697-af94-7357e2b3b94b",
    "collapsed": false,
    "execution": {
     "iopub.execute_input": "2021-08-25T09:36:56.206866Z",
     "iopub.status.busy": "2021-08-25T09:36:56.206587Z",
     "iopub.status.idle": "2021-08-25T09:36:56.276516Z",
     "shell.execute_reply": "2021-08-25T09:36:56.275312Z",
     "shell.execute_reply.started": "2021-08-25T09:36:56.206821Z"
    },
    "jupyter": {
     "outputs_hidden": false
    }
   },
   "outputs": [],
   "source": [
    "# we combine the train and the test into one dataset for correct processing of features\n",
    "df_train['sample'] = 1 # mark train dataset\n",
    "df_test['sample'] = 0 # mark test dataset\n",
    "df_test['Rating'] = 0 # we do not have a Rating value in the test dataset, we must predict it, so for now we just fill it with zeros\n",
    "\n",
    "\n",
    "data = df_test.append(df_train, sort=False).reset_index(drop=True) # объединяем"
   ]
  },
  {
   "cell_type": "code",
   "execution_count": 12,
   "metadata": {
    "_cell_guid": "ec5b35a3-6512-4c64-a989-f8d68e2e468a",
    "_uuid": "a7ec424a-3b20-461d-9f89-2533e151fee8",
    "collapsed": false,
    "execution": {
     "iopub.execute_input": "2021-08-25T09:36:56.278778Z",
     "iopub.status.busy": "2021-08-25T09:36:56.278361Z",
     "iopub.status.idle": "2021-08-25T09:36:56.325572Z",
     "shell.execute_reply": "2021-08-25T09:36:56.324698Z",
     "shell.execute_reply.started": "2021-08-25T09:36:56.278704Z"
    },
    "jupyter": {
     "outputs_hidden": false
    }
   },
   "outputs": [
    {
     "name": "stdout",
     "output_type": "stream",
     "text": [
      "<class 'pandas.core.frame.DataFrame'>\n",
      "RangeIndex: 50000 entries, 0 to 49999\n",
      "Data columns (total 11 columns):\n",
      "Restaurant_id        50000 non-null object\n",
      "City                 50000 non-null object\n",
      "Cuisine Style        38410 non-null object\n",
      "Ranking              50000 non-null float64\n",
      "Price Range          32639 non-null object\n",
      "Number of Reviews    46800 non-null float64\n",
      "Reviews              49998 non-null object\n",
      "URL_TA               50000 non-null object\n",
      "ID_TA                50000 non-null object\n",
      "sample               50000 non-null int64\n",
      "Rating               50000 non-null float64\n",
      "dtypes: float64(3), int64(1), object(7)\n",
      "memory usage: 4.2+ MB\n"
     ]
    }
   ],
   "source": [
    "data.info()"
   ]
  },
  {
   "cell_type": "markdown",
   "metadata": {
    "_cell_guid": "92066bbd-15bd-4bb3-968a-a3e89324ded6",
    "_uuid": "7a93969a-b64b-4e4f-b9d0-2ebab94fe638"
   },
   "source": [
    "Features:\n",
    "* City \n",
    "* Cuisine Style\n",
    "* Ranking\n",
    "* Price Range\n",
    "* Number of Reviews\n",
    "* Reviews: 2 most recent reviews and the dates of those reviews\n",
    "* URL_TA: restaurant web page on 'www.tripadvisor.com' \n",
    "* ID_TA: restaurant ID on TripAdvisor\n",
    "* Rating"
   ]
  },
  {
   "cell_type": "code",
   "execution_count": 13,
   "metadata": {
    "_cell_guid": "0f2f2ead-7849-44ff-be6f-d36a01b9cee0",
    "_uuid": "0ad05178-5664-450f-9306-5b35533f78d7",
    "collapsed": false,
    "execution": {
     "iopub.execute_input": "2021-08-25T09:36:56.327367Z",
     "iopub.status.busy": "2021-08-25T09:36:56.326889Z",
     "iopub.status.idle": "2021-08-25T09:36:56.349818Z",
     "shell.execute_reply": "2021-08-25T09:36:56.349000Z",
     "shell.execute_reply.started": "2021-08-25T09:36:56.327318Z"
    },
    "jupyter": {
     "outputs_hidden": false
    }
   },
   "outputs": [
    {
     "data": {
      "text/html": [
       "<div>\n",
       "<style scoped>\n",
       "    .dataframe tbody tr th:only-of-type {\n",
       "        vertical-align: middle;\n",
       "    }\n",
       "\n",
       "    .dataframe tbody tr th {\n",
       "        vertical-align: top;\n",
       "    }\n",
       "\n",
       "    .dataframe thead th {\n",
       "        text-align: right;\n",
       "    }\n",
       "</style>\n",
       "<table border=\"1\" class=\"dataframe\">\n",
       "  <thead>\n",
       "    <tr style=\"text-align: right;\">\n",
       "      <th></th>\n",
       "      <th>Restaurant_id</th>\n",
       "      <th>City</th>\n",
       "      <th>Cuisine Style</th>\n",
       "      <th>Ranking</th>\n",
       "      <th>Price Range</th>\n",
       "      <th>Number of Reviews</th>\n",
       "      <th>Reviews</th>\n",
       "      <th>URL_TA</th>\n",
       "      <th>ID_TA</th>\n",
       "      <th>sample</th>\n",
       "      <th>Rating</th>\n",
       "    </tr>\n",
       "  </thead>\n",
       "  <tbody>\n",
       "    <tr>\n",
       "      <th>3429</th>\n",
       "      <td>id_3429</td>\n",
       "      <td>Milan</td>\n",
       "      <td>['Pizza']</td>\n",
       "      <td>1580.0</td>\n",
       "      <td>$</td>\n",
       "      <td>131.0</td>\n",
       "      <td>[['THE REAL NAPOLETANA PIZZA', 'Super good, su...</td>\n",
       "      <td>/Restaurant_Review-g187849-d5617387-Reviews-La...</td>\n",
       "      <td>d5617387</td>\n",
       "      <td>0</td>\n",
       "      <td>0.0</td>\n",
       "    </tr>\n",
       "    <tr>\n",
       "      <th>19216</th>\n",
       "      <td>id_3817</td>\n",
       "      <td>Berlin</td>\n",
       "      <td>NaN</td>\n",
       "      <td>3819.0</td>\n",
       "      <td>NaN</td>\n",
       "      <td>3.0</td>\n",
       "      <td>[[], []]</td>\n",
       "      <td>/Restaurant_Review-g187323-d10487425-Reviews-R...</td>\n",
       "      <td>d10487425</td>\n",
       "      <td>1</td>\n",
       "      <td>4.5</td>\n",
       "    </tr>\n",
       "    <tr>\n",
       "      <th>36165</th>\n",
       "      <td>id_915</td>\n",
       "      <td>Krakow</td>\n",
       "      <td>['Mediterranean']</td>\n",
       "      <td>916.0</td>\n",
       "      <td>NaN</td>\n",
       "      <td>10.0</td>\n",
       "      <td>[['The best place !', 'You should see it'], ['...</td>\n",
       "      <td>/Restaurant_Review-g274772-d3598456-Reviews-Bu...</td>\n",
       "      <td>d3598456</td>\n",
       "      <td>1</td>\n",
       "      <td>4.0</td>\n",
       "    </tr>\n",
       "    <tr>\n",
       "      <th>30732</th>\n",
       "      <td>id_1423</td>\n",
       "      <td>Madrid</td>\n",
       "      <td>['American']</td>\n",
       "      <td>1425.0</td>\n",
       "      <td>$$ - $$$</td>\n",
       "      <td>59.0</td>\n",
       "      <td>[[], []]</td>\n",
       "      <td>/Restaurant_Review-g187514-d11711147-Reviews-3...</td>\n",
       "      <td>d11711147</td>\n",
       "      <td>1</td>\n",
       "      <td>4.0</td>\n",
       "    </tr>\n",
       "    <tr>\n",
       "      <th>27014</th>\n",
       "      <td>id_5260</td>\n",
       "      <td>Rome</td>\n",
       "      <td>NaN</td>\n",
       "      <td>5262.0</td>\n",
       "      <td>NaN</td>\n",
       "      <td>4.0</td>\n",
       "      <td>[['Wonderful butcher'], ['07/22/2017']]</td>\n",
       "      <td>/Restaurant_Review-g187791-d12094323-Reviews-D...</td>\n",
       "      <td>d12094323</td>\n",
       "      <td>1</td>\n",
       "      <td>5.0</td>\n",
       "    </tr>\n",
       "  </tbody>\n",
       "</table>\n",
       "</div>"
      ],
      "text/plain": [
       "      Restaurant_id    City      Cuisine Style  Ranking Price Range  \\\n",
       "3429        id_3429   Milan          ['Pizza']   1580.0           $   \n",
       "19216       id_3817  Berlin                NaN   3819.0         NaN   \n",
       "36165        id_915  Krakow  ['Mediterranean']    916.0         NaN   \n",
       "30732       id_1423  Madrid       ['American']   1425.0    $$ - $$$   \n",
       "27014       id_5260    Rome                NaN   5262.0         NaN   \n",
       "\n",
       "       Number of Reviews                                            Reviews  \\\n",
       "3429               131.0  [['THE REAL NAPOLETANA PIZZA', 'Super good, su...   \n",
       "19216                3.0                                           [[], []]   \n",
       "36165               10.0  [['The best place !', 'You should see it'], ['...   \n",
       "30732               59.0                                           [[], []]   \n",
       "27014                4.0            [['Wonderful butcher'], ['07/22/2017']]   \n",
       "\n",
       "                                                  URL_TA      ID_TA  sample  \\\n",
       "3429   /Restaurant_Review-g187849-d5617387-Reviews-La...   d5617387       0   \n",
       "19216  /Restaurant_Review-g187323-d10487425-Reviews-R...  d10487425       1   \n",
       "36165  /Restaurant_Review-g274772-d3598456-Reviews-Bu...   d3598456       1   \n",
       "30732  /Restaurant_Review-g187514-d11711147-Reviews-3...  d11711147       1   \n",
       "27014  /Restaurant_Review-g187791-d12094323-Reviews-D...  d12094323       1   \n",
       "\n",
       "       Rating  \n",
       "3429      0.0  \n",
       "19216     4.5  \n",
       "36165     4.0  \n",
       "30732     4.0  \n",
       "27014     5.0  "
      ]
     },
     "execution_count": 13,
     "metadata": {},
     "output_type": "execute_result"
    }
   ],
   "source": [
    "data.sample(5)"
   ]
  },
  {
   "cell_type": "code",
   "execution_count": 14,
   "metadata": {
    "execution": {
     "iopub.execute_input": "2021-08-25T09:36:56.351557Z",
     "iopub.status.busy": "2021-08-25T09:36:56.351081Z",
     "iopub.status.idle": "2021-08-25T09:36:56.363384Z",
     "shell.execute_reply": "2021-08-25T09:36:56.362228Z",
     "shell.execute_reply.started": "2021-08-25T09:36:56.351509Z"
    }
   },
   "outputs": [],
   "source": [
    "# df_train has missing values in: 'Cuisine Style', 'Price Range', 'Number of Reviews'\n",
    "# df_test has missing values in: 'Cuisine Style', 'Price Range', 'Number of Reviews', 'Reviews'"
   ]
  },
  {
   "cell_type": "markdown",
   "metadata": {
    "_cell_guid": "db6afe38-e2dc-4685-bc73-35c65465a649",
    "_uuid": "10d348f9-a5cd-4157-b311-c8e0d59bc5f2"
   },
   "source": [
    "# Cleaning and Prepping Data  \n",
    "![](https://analyticsindiamag.com/wp-content/uploads/2018/01/data-cleaning.png)"
   ]
  },
  {
   "cell_type": "code",
   "execution_count": 15,
   "metadata": {
    "execution": {
     "iopub.execute_input": "2021-08-25T09:36:56.365378Z",
     "iopub.status.busy": "2021-08-25T09:36:56.365005Z",
     "iopub.status.idle": "2021-08-25T09:36:56.395053Z",
     "shell.execute_reply": "2021-08-25T09:36:56.394005Z",
     "shell.execute_reply.started": "2021-08-25T09:36:56.365311Z"
    }
   },
   "outputs": [
    {
     "data": {
      "text/html": [
       "<div>\n",
       "<style scoped>\n",
       "    .dataframe tbody tr th:only-of-type {\n",
       "        vertical-align: middle;\n",
       "    }\n",
       "\n",
       "    .dataframe tbody tr th {\n",
       "        vertical-align: top;\n",
       "    }\n",
       "\n",
       "    .dataframe thead th {\n",
       "        text-align: right;\n",
       "    }\n",
       "</style>\n",
       "<table border=\"1\" class=\"dataframe\">\n",
       "  <thead>\n",
       "    <tr style=\"text-align: right;\">\n",
       "      <th></th>\n",
       "      <th>restaurant_id</th>\n",
       "      <th>city</th>\n",
       "      <th>cuisine_style</th>\n",
       "      <th>ranking</th>\n",
       "      <th>price_range</th>\n",
       "      <th>number_of_reviews</th>\n",
       "      <th>reviews</th>\n",
       "      <th>url_ta</th>\n",
       "      <th>id_ta</th>\n",
       "      <th>sample</th>\n",
       "      <th>rating</th>\n",
       "    </tr>\n",
       "  </thead>\n",
       "  <tbody>\n",
       "    <tr>\n",
       "      <th>25785</th>\n",
       "      <td>id_2699</td>\n",
       "      <td>Milan</td>\n",
       "      <td>NaN</td>\n",
       "      <td>2701.0</td>\n",
       "      <td>NaN</td>\n",
       "      <td>70.0</td>\n",
       "      <td>[['PLEASE, STAY AWAY!', 'Lovely food'], ['04/1...</td>\n",
       "      <td>/Restaurant_Review-g187849-d4751464-Reviews-De...</td>\n",
       "      <td>d4751464</td>\n",
       "      <td>1</td>\n",
       "      <td>4.0</td>\n",
       "    </tr>\n",
       "    <tr>\n",
       "      <th>34401</th>\n",
       "      <td>id_2691</td>\n",
       "      <td>Hamburg</td>\n",
       "      <td>NaN</td>\n",
       "      <td>2699.0</td>\n",
       "      <td>NaN</td>\n",
       "      <td>2.0</td>\n",
       "      <td>[[\"Doesn't exist anymore...\"], ['05/09/2013']]</td>\n",
       "      <td>/Restaurant_Review-g187331-d1356236-Reviews-Di...</td>\n",
       "      <td>d1356236</td>\n",
       "      <td>1</td>\n",
       "      <td>2.0</td>\n",
       "    </tr>\n",
       "    <tr>\n",
       "      <th>23041</th>\n",
       "      <td>id_5205</td>\n",
       "      <td>Barcelona</td>\n",
       "      <td>NaN</td>\n",
       "      <td>5206.0</td>\n",
       "      <td>NaN</td>\n",
       "      <td>9.0</td>\n",
       "      <td>[['Affordable, Value For Money, Plenty of Cho....</td>\n",
       "      <td>/Restaurant_Review-g187497-d9846497-Reviews-Ma...</td>\n",
       "      <td>d9846497</td>\n",
       "      <td>1</td>\n",
       "      <td>4.0</td>\n",
       "    </tr>\n",
       "  </tbody>\n",
       "</table>\n",
       "</div>"
      ],
      "text/plain": [
       "      restaurant_id       city cuisine_style  ranking price_range  \\\n",
       "25785       id_2699      Milan           NaN   2701.0         NaN   \n",
       "34401       id_2691    Hamburg           NaN   2699.0         NaN   \n",
       "23041       id_5205  Barcelona           NaN   5206.0         NaN   \n",
       "\n",
       "       number_of_reviews                                            reviews  \\\n",
       "25785               70.0  [['PLEASE, STAY AWAY!', 'Lovely food'], ['04/1...   \n",
       "34401                2.0     [[\"Doesn't exist anymore...\"], ['05/09/2013']]   \n",
       "23041                9.0  [['Affordable, Value For Money, Plenty of Cho....   \n",
       "\n",
       "                                                  url_ta     id_ta  sample  \\\n",
       "25785  /Restaurant_Review-g187849-d4751464-Reviews-De...  d4751464       1   \n",
       "34401  /Restaurant_Review-g187331-d1356236-Reviews-Di...  d1356236       1   \n",
       "23041  /Restaurant_Review-g187497-d9846497-Reviews-Ma...  d9846497       1   \n",
       "\n",
       "       rating  \n",
       "25785     4.0  \n",
       "34401     2.0  \n",
       "23041     4.0  "
      ]
     },
     "execution_count": 15,
     "metadata": {},
     "output_type": "execute_result"
    }
   ],
   "source": [
    "# we convert the column headings to lowercase with an underscore as a word separator\n",
    "data.columns = ['restaurant_id', 'city', 'cuisine_style', 'ranking',\n",
    "                'price_range', 'number_of_reviews', 'reviews', 'url_ta',\n",
    "                'id_ta', 'sample', 'rating']\n",
    "data.sample(3)"
   ]
  },
  {
   "cell_type": "code",
   "execution_count": 16,
   "metadata": {
    "execution": {
     "iopub.execute_input": "2021-08-25T09:36:56.397855Z",
     "iopub.status.busy": "2021-08-25T09:36:56.397398Z",
     "iopub.status.idle": "2021-08-25T09:36:57.885647Z",
     "shell.execute_reply": "2021-08-25T09:36:57.884332Z",
     "shell.execute_reply.started": "2021-08-25T09:36:56.397774Z"
    }
   },
   "outputs": [
    {
     "data": {
      "text/plain": [
       "<matplotlib.axes._subplots.AxesSubplot at 0x7f0bbd11bb38>"
      ]
     },
     "execution_count": 16,
     "metadata": {},
     "output_type": "execute_result"
    },
    {
     "data": {
      "image/png": "[encoded data removed]",
      "text/plain": [
       "<Figure size 432x288 with 2 Axes>"
      ]
     },
     "metadata": {
      "needs_background": "light"
     },
     "output_type": "display_data"
    }
   ],
   "source": [
    "# use a heat map to estimate the amount of missing values\n",
    "# define colors\n",
    "# yellow - missing data, blue - not missing\n",
    "colours = ['#009999', '#ffff00'] \n",
    "sns.heatmap(data.isnull(), cmap=sns.color_palette(colours))"
   ]
  },
  {
   "cell_type": "markdown",
   "metadata": {
    "_cell_guid": "489856e9-9b5a-4331-87ea-93cf3903d585",
    "_uuid": "76a995c0-0ff7-4027-8ae6-667a8f95be9d"
   },
   "source": [
    "## 1. NAN processing\n",
    "The presence of missing values can have various reasons, but the NAN values must either be filled in or excluded from the dataset completely. But we have to be careful with NANs, even the absence of information can be an important feature!\n",
    "So before NAN processing it would be better to take out information about the presence of NAN value as a separate feature."
   ]
  },
  {
   "cell_type": "code",
   "execution_count": 17,
   "metadata": {
    "execution": {
     "iopub.execute_input": "2021-08-25T09:36:57.888752Z",
     "iopub.status.busy": "2021-08-25T09:36:57.888039Z",
     "iopub.status.idle": "2021-08-25T09:36:57.960841Z",
     "shell.execute_reply": "2021-08-25T09:36:57.959636Z",
     "shell.execute_reply.started": "2021-08-25T09:36:57.888478Z"
    }
   },
   "outputs": [
    {
     "data": {
      "text/plain": [
       "restaurant_id            0\n",
       "city                     0\n",
       "cuisine_style        11590\n",
       "ranking                  0\n",
       "price_range          17361\n",
       "number_of_reviews     3200\n",
       "reviews                  2\n",
       "url_ta                   0\n",
       "id_ta                    0\n",
       "sample                   0\n",
       "rating                   0\n",
       "dtype: int64"
      ]
     },
     "execution_count": 17,
     "metadata": {},
     "output_type": "execute_result"
    }
   ],
   "source": [
    "# determine the number of NAN values to work with\n",
    "data.isnull().sum()"
   ]
  },
  {
   "cell_type": "code",
   "execution_count": 18,
   "metadata": {
    "_cell_guid": "81b833c6-f9c6-44f3-a62a-03e5ed5b93c1",
    "_uuid": "9cefd022-4112-430b-8506-e59dca50bf47",
    "collapsed": false,
    "execution": {
     "iopub.execute_input": "2021-08-25T09:36:57.963853Z",
     "iopub.status.busy": "2021-08-25T09:36:57.963202Z",
     "iopub.status.idle": "2021-08-25T09:36:58.020229Z",
     "shell.execute_reply": "2021-08-25T09:36:58.019308Z",
     "shell.execute_reply.started": "2021-08-25T09:36:57.963788Z"
    },
    "jupyter": {
     "outputs_hidden": false
    }
   },
   "outputs": [],
   "source": [
    "# create flags for records with no information\n",
    "data['number_of_reviews_isnan'] = pd.isna(data['number_of_reviews']).astype('uint8')\n",
    "data['reviews_isnan'] = pd.isna(data['reviews']).astype('uint8')\n",
    "data['cuisine_style_isnan'] = pd.isna(data['cuisine_style']).astype('uint8')\n",
    "data['price_range_isnan'] = pd.isna(data['price_range']).astype('uint8')\n",
    "\n",
    "data['reviews'] = data['reviews'].fillna('[[], []]')\n",
    "data['reviews_isnan'] = (data['reviews'] == '[[], []]').astype('float64')\n"
   ]
  },
  {
   "cell_type": "code",
   "execution_count": 19,
   "metadata": {
    "execution": {
     "iopub.execute_input": "2021-08-25T09:36:58.022423Z",
     "iopub.status.busy": "2021-08-25T09:36:58.021911Z",
     "iopub.status.idle": "2021-08-25T09:36:58.075654Z",
     "shell.execute_reply": "2021-08-25T09:36:58.074460Z",
     "shell.execute_reply.started": "2021-08-25T09:36:58.022377Z"
    }
   },
   "outputs": [
    {
     "data": {
      "text/plain": [
       "restaurant_id                  0\n",
       "city                           0\n",
       "cuisine_style              11590\n",
       "ranking                        0\n",
       "price_range                17361\n",
       "number_of_reviews           3200\n",
       "reviews                        0\n",
       "url_ta                         0\n",
       "id_ta                          0\n",
       "sample                         0\n",
       "rating                         0\n",
       "number_of_reviews_isnan        0\n",
       "reviews_isnan                  0\n",
       "cuisine_style_isnan            0\n",
       "price_range_isnan              0\n",
       "dtype: int64"
      ]
     },
     "execution_count": 19,
     "metadata": {},
     "output_type": "execute_result"
    }
   ],
   "source": [
    "data.isnull().sum()"
   ]
  },
  {
   "cell_type": "code",
   "execution_count": 20,
   "metadata": {
    "_cell_guid": "5df0538c-6796-4c8e-8e86-ab4fbe1f5bf5",
    "_uuid": "2182b353-206f-4d90-879d-977c0121d929",
    "collapsed": false,
    "execution": {
     "iopub.execute_input": "2021-08-25T09:36:58.079177Z",
     "iopub.status.busy": "2021-08-25T09:36:58.078670Z",
     "iopub.status.idle": "2021-08-25T09:36:58.093513Z",
     "shell.execute_reply": "2021-08-25T09:36:58.092375Z",
     "shell.execute_reply.started": "2021-08-25T09:36:58.079072Z"
    },
    "jupyter": {
     "outputs_hidden": false
    }
   },
   "outputs": [
    {
     "data": {
      "text/plain": [
       "0    46800\n",
       "1     3200\n",
       "Name: number_of_reviews_isnan, dtype: int64"
      ]
     },
     "execution_count": 20,
     "metadata": {},
     "output_type": "execute_result"
    }
   ],
   "source": [
    "data['number_of_reviews_isnan'].value_counts()"
   ]
  },
  {
   "cell_type": "code",
   "execution_count": 21,
   "metadata": {
    "_cell_guid": "caee7931-01af-4e0b-aa44-929646bb5874",
    "_uuid": "84b58a62-0042-4a4d-a4e8-110ceeb4e23c",
    "collapsed": false,
    "execution": {
     "iopub.execute_input": "2021-08-25T09:36:58.096619Z",
     "iopub.status.busy": "2021-08-25T09:36:58.096045Z",
     "iopub.status.idle": "2021-08-25T09:36:58.103049Z",
     "shell.execute_reply": "2021-08-25T09:36:58.101521Z",
     "shell.execute_reply.started": "2021-08-25T09:36:58.096423Z"
    },
    "jupyter": {
     "outputs_hidden": false
    }
   },
   "outputs": [],
   "source": [
    "# then fill in missing values with 0\n",
    "data['number_of_reviews'].fillna(0, inplace=True)"
   ]
  },
  {
   "cell_type": "code",
   "execution_count": 22,
   "metadata": {
    "execution": {
     "iopub.execute_input": "2021-08-25T09:36:58.106198Z",
     "iopub.status.busy": "2021-08-25T09:36:58.105647Z",
     "iopub.status.idle": "2021-08-25T09:36:58.123237Z",
     "shell.execute_reply": "2021-08-25T09:36:58.122329Z",
     "shell.execute_reply.started": "2021-08-25T09:36:58.106099Z"
    }
   },
   "outputs": [
    {
     "data": {
      "text/plain": [
       "False    50000\n",
       "Name: number_of_reviews, dtype: int64"
      ]
     },
     "execution_count": 22,
     "metadata": {},
     "output_type": "execute_result"
    }
   ],
   "source": [
    "data['number_of_reviews'].isna().value_counts()"
   ]
  },
  {
   "cell_type": "markdown",
   "metadata": {
    "_cell_guid": "15578b24-26cc-46ba-92a4-ed0786156668",
    "_uuid": "0ba82743-e693-4053-a9e0-420bcdb8c4c7"
   },
   "source": [
    "#### \"Price Range\""
   ]
  },
  {
   "cell_type": "code",
   "execution_count": 23,
   "metadata": {
    "_cell_guid": "a1f229af-9dad-459d-a2be-d394248ba126",
    "_uuid": "0e73de0d-0ef2-4dda-95d6-6cca1742ce6f",
    "collapsed": false,
    "execution": {
     "iopub.execute_input": "2021-08-25T09:36:58.126101Z",
     "iopub.status.busy": "2021-08-25T09:36:58.125644Z",
     "iopub.status.idle": "2021-08-25T09:36:58.149443Z",
     "shell.execute_reply": "2021-08-25T09:36:58.148156Z",
     "shell.execute_reply.started": "2021-08-25T09:36:58.126014Z"
    },
    "jupyter": {
     "outputs_hidden": false
    }
   },
   "outputs": [
    {
     "data": {
      "text/plain": [
       "$$ - $$$    23041\n",
       "$            7816\n",
       "$$$$         1782\n",
       "Name: price_range, dtype: int64"
      ]
     },
     "execution_count": 23,
     "metadata": {},
     "output_type": "execute_result"
    }
   ],
   "source": [
    "data['price_range'].value_counts()"
   ]
  },
  {
   "cell_type": "markdown",
   "metadata": {
    "_cell_guid": "c3337b28-8dbd-4709-8546-9805dde43e2b",
    "_uuid": "bef2604f-eb5c-45b1-8d6a-8d3c0ad11465"
   },
   "source": [
    "'Price Range' is the prices in the restaurant.\n",
    "They can be put in ascending order (so this is not a categorical feature). And this means that they can be replaced by consecutive numbers, for example 1,2,3."
   ]
  },
  {
   "cell_type": "code",
   "execution_count": 24,
   "metadata": {
    "execution": {
     "iopub.execute_input": "2021-08-25T09:36:58.151477Z",
     "iopub.status.busy": "2021-08-25T09:36:58.151178Z",
     "iopub.status.idle": "2021-08-25T09:36:58.192135Z",
     "shell.execute_reply": "2021-08-25T09:36:58.191158Z",
     "shell.execute_reply.started": "2021-08-25T09:36:58.151426Z"
    }
   },
   "outputs": [
    {
     "data": {
      "text/plain": [
       "$$ - $$$    31\n",
       "Name: price_range, dtype: int64"
      ]
     },
     "execution_count": 24,
     "metadata": {},
     "output_type": "execute_result"
    }
   ],
   "source": [
    "# the median is the same in all cities, the gaps can be filled with the median value\n",
    "data.groupby(['city'])['price_range'].agg(pd.Series.mode).value_counts()"
   ]
  },
  {
   "cell_type": "code",
   "execution_count": 25,
   "metadata": {
    "execution": {
     "iopub.execute_input": "2021-08-25T09:36:58.194030Z",
     "iopub.status.busy": "2021-08-25T09:36:58.193741Z",
     "iopub.status.idle": "2021-08-25T09:36:58.228925Z",
     "shell.execute_reply": "2021-08-25T09:36:58.227968Z",
     "shell.execute_reply.started": "2021-08-25T09:36:58.193979Z"
    }
   },
   "outputs": [],
   "source": [
    "# replace '$, $$-$$$, $$$$' with numeric features\n",
    "\n",
    "price_range_dict = {\n",
    "    '$': 1,\n",
    "    '$$ - $$$': 2,\n",
    "    '$$$$': 3,\n",
    "}\n",
    "\n",
    "data['price_range'].replace(price_range_dict, inplace=True)"
   ]
  },
  {
   "cell_type": "code",
   "execution_count": 26,
   "metadata": {
    "execution": {
     "iopub.execute_input": "2021-08-25T09:36:58.230986Z",
     "iopub.status.busy": "2021-08-25T09:36:58.230484Z",
     "iopub.status.idle": "2021-08-25T09:36:58.253314Z",
     "shell.execute_reply": "2021-08-25T09:36:58.252302Z",
     "shell.execute_reply.started": "2021-08-25T09:36:58.230938Z"
    }
   },
   "outputs": [],
   "source": [
    "# fill in the missing values with the median of the sample\n",
    "data['price_range'] = data['price_range'].fillna(data.groupby('city')['price_range'].transform('median'))"
   ]
  },
  {
   "cell_type": "code",
   "execution_count": 27,
   "metadata": {
    "execution": {
     "iopub.execute_input": "2021-08-25T09:36:58.255556Z",
     "iopub.status.busy": "2021-08-25T09:36:58.255023Z",
     "iopub.status.idle": "2021-08-25T09:36:58.278912Z",
     "shell.execute_reply": "2021-08-25T09:36:58.277779Z",
     "shell.execute_reply.started": "2021-08-25T09:36:58.255314Z"
    }
   },
   "outputs": [
    {
     "data": {
      "text/html": [
       "<div>\n",
       "<style scoped>\n",
       "    .dataframe tbody tr th:only-of-type {\n",
       "        vertical-align: middle;\n",
       "    }\n",
       "\n",
       "    .dataframe tbody tr th {\n",
       "        vertical-align: top;\n",
       "    }\n",
       "\n",
       "    .dataframe thead th {\n",
       "        text-align: right;\n",
       "    }\n",
       "</style>\n",
       "<table border=\"1\" class=\"dataframe\">\n",
       "  <thead>\n",
       "    <tr style=\"text-align: right;\">\n",
       "      <th></th>\n",
       "      <th>restaurant_id</th>\n",
       "      <th>city</th>\n",
       "      <th>cuisine_style</th>\n",
       "      <th>ranking</th>\n",
       "      <th>price_range</th>\n",
       "      <th>number_of_reviews</th>\n",
       "      <th>reviews</th>\n",
       "      <th>url_ta</th>\n",
       "      <th>id_ta</th>\n",
       "      <th>sample</th>\n",
       "      <th>rating</th>\n",
       "      <th>number_of_reviews_isnan</th>\n",
       "      <th>reviews_isnan</th>\n",
       "      <th>cuisine_style_isnan</th>\n",
       "      <th>price_range_isnan</th>\n",
       "    </tr>\n",
       "  </thead>\n",
       "  <tbody>\n",
       "    <tr>\n",
       "      <th>0</th>\n",
       "      <td>id_0</td>\n",
       "      <td>Paris</td>\n",
       "      <td>['Bar', 'Pub']</td>\n",
       "      <td>12963.0</td>\n",
       "      <td>2.0</td>\n",
       "      <td>4.0</td>\n",
       "      <td>[[], []]</td>\n",
       "      <td>/Restaurant_Review-g187147-d10746918-Reviews-L...</td>\n",
       "      <td>d10746918</td>\n",
       "      <td>0</td>\n",
       "      <td>0.0</td>\n",
       "      <td>0</td>\n",
       "      <td>1.0</td>\n",
       "      <td>0</td>\n",
       "      <td>0</td>\n",
       "    </tr>\n",
       "    <tr>\n",
       "      <th>1</th>\n",
       "      <td>id_1</td>\n",
       "      <td>Helsinki</td>\n",
       "      <td>['European', 'Scandinavian', 'Gluten Free Opti...</td>\n",
       "      <td>106.0</td>\n",
       "      <td>2.0</td>\n",
       "      <td>97.0</td>\n",
       "      <td>[['Very good reviews!', 'Fine dining in Hakani...</td>\n",
       "      <td>/Restaurant_Review-g189934-d6674944-Reviews-Ra...</td>\n",
       "      <td>d6674944</td>\n",
       "      <td>0</td>\n",
       "      <td>0.0</td>\n",
       "      <td>0</td>\n",
       "      <td>0.0</td>\n",
       "      <td>0</td>\n",
       "      <td>0</td>\n",
       "    </tr>\n",
       "    <tr>\n",
       "      <th>2</th>\n",
       "      <td>id_2</td>\n",
       "      <td>Edinburgh</td>\n",
       "      <td>['Vegetarian Friendly']</td>\n",
       "      <td>810.0</td>\n",
       "      <td>2.0</td>\n",
       "      <td>28.0</td>\n",
       "      <td>[['Better than the Links', 'Ivy Black'], ['12/...</td>\n",
       "      <td>/Restaurant_Review-g186525-d13129638-Reviews-B...</td>\n",
       "      <td>d13129638</td>\n",
       "      <td>0</td>\n",
       "      <td>0.0</td>\n",
       "      <td>0</td>\n",
       "      <td>0.0</td>\n",
       "      <td>0</td>\n",
       "      <td>0</td>\n",
       "    </tr>\n",
       "    <tr>\n",
       "      <th>3</th>\n",
       "      <td>id_3</td>\n",
       "      <td>London</td>\n",
       "      <td>['Italian', 'Mediterranean', 'European', 'Vege...</td>\n",
       "      <td>1669.0</td>\n",
       "      <td>3.0</td>\n",
       "      <td>202.0</td>\n",
       "      <td>[['Most exquisite', 'Delicious and authentic']...</td>\n",
       "      <td>/Restaurant_Review-g186338-d680417-Reviews-Qui...</td>\n",
       "      <td>d680417</td>\n",
       "      <td>0</td>\n",
       "      <td>0.0</td>\n",
       "      <td>0</td>\n",
       "      <td>0.0</td>\n",
       "      <td>0</td>\n",
       "      <td>0</td>\n",
       "    </tr>\n",
       "    <tr>\n",
       "      <th>4</th>\n",
       "      <td>id_4</td>\n",
       "      <td>Bratislava</td>\n",
       "      <td>['Italian', 'Mediterranean', 'European', 'Seaf...</td>\n",
       "      <td>37.0</td>\n",
       "      <td>3.0</td>\n",
       "      <td>162.0</td>\n",
       "      <td>[['Always the best in bratislava', 'Very good ...</td>\n",
       "      <td>/Restaurant_Review-g274924-d1112354-Reviews-Ma...</td>\n",
       "      <td>d1112354</td>\n",
       "      <td>0</td>\n",
       "      <td>0.0</td>\n",
       "      <td>0</td>\n",
       "      <td>0.0</td>\n",
       "      <td>0</td>\n",
       "      <td>0</td>\n",
       "    </tr>\n",
       "  </tbody>\n",
       "</table>\n",
       "</div>"
      ],
      "text/plain": [
       "  restaurant_id        city  \\\n",
       "0          id_0       Paris   \n",
       "1          id_1    Helsinki   \n",
       "2          id_2   Edinburgh   \n",
       "3          id_3      London   \n",
       "4          id_4  Bratislava   \n",
       "\n",
       "                                       cuisine_style  ranking  price_range  \\\n",
       "0                                     ['Bar', 'Pub']  12963.0          2.0   \n",
       "1  ['European', 'Scandinavian', 'Gluten Free Opti...    106.0          2.0   \n",
       "2                            ['Vegetarian Friendly']    810.0          2.0   \n",
       "3  ['Italian', 'Mediterranean', 'European', 'Vege...   1669.0          3.0   \n",
       "4  ['Italian', 'Mediterranean', 'European', 'Seaf...     37.0          3.0   \n",
       "\n",
       "   number_of_reviews                                            reviews  \\\n",
       "0                4.0                                           [[], []]   \n",
       "1               97.0  [['Very good reviews!', 'Fine dining in Hakani...   \n",
       "2               28.0  [['Better than the Links', 'Ivy Black'], ['12/...   \n",
       "3              202.0  [['Most exquisite', 'Delicious and authentic']...   \n",
       "4              162.0  [['Always the best in bratislava', 'Very good ...   \n",
       "\n",
       "                                              url_ta      id_ta  sample  \\\n",
       "0  /Restaurant_Review-g187147-d10746918-Reviews-L...  d10746918       0   \n",
       "1  /Restaurant_Review-g189934-d6674944-Reviews-Ra...   d6674944       0   \n",
       "2  /Restaurant_Review-g186525-d13129638-Reviews-B...  d13129638       0   \n",
       "3  /Restaurant_Review-g186338-d680417-Reviews-Qui...    d680417       0   \n",
       "4  /Restaurant_Review-g274924-d1112354-Reviews-Ma...   d1112354       0   \n",
       "\n",
       "   rating  number_of_reviews_isnan  reviews_isnan  cuisine_style_isnan  \\\n",
       "0     0.0                        0            1.0                    0   \n",
       "1     0.0                        0            0.0                    0   \n",
       "2     0.0                        0            0.0                    0   \n",
       "3     0.0                        0            0.0                    0   \n",
       "4     0.0                        0            0.0                    0   \n",
       "\n",
       "   price_range_isnan  \n",
       "0                  0  \n",
       "1                  0  \n",
       "2                  0  \n",
       "3                  0  \n",
       "4                  0  "
      ]
     },
     "execution_count": 27,
     "metadata": {},
     "output_type": "execute_result"
    }
   ],
   "source": [
    "data.head(5)"
   ]
  },
  {
   "cell_type": "markdown",
   "metadata": {},
   "source": [
    "#### \"Cuisine Style\""
   ]
  },
  {
   "cell_type": "code",
   "execution_count": 28,
   "metadata": {
    "execution": {
     "iopub.execute_input": "2021-08-25T09:36:58.280649Z",
     "iopub.status.busy": "2021-08-25T09:36:58.280382Z",
     "iopub.status.idle": "2021-08-25T09:36:58.294499Z",
     "shell.execute_reply": "2021-08-25T09:36:58.293473Z",
     "shell.execute_reply.started": "2021-08-25T09:36:58.280604Z"
    }
   },
   "outputs": [],
   "source": [
    "# fill missing values with category Other\n",
    "data['cuisine_style'] = data['cuisine_style'].fillna(\"['Other']\")"
   ]
  },
  {
   "cell_type": "code",
   "execution_count": 29,
   "metadata": {
    "execution": {
     "iopub.execute_input": "2021-08-25T09:36:58.296115Z",
     "iopub.status.busy": "2021-08-25T09:36:58.295691Z",
     "iopub.status.idle": "2021-08-25T09:36:58.331791Z",
     "shell.execute_reply": "2021-08-25T09:36:58.330954Z",
     "shell.execute_reply.started": "2021-08-25T09:36:58.296072Z"
    }
   },
   "outputs": [
    {
     "data": {
      "text/plain": [
       "['Other']                                                                                               11590\n",
       "['Italian']                                                                                              1332\n",
       "['French']                                                                                               1019\n",
       "['Spanish']                                                                                               860\n",
       "['French', 'European']                                                                                    503\n",
       "                                                                                                        ...  \n",
       "['Bar', 'British', 'Pub', 'Cafe', 'Gastropub', 'Vegan Options', 'Gluten Free Options']                      1\n",
       "['Brew Pub', 'Cafe', 'International', 'Vegetarian Friendly', 'Vegan Options', 'Gluten Free Options']        1\n",
       "['Sushi', 'Spanish', 'European', 'Vegetarian Friendly']                                                     1\n",
       "['Bar', 'Pizza', 'British', 'Vegetarian Friendly', 'Gluten Free Options']                                   1\n",
       "['Seafood', 'Healthy', 'Soups']                                                                             1\n",
       "Name: cuisine_style, Length: 10732, dtype: int64"
      ]
     },
     "execution_count": 29,
     "metadata": {},
     "output_type": "execute_result"
    }
   ],
   "source": [
    "data['cuisine_style'].value_counts()"
   ]
  },
  {
   "cell_type": "code",
   "execution_count": 30,
   "metadata": {
    "execution": {
     "iopub.execute_input": "2021-08-25T09:36:58.333523Z",
     "iopub.status.busy": "2021-08-25T09:36:58.333230Z",
     "iopub.status.idle": "2021-08-25T09:36:58.378950Z",
     "shell.execute_reply": "2021-08-25T09:36:58.378068Z",
     "shell.execute_reply.started": "2021-08-25T09:36:58.333469Z"
    }
   },
   "outputs": [
    {
     "name": "stdout",
     "output_type": "stream",
     "text": [
      "<class 'pandas.core.frame.DataFrame'>\n",
      "RangeIndex: 50000 entries, 0 to 49999\n",
      "Data columns (total 15 columns):\n",
      "restaurant_id              50000 non-null object\n",
      "city                       50000 non-null object\n",
      "cuisine_style              50000 non-null object\n",
      "ranking                    50000 non-null float64\n",
      "price_range                50000 non-null float64\n",
      "number_of_reviews          50000 non-null float64\n",
      "reviews                    50000 non-null object\n",
      "url_ta                     50000 non-null object\n",
      "id_ta                      50000 non-null object\n",
      "sample                     50000 non-null int64\n",
      "rating                     50000 non-null float64\n",
      "number_of_reviews_isnan    50000 non-null uint8\n",
      "reviews_isnan              50000 non-null float64\n",
      "cuisine_style_isnan        50000 non-null uint8\n",
      "price_range_isnan          50000 non-null uint8\n",
      "dtypes: float64(5), int64(1), object(6), uint8(3)\n",
      "memory usage: 4.7+ MB\n"
     ]
    }
   ],
   "source": [
    "data.info()"
   ]
  },
  {
   "cell_type": "markdown",
   "metadata": {
    "_cell_guid": "ce852a48-722e-4fe0-9312-3b9fa042191e",
    "_uuid": "dab14e3a-c4c4-42b8-b32e-89e2cadc4e51"
   },
   "source": [
    "### 2. Feature processing\n"
   ]
  },
  {
   "cell_type": "code",
   "execution_count": 31,
   "metadata": {
    "execution": {
     "iopub.execute_input": "2021-08-25T09:36:58.380974Z",
     "iopub.status.busy": "2021-08-25T09:36:58.380663Z",
     "iopub.status.idle": "2021-08-25T09:36:58.553974Z",
     "shell.execute_reply": "2021-08-25T09:36:58.553085Z",
     "shell.execute_reply.started": "2021-08-25T09:36:58.380919Z"
    }
   },
   "outputs": [
    {
     "data": {
      "text/plain": [
       "restaurant_id              13094\n",
       "city                          31\n",
       "cuisine_style              10732\n",
       "ranking                    12975\n",
       "price_range                    3\n",
       "number_of_reviews           1574\n",
       "reviews                    41857\n",
       "url_ta                     49963\n",
       "id_ta                      49963\n",
       "sample                         2\n",
       "rating                        10\n",
       "number_of_reviews_isnan        2\n",
       "reviews_isnan                  2\n",
       "cuisine_style_isnan            2\n",
       "price_range_isnan              2\n",
       "dtype: int64"
      ]
     },
     "execution_count": 31,
     "metadata": {},
     "output_type": "execute_result"
    }
   ],
   "source": [
    "# let's see what features are categorical\n",
    "data.nunique(dropna=False)"
   ]
  },
  {
   "cell_type": "code",
   "execution_count": 32,
   "metadata": {
    "execution": {
     "iopub.execute_input": "2021-08-25T09:36:58.562002Z",
     "iopub.status.busy": "2021-08-25T09:36:58.561611Z",
     "iopub.status.idle": "2021-08-25T09:36:58.573777Z",
     "shell.execute_reply": "2021-08-25T09:36:58.572443Z",
     "shell.execute_reply.started": "2021-08-25T09:36:58.561932Z"
    }
   },
   "outputs": [
    {
     "name": "stdout",
     "output_type": "stream",
     "text": [
      "restaurant_id <class 'str'>\n",
      "city <class 'str'>\n",
      "cuisine_style <class 'str'>\n",
      "ranking <class 'numpy.float64'>\n",
      "price_range <class 'numpy.float64'>\n",
      "number_of_reviews <class 'numpy.float64'>\n",
      "reviews <class 'str'>\n",
      "url_ta <class 'str'>\n",
      "id_ta <class 'str'>\n",
      "sample <class 'numpy.int64'>\n",
      "rating <class 'numpy.float64'>\n",
      "number_of_reviews_isnan <class 'numpy.uint8'>\n",
      "reviews_isnan <class 'numpy.float64'>\n",
      "cuisine_style_isnan <class 'numpy.uint8'>\n",
      "price_range_isnan <class 'numpy.uint8'>\n"
     ]
    }
   ],
   "source": [
    "# determine what type of data in each of the columns of the dataset belongs to\n",
    "\n",
    "for column in data.columns:\n",
    "    print(column, type(data[column][0]))"
   ]
  },
  {
   "cell_type": "code",
   "execution_count": 33,
   "metadata": {
    "execution": {
     "iopub.execute_input": "2021-08-25T09:36:58.576039Z",
     "iopub.status.busy": "2021-08-25T09:36:58.575675Z",
     "iopub.status.idle": "2021-08-25T09:36:58.856619Z",
     "shell.execute_reply": "2021-08-25T09:36:58.855415Z",
     "shell.execute_reply.started": "2021-08-25T09:36:58.575989Z"
    }
   },
   "outputs": [
    {
     "data": {
      "text/plain": [
       "count      50000\n",
       "unique        31\n",
       "top       London\n",
       "freq        7193\n",
       "Name: city, dtype: object"
      ]
     },
     "metadata": {},
     "output_type": "display_data"
    },
    {
     "data": {
      "text/plain": [
       "count         50000\n",
       "unique        10732\n",
       "top       ['Other']\n",
       "freq          11590\n",
       "Name: cuisine_style, dtype: object"
      ]
     },
     "metadata": {},
     "output_type": "display_data"
    },
    {
     "data": {
      "text/plain": [
       "count        50000\n",
       "unique       41857\n",
       "top       [[], []]\n",
       "freq          8114\n",
       "Name: reviews, dtype: object"
      ]
     },
     "metadata": {},
     "output_type": "display_data"
    },
    {
     "data": {
      "text/plain": [
       "count                                                 50000\n",
       "unique                                                49963\n",
       "top       /Restaurant_Review-g187514-d9877640-Reviews-Ra...\n",
       "freq                                                      2\n",
       "Name: url_ta, dtype: object"
      ]
     },
     "metadata": {},
     "output_type": "display_data"
    },
    {
     "data": {
      "text/plain": [
       "count        50000\n",
       "unique       49963\n",
       "top       d7809594\n",
       "freq             2\n",
       "Name: id_ta, dtype: object"
      ]
     },
     "metadata": {},
     "output_type": "display_data"
    }
   ],
   "source": [
    "for col in ['city', 'cuisine_style', 'reviews', 'url_ta', 'id_ta']:\n",
    "    display(data[col].describe())"
   ]
  },
  {
   "cell_type": "markdown",
   "metadata": {},
   "source": [
    "#### \"City\""
   ]
  },
  {
   "cell_type": "code",
   "execution_count": 34,
   "metadata": {
    "execution": {
     "iopub.execute_input": "2021-08-25T09:36:58.858961Z",
     "iopub.status.busy": "2021-08-25T09:36:58.858563Z",
     "iopub.status.idle": "2021-08-25T09:36:58.924593Z",
     "shell.execute_reply": "2021-08-25T09:36:58.923495Z",
     "shell.execute_reply.started": "2021-08-25T09:36:58.858886Z"
    }
   },
   "outputs": [
    {
     "name": "stdout",
     "output_type": "stream",
     "text": [
      "количество ресторанов по городам: {'Amsterdam': 1372, 'Athens': 776, 'Barcelona': 3395, 'Berlin': 2705, 'Bratislava': 380, 'Brussels': 1314, 'Budapest': 1021, 'Copenhagen': 819, 'Dublin': 836, 'Edinburgh': 745, 'Geneva': 590, 'Hamburg': 1186, 'Helsinki': 475, 'Krakow': 554, 'Lisbon': 1647, 'Ljubljana': 222, 'London': 7193, 'Luxembourg': 263, 'Lyon': 1126, 'Madrid': 3813, 'Milan': 2694, 'Munich': 1145, 'Oporto': 642, 'Oslo': 488, 'Paris': 6108, 'Prague': 1816, 'Rome': 2589, 'Stockholm': 1033, 'Vienna': 1443, 'Warsaw': 925, 'Zurich': 685}\n"
     ]
    }
   ],
   "source": [
    "# firstly we make a copy of the 'city' column - it will be useful to us later\n",
    "data['city_copy'] = data['city']\n",
    "# pandas has a function for One-Hot Encoding - get_dummies\n",
    "amount_of_cities = len(data['city'].unique())\n",
    "data = pd.get_dummies(data, columns=['city'], prefix='', prefix_sep='',dummy_na=False)\n",
    "city_sum = {}\n",
    "for city in data.columns[-amount_of_cities:]:\n",
    "    city_sum[city] = data[city].sum()\n",
    "print(\"количество ресторанов по городам:\", city_sum)"
   ]
  },
  {
   "cell_type": "code",
   "execution_count": 35,
   "metadata": {
    "execution": {
     "iopub.execute_input": "2021-08-25T09:36:58.926844Z",
     "iopub.status.busy": "2021-08-25T09:36:58.926436Z",
     "iopub.status.idle": "2021-08-25T09:36:58.960004Z",
     "shell.execute_reply": "2021-08-25T09:36:58.958961Z",
     "shell.execute_reply.started": "2021-08-25T09:36:58.926773Z"
    }
   },
   "outputs": [
    {
     "data": {
      "text/html": [
       "<div>\n",
       "<style scoped>\n",
       "    .dataframe tbody tr th:only-of-type {\n",
       "        vertical-align: middle;\n",
       "    }\n",
       "\n",
       "    .dataframe tbody tr th {\n",
       "        vertical-align: top;\n",
       "    }\n",
       "\n",
       "    .dataframe thead th {\n",
       "        text-align: right;\n",
       "    }\n",
       "</style>\n",
       "<table border=\"1\" class=\"dataframe\">\n",
       "  <thead>\n",
       "    <tr style=\"text-align: right;\">\n",
       "      <th></th>\n",
       "      <th>restaurant_id</th>\n",
       "      <th>cuisine_style</th>\n",
       "      <th>ranking</th>\n",
       "      <th>price_range</th>\n",
       "      <th>number_of_reviews</th>\n",
       "      <th>reviews</th>\n",
       "      <th>url_ta</th>\n",
       "      <th>id_ta</th>\n",
       "      <th>sample</th>\n",
       "      <th>rating</th>\n",
       "      <th>...</th>\n",
       "      <th>Munich</th>\n",
       "      <th>Oporto</th>\n",
       "      <th>Oslo</th>\n",
       "      <th>Paris</th>\n",
       "      <th>Prague</th>\n",
       "      <th>Rome</th>\n",
       "      <th>Stockholm</th>\n",
       "      <th>Vienna</th>\n",
       "      <th>Warsaw</th>\n",
       "      <th>Zurich</th>\n",
       "    </tr>\n",
       "  </thead>\n",
       "  <tbody>\n",
       "    <tr>\n",
       "      <th>0</th>\n",
       "      <td>id_0</td>\n",
       "      <td>['Bar', 'Pub']</td>\n",
       "      <td>12963.0</td>\n",
       "      <td>2.0</td>\n",
       "      <td>4.0</td>\n",
       "      <td>[[], []]</td>\n",
       "      <td>/Restaurant_Review-g187147-d10746918-Reviews-L...</td>\n",
       "      <td>d10746918</td>\n",
       "      <td>0</td>\n",
       "      <td>0.0</td>\n",
       "      <td>...</td>\n",
       "      <td>0</td>\n",
       "      <td>0</td>\n",
       "      <td>0</td>\n",
       "      <td>1</td>\n",
       "      <td>0</td>\n",
       "      <td>0</td>\n",
       "      <td>0</td>\n",
       "      <td>0</td>\n",
       "      <td>0</td>\n",
       "      <td>0</td>\n",
       "    </tr>\n",
       "    <tr>\n",
       "      <th>1</th>\n",
       "      <td>id_1</td>\n",
       "      <td>['European', 'Scandinavian', 'Gluten Free Opti...</td>\n",
       "      <td>106.0</td>\n",
       "      <td>2.0</td>\n",
       "      <td>97.0</td>\n",
       "      <td>[['Very good reviews!', 'Fine dining in Hakani...</td>\n",
       "      <td>/Restaurant_Review-g189934-d6674944-Reviews-Ra...</td>\n",
       "      <td>d6674944</td>\n",
       "      <td>0</td>\n",
       "      <td>0.0</td>\n",
       "      <td>...</td>\n",
       "      <td>0</td>\n",
       "      <td>0</td>\n",
       "      <td>0</td>\n",
       "      <td>0</td>\n",
       "      <td>0</td>\n",
       "      <td>0</td>\n",
       "      <td>0</td>\n",
       "      <td>0</td>\n",
       "      <td>0</td>\n",
       "      <td>0</td>\n",
       "    </tr>\n",
       "    <tr>\n",
       "      <th>2</th>\n",
       "      <td>id_2</td>\n",
       "      <td>['Vegetarian Friendly']</td>\n",
       "      <td>810.0</td>\n",
       "      <td>2.0</td>\n",
       "      <td>28.0</td>\n",
       "      <td>[['Better than the Links', 'Ivy Black'], ['12/...</td>\n",
       "      <td>/Restaurant_Review-g186525-d13129638-Reviews-B...</td>\n",
       "      <td>d13129638</td>\n",
       "      <td>0</td>\n",
       "      <td>0.0</td>\n",
       "      <td>...</td>\n",
       "      <td>0</td>\n",
       "      <td>0</td>\n",
       "      <td>0</td>\n",
       "      <td>0</td>\n",
       "      <td>0</td>\n",
       "      <td>0</td>\n",
       "      <td>0</td>\n",
       "      <td>0</td>\n",
       "      <td>0</td>\n",
       "      <td>0</td>\n",
       "    </tr>\n",
       "    <tr>\n",
       "      <th>3</th>\n",
       "      <td>id_3</td>\n",
       "      <td>['Italian', 'Mediterranean', 'European', 'Vege...</td>\n",
       "      <td>1669.0</td>\n",
       "      <td>3.0</td>\n",
       "      <td>202.0</td>\n",
       "      <td>[['Most exquisite', 'Delicious and authentic']...</td>\n",
       "      <td>/Restaurant_Review-g186338-d680417-Reviews-Qui...</td>\n",
       "      <td>d680417</td>\n",
       "      <td>0</td>\n",
       "      <td>0.0</td>\n",
       "      <td>...</td>\n",
       "      <td>0</td>\n",
       "      <td>0</td>\n",
       "      <td>0</td>\n",
       "      <td>0</td>\n",
       "      <td>0</td>\n",
       "      <td>0</td>\n",
       "      <td>0</td>\n",
       "      <td>0</td>\n",
       "      <td>0</td>\n",
       "      <td>0</td>\n",
       "    </tr>\n",
       "    <tr>\n",
       "      <th>4</th>\n",
       "      <td>id_4</td>\n",
       "      <td>['Italian', 'Mediterranean', 'European', 'Seaf...</td>\n",
       "      <td>37.0</td>\n",
       "      <td>3.0</td>\n",
       "      <td>162.0</td>\n",
       "      <td>[['Always the best in bratislava', 'Very good ...</td>\n",
       "      <td>/Restaurant_Review-g274924-d1112354-Reviews-Ma...</td>\n",
       "      <td>d1112354</td>\n",
       "      <td>0</td>\n",
       "      <td>0.0</td>\n",
       "      <td>...</td>\n",
       "      <td>0</td>\n",
       "      <td>0</td>\n",
       "      <td>0</td>\n",
       "      <td>0</td>\n",
       "      <td>0</td>\n",
       "      <td>0</td>\n",
       "      <td>0</td>\n",
       "      <td>0</td>\n",
       "      <td>0</td>\n",
       "      <td>0</td>\n",
       "    </tr>\n",
       "  </tbody>\n",
       "</table>\n",
       "<p>5 rows × 46 columns</p>\n",
       "</div>"
      ],
      "text/plain": [
       "  restaurant_id                                      cuisine_style  ranking  \\\n",
       "0          id_0                                     ['Bar', 'Pub']  12963.0   \n",
       "1          id_1  ['European', 'Scandinavian', 'Gluten Free Opti...    106.0   \n",
       "2          id_2                            ['Vegetarian Friendly']    810.0   \n",
       "3          id_3  ['Italian', 'Mediterranean', 'European', 'Vege...   1669.0   \n",
       "4          id_4  ['Italian', 'Mediterranean', 'European', 'Seaf...     37.0   \n",
       "\n",
       "   price_range  number_of_reviews  \\\n",
       "0          2.0                4.0   \n",
       "1          2.0               97.0   \n",
       "2          2.0               28.0   \n",
       "3          3.0              202.0   \n",
       "4          3.0              162.0   \n",
       "\n",
       "                                             reviews  \\\n",
       "0                                           [[], []]   \n",
       "1  [['Very good reviews!', 'Fine dining in Hakani...   \n",
       "2  [['Better than the Links', 'Ivy Black'], ['12/...   \n",
       "3  [['Most exquisite', 'Delicious and authentic']...   \n",
       "4  [['Always the best in bratislava', 'Very good ...   \n",
       "\n",
       "                                              url_ta      id_ta  sample  \\\n",
       "0  /Restaurant_Review-g187147-d10746918-Reviews-L...  d10746918       0   \n",
       "1  /Restaurant_Review-g189934-d6674944-Reviews-Ra...   d6674944       0   \n",
       "2  /Restaurant_Review-g186525-d13129638-Reviews-B...  d13129638       0   \n",
       "3  /Restaurant_Review-g186338-d680417-Reviews-Qui...    d680417       0   \n",
       "4  /Restaurant_Review-g274924-d1112354-Reviews-Ma...   d1112354       0   \n",
       "\n",
       "   rating  ...  Munich  Oporto  Oslo  Paris Prague  Rome  Stockholm  Vienna  \\\n",
       "0     0.0  ...       0       0     0      1      0     0          0       0   \n",
       "1     0.0  ...       0       0     0      0      0     0          0       0   \n",
       "2     0.0  ...       0       0     0      0      0     0          0       0   \n",
       "3     0.0  ...       0       0     0      0      0     0          0       0   \n",
       "4     0.0  ...       0       0     0      0      0     0          0       0   \n",
       "\n",
       "   Warsaw  Zurich  \n",
       "0       0       0  \n",
       "1       0       0  \n",
       "2       0       0  \n",
       "3       0       0  \n",
       "4       0       0  \n",
       "\n",
       "[5 rows x 46 columns]"
      ]
     },
     "execution_count": 35,
     "metadata": {},
     "output_type": "execute_result"
    }
   ],
   "source": [
    "data.head(5)"
   ]
  },
  {
   "cell_type": "code",
   "execution_count": 36,
   "metadata": {
    "execution": {
     "iopub.execute_input": "2021-08-25T09:36:58.961682Z",
     "iopub.status.busy": "2021-08-25T09:36:58.961417Z",
     "iopub.status.idle": "2021-08-25T09:36:59.012965Z",
     "shell.execute_reply": "2021-08-25T09:36:59.011781Z",
     "shell.execute_reply.started": "2021-08-25T09:36:58.961637Z"
    }
   },
   "outputs": [
    {
     "data": {
      "text/html": [
       "<div>\n",
       "<style scoped>\n",
       "    .dataframe tbody tr th:only-of-type {\n",
       "        vertical-align: middle;\n",
       "    }\n",
       "\n",
       "    .dataframe tbody tr th {\n",
       "        vertical-align: top;\n",
       "    }\n",
       "\n",
       "    .dataframe thead th {\n",
       "        text-align: right;\n",
       "    }\n",
       "</style>\n",
       "<table border=\"1\" class=\"dataframe\">\n",
       "  <thead>\n",
       "    <tr style=\"text-align: right;\">\n",
       "      <th></th>\n",
       "      <th>restaurant_id</th>\n",
       "      <th>cuisine_style</th>\n",
       "      <th>ranking</th>\n",
       "      <th>price_range</th>\n",
       "      <th>number_of_reviews</th>\n",
       "      <th>reviews</th>\n",
       "      <th>url_ta</th>\n",
       "      <th>id_ta</th>\n",
       "      <th>sample</th>\n",
       "      <th>rating</th>\n",
       "      <th>...</th>\n",
       "      <th>Munich</th>\n",
       "      <th>Oporto</th>\n",
       "      <th>Oslo</th>\n",
       "      <th>Paris</th>\n",
       "      <th>Prague</th>\n",
       "      <th>Rome</th>\n",
       "      <th>Stockholm</th>\n",
       "      <th>Vienna</th>\n",
       "      <th>Warsaw</th>\n",
       "      <th>Zurich</th>\n",
       "    </tr>\n",
       "  </thead>\n",
       "  <tbody>\n",
       "    <tr>\n",
       "      <th>1547</th>\n",
       "      <td>id_1547</td>\n",
       "      <td>['Bar', 'Pub', 'European']</td>\n",
       "      <td>1399.0</td>\n",
       "      <td>2.0</td>\n",
       "      <td>14.0</td>\n",
       "      <td>[['An iconic bar at the Amsterdam Hilton', 'Gr...</td>\n",
       "      <td>/Restaurant_Review-g188590-d10779831-Reviews-H...</td>\n",
       "      <td>d10779831</td>\n",
       "      <td>0</td>\n",
       "      <td>0.0</td>\n",
       "      <td>...</td>\n",
       "      <td>0</td>\n",
       "      <td>0</td>\n",
       "      <td>0</td>\n",
       "      <td>0</td>\n",
       "      <td>0</td>\n",
       "      <td>0</td>\n",
       "      <td>0</td>\n",
       "      <td>0</td>\n",
       "      <td>0</td>\n",
       "      <td>0</td>\n",
       "    </tr>\n",
       "    <tr>\n",
       "      <th>16293</th>\n",
       "      <td>id_247</td>\n",
       "      <td>['French', 'Sushi', 'European', 'Asian', 'Vege...</td>\n",
       "      <td>248.0</td>\n",
       "      <td>2.0</td>\n",
       "      <td>115.0</td>\n",
       "      <td>[['Lunch', 'Nice place for corporate events'],...</td>\n",
       "      <td>/Restaurant_Review-g190356-d2704699-Reviews-Do...</td>\n",
       "      <td>d2704699</td>\n",
       "      <td>1</td>\n",
       "      <td>4.0</td>\n",
       "      <td>...</td>\n",
       "      <td>0</td>\n",
       "      <td>0</td>\n",
       "      <td>0</td>\n",
       "      <td>0</td>\n",
       "      <td>0</td>\n",
       "      <td>0</td>\n",
       "      <td>0</td>\n",
       "      <td>0</td>\n",
       "      <td>0</td>\n",
       "      <td>0</td>\n",
       "    </tr>\n",
       "    <tr>\n",
       "      <th>26312</th>\n",
       "      <td>id_1515</td>\n",
       "      <td>['Japanese', 'Sushi']</td>\n",
       "      <td>1518.0</td>\n",
       "      <td>2.0</td>\n",
       "      <td>12.0</td>\n",
       "      <td>[['Nice place, need to book in advance', 'Best...</td>\n",
       "      <td>/Restaurant_Review-g274707-d12402437-Reviews-R...</td>\n",
       "      <td>d12402437</td>\n",
       "      <td>1</td>\n",
       "      <td>4.0</td>\n",
       "      <td>...</td>\n",
       "      <td>0</td>\n",
       "      <td>0</td>\n",
       "      <td>0</td>\n",
       "      <td>0</td>\n",
       "      <td>1</td>\n",
       "      <td>0</td>\n",
       "      <td>0</td>\n",
       "      <td>0</td>\n",
       "      <td>0</td>\n",
       "      <td>0</td>\n",
       "    </tr>\n",
       "    <tr>\n",
       "      <th>17608</th>\n",
       "      <td>id_10473</td>\n",
       "      <td>['Japanese']</td>\n",
       "      <td>10475.0</td>\n",
       "      <td>1.0</td>\n",
       "      <td>47.0</td>\n",
       "      <td>[['Bentos just like in Japan!', 'Excellent ben...</td>\n",
       "      <td>/Restaurant_Review-g187147-d3620125-Reviews-Ha...</td>\n",
       "      <td>d3620125</td>\n",
       "      <td>1</td>\n",
       "      <td>4.0</td>\n",
       "      <td>...</td>\n",
       "      <td>0</td>\n",
       "      <td>0</td>\n",
       "      <td>0</td>\n",
       "      <td>1</td>\n",
       "      <td>0</td>\n",
       "      <td>0</td>\n",
       "      <td>0</td>\n",
       "      <td>0</td>\n",
       "      <td>0</td>\n",
       "      <td>0</td>\n",
       "    </tr>\n",
       "    <tr>\n",
       "      <th>41515</th>\n",
       "      <td>id_788</td>\n",
       "      <td>['Other']</td>\n",
       "      <td>789.0</td>\n",
       "      <td>2.0</td>\n",
       "      <td>3.0</td>\n",
       "      <td>[[], []]</td>\n",
       "      <td>/Restaurant_Review-g189934-d1204006-Reviews-Ra...</td>\n",
       "      <td>d1204006</td>\n",
       "      <td>1</td>\n",
       "      <td>4.0</td>\n",
       "      <td>...</td>\n",
       "      <td>0</td>\n",
       "      <td>0</td>\n",
       "      <td>0</td>\n",
       "      <td>0</td>\n",
       "      <td>0</td>\n",
       "      <td>0</td>\n",
       "      <td>0</td>\n",
       "      <td>0</td>\n",
       "      <td>0</td>\n",
       "      <td>0</td>\n",
       "    </tr>\n",
       "  </tbody>\n",
       "</table>\n",
       "<p>5 rows × 46 columns</p>\n",
       "</div>"
      ],
      "text/plain": [
       "      restaurant_id                                      cuisine_style  \\\n",
       "1547        id_1547                         ['Bar', 'Pub', 'European']   \n",
       "16293        id_247  ['French', 'Sushi', 'European', 'Asian', 'Vege...   \n",
       "26312       id_1515                              ['Japanese', 'Sushi']   \n",
       "17608      id_10473                                       ['Japanese']   \n",
       "41515        id_788                                          ['Other']   \n",
       "\n",
       "       ranking  price_range  number_of_reviews  \\\n",
       "1547    1399.0          2.0               14.0   \n",
       "16293    248.0          2.0              115.0   \n",
       "26312   1518.0          2.0               12.0   \n",
       "17608  10475.0          1.0               47.0   \n",
       "41515    789.0          2.0                3.0   \n",
       "\n",
       "                                                 reviews  \\\n",
       "1547   [['An iconic bar at the Amsterdam Hilton', 'Gr...   \n",
       "16293  [['Lunch', 'Nice place for corporate events'],...   \n",
       "26312  [['Nice place, need to book in advance', 'Best...   \n",
       "17608  [['Bentos just like in Japan!', 'Excellent ben...   \n",
       "41515                                           [[], []]   \n",
       "\n",
       "                                                  url_ta      id_ta  sample  \\\n",
       "1547   /Restaurant_Review-g188590-d10779831-Reviews-H...  d10779831       0   \n",
       "16293  /Restaurant_Review-g190356-d2704699-Reviews-Do...   d2704699       1   \n",
       "26312  /Restaurant_Review-g274707-d12402437-Reviews-R...  d12402437       1   \n",
       "17608  /Restaurant_Review-g187147-d3620125-Reviews-Ha...   d3620125       1   \n",
       "41515  /Restaurant_Review-g189934-d1204006-Reviews-Ra...   d1204006       1   \n",
       "\n",
       "       rating  ...  Munich  Oporto  Oslo  Paris Prague  Rome  Stockholm  \\\n",
       "1547      0.0  ...       0       0     0      0      0     0          0   \n",
       "16293     4.0  ...       0       0     0      0      0     0          0   \n",
       "26312     4.0  ...       0       0     0      0      1     0          0   \n",
       "17608     4.0  ...       0       0     0      1      0     0          0   \n",
       "41515     4.0  ...       0       0     0      0      0     0          0   \n",
       "\n",
       "       Vienna  Warsaw  Zurich  \n",
       "1547        0       0       0  \n",
       "16293       0       0       0  \n",
       "26312       0       0       0  \n",
       "17608       0       0       0  \n",
       "41515       0       0       0  \n",
       "\n",
       "[5 rows x 46 columns]"
      ]
     },
     "execution_count": 36,
     "metadata": {},
     "output_type": "execute_result"
    }
   ],
   "source": [
    "data.sample(5)"
   ]
  },
  {
   "cell_type": "markdown",
   "metadata": {},
   "source": [
    "#### \"Cuisine Style\""
   ]
  },
  {
   "cell_type": "code",
   "execution_count": 37,
   "metadata": {
    "execution": {
     "iopub.execute_input": "2021-08-25T09:36:59.014852Z",
     "iopub.status.busy": "2021-08-25T09:36:59.014569Z",
     "iopub.status.idle": "2021-08-25T09:36:59.589363Z",
     "shell.execute_reply": "2021-08-25T09:36:59.588205Z",
     "shell.execute_reply.started": "2021-08-25T09:36:59.014812Z"
    }
   },
   "outputs": [],
   "source": [
    "# get from rows in Cuisine Style column - lists\n",
    "data['cuisine_style'] = data['cuisine_style'].apply(lambda x: eval(x))"
   ]
  },
  {
   "cell_type": "code",
   "execution_count": 38,
   "metadata": {
    "execution": {
     "iopub.execute_input": "2021-08-25T09:36:59.591699Z",
     "iopub.status.busy": "2021-08-25T09:36:59.591350Z",
     "iopub.status.idle": "2021-08-25T09:36:59.634720Z",
     "shell.execute_reply": "2021-08-25T09:36:59.633711Z",
     "shell.execute_reply.started": "2021-08-25T09:36:59.591643Z"
    }
   },
   "outputs": [
    {
     "data": {
      "text/plain": [
       "0        2\n",
       "1        5\n",
       "2        1\n",
       "3        5\n",
       "4        6\n",
       "        ..\n",
       "49995    4\n",
       "49996    5\n",
       "49997    2\n",
       "49998    5\n",
       "49999    1\n",
       "Name: len_cuisines, Length: 50000, dtype: int64"
      ]
     },
     "execution_count": 38,
     "metadata": {},
     "output_type": "execute_result"
    }
   ],
   "source": [
    "# add a feature with the number of types of kitchens\n",
    "data['len_cuisines'] = data['cuisine_style'].apply(lambda x: len(x))\n",
    "data['len_cuisines']"
   ]
  },
  {
   "cell_type": "code",
   "execution_count": 39,
   "metadata": {
    "execution": {
     "iopub.execute_input": "2021-08-25T09:36:59.636742Z",
     "iopub.status.busy": "2021-08-25T09:36:59.636218Z",
     "iopub.status.idle": "2021-08-25T09:37:00.723714Z",
     "shell.execute_reply": "2021-08-25T09:37:00.722567Z",
     "shell.execute_reply.started": "2021-08-25T09:36:59.636687Z"
    }
   },
   "outputs": [],
   "source": [
    "data2 = data.copy()\n",
    "# add dummy variables for kitchen types\n",
    "style = data['cuisine_style'].explode()\n",
    "X = pd.get_dummies(style)\n",
    "index_list = pd.Index.tolist(X.index)\n",
    "Y = X.groupby(index_list).sum()\n",
    "data2 = data2.join(Y)"
   ]
  },
  {
   "cell_type": "code",
   "execution_count": 40,
   "metadata": {
    "execution": {
     "iopub.execute_input": "2021-08-25T09:37:00.725532Z",
     "iopub.status.busy": "2021-08-25T09:37:00.725200Z",
     "iopub.status.idle": "2021-08-25T09:37:01.058761Z",
     "shell.execute_reply": "2021-08-25T09:37:01.057443Z",
     "shell.execute_reply.started": "2021-08-25T09:37:00.725473Z"
    }
   },
   "outputs": [
    {
     "data": {
      "text/plain": [
       "array(['Afghani', 'African', 'Albanian', 'American', 'Arabic',\n",
       "       'Argentinean', 'Armenian', 'Asian', 'Australian', 'Austrian',\n",
       "       'Azerbaijani', 'Balti', 'Bangladeshi', 'Bar', 'Barbecue',\n",
       "       'Belgian', 'Brazilian', 'Brew Pub', 'British', 'Burmese', 'Cafe',\n",
       "       'Cajun & Creole', 'Cambodian', 'Canadian', 'Caribbean',\n",
       "       'Caucasian', 'Central American', 'Central Asian',\n",
       "       'Central European', 'Chilean', 'Chinese', 'Colombian',\n",
       "       'Contemporary', 'Croatian', 'Cuban', 'Czech', 'Danish',\n",
       "       'Delicatessen', 'Diner', 'Dutch', 'Eastern European', 'Ecuadorean',\n",
       "       'Egyptian', 'Ethiopian', 'European', 'Fast Food', 'Filipino',\n",
       "       'French', 'Fujian', 'Fusion', 'Gastropub', 'Georgian', 'German',\n",
       "       'Gluten Free Options', 'Greek', 'Grill', 'Halal', 'Hawaiian',\n",
       "       'Healthy', 'Hungarian', 'Indian', 'Indonesian', 'International',\n",
       "       'Irish', 'Israeli', 'Italian', 'Jamaican', 'Japanese', 'Korean',\n",
       "       'Kosher', 'Latin', 'Latvian', 'Lebanese', 'Malaysian',\n",
       "       'Mediterranean', 'Mexican', 'Middle Eastern', 'Minority Chinese',\n",
       "       'Mongolian', 'Moroccan', 'Native American', 'Nepali',\n",
       "       'New Zealand', 'Norwegian', 'Other', 'Pakistani', 'Persian',\n",
       "       'Peruvian', 'Pizza', 'Polish', 'Polynesian', 'Portuguese', 'Pub',\n",
       "       'Romanian', 'Russian', 'Salvadoran', 'Scandinavian', 'Scottish',\n",
       "       'Seafood', 'Singaporean', 'Slovenian', 'Soups', 'South American',\n",
       "       'Southwestern', 'Spanish', 'Sri Lankan', 'Steakhouse',\n",
       "       'Street Food', 'Sushi', 'Swedish', 'Swiss', 'Taiwanese', 'Thai',\n",
       "       'Tibetan', 'Tunisian', 'Turkish', 'Ukrainian', 'Uzbek',\n",
       "       'Vegan Options', 'Vegetarian Friendly', 'Venezuelan', 'Vietnamese',\n",
       "       'Welsh', 'Wine Bar', 'Xinjiang', 'Yunnan'], dtype=object)"
      ]
     },
     "execution_count": 40,
     "metadata": {},
     "output_type": "execute_result"
    }
   ],
   "source": [
    "# get a list of all kitchens\n",
    "cuisine_list = np.sort(data.cuisine_style.explode().unique())\n",
    "cuisine_list"
   ]
  },
  {
   "cell_type": "code",
   "execution_count": 41,
   "metadata": {
    "execution": {
     "iopub.execute_input": "2021-08-25T09:37:01.060882Z",
     "iopub.status.busy": "2021-08-25T09:37:01.060477Z",
     "iopub.status.idle": "2021-08-25T09:37:01.123922Z",
     "shell.execute_reply": "2021-08-25T09:37:01.123043Z",
     "shell.execute_reply.started": "2021-08-25T09:37:01.060809Z"
    }
   },
   "outputs": [
    {
     "data": {
      "text/plain": [
       "Vegetarian Friendly    14021\n",
       "European               12561\n",
       "Other                  11590\n",
       "Mediterranean           7820\n",
       "Italian                 7433\n",
       "Vegan Options           5684\n",
       "Gluten Free Options     5185\n",
       "Bar                     4094\n",
       "French                  3970\n",
       "Asian                   3786\n",
       "dtype: int64"
      ]
     },
     "execution_count": 41,
     "metadata": {},
     "output_type": "execute_result"
    }
   ],
   "source": [
    "\n",
    "cuisine_count = data2[['Afghani', 'African', 'Albanian', 'American', 'Arabic',\n",
    "       'Argentinean', 'Armenian', 'Asian', 'Australian', 'Austrian',\n",
    "       'Azerbaijani', 'Balti', 'Bangladeshi', 'Bar', 'Barbecue',\n",
    "       'Belgian', 'Brazilian', 'Brew Pub', 'British', 'Burmese', 'Cafe',\n",
    "       'Cajun & Creole', 'Cambodian', 'Canadian', 'Caribbean',\n",
    "       'Caucasian', 'Central American', 'Central Asian',\n",
    "       'Central European', 'Chilean', 'Chinese', 'Colombian',\n",
    "       'Contemporary', 'Croatian', 'Cuban', 'Czech', 'Danish',\n",
    "       'Delicatessen', 'Diner', 'Dutch', 'Eastern European', 'Ecuadorean',\n",
    "       'Egyptian', 'Ethiopian', 'European', 'Fast Food', 'Filipino',\n",
    "       'French', 'Fujian', 'Fusion', 'Gastropub', 'Georgian', 'German',\n",
    "       'Gluten Free Options', 'Greek', 'Grill', 'Halal', 'Hawaiian',\n",
    "       'Healthy', 'Hungarian', 'Indian', 'Indonesian', 'International',\n",
    "       'Irish', 'Israeli', 'Italian', 'Jamaican', 'Japanese', 'Korean',\n",
    "       'Kosher', 'Latin', 'Latvian', 'Lebanese', 'Malaysian',\n",
    "       'Mediterranean', 'Mexican', 'Middle Eastern', 'Minority Chinese',\n",
    "       'Mongolian', 'Moroccan', 'Native American', 'Nepali',\n",
    "       'New Zealand', 'Norwegian', 'Other', 'Pakistani', 'Persian',\n",
    "       'Peruvian', 'Pizza', 'Polish', 'Polynesian', 'Portuguese', 'Pub',\n",
    "       'Romanian', 'Russian', 'Salvadoran', 'Scandinavian', 'Scottish',\n",
    "       'Seafood', 'Singaporean', 'Slovenian', 'Soups', 'South American',\n",
    "       'Southwestern', 'Spanish', 'Sri Lankan', 'Steakhouse',\n",
    "       'Street Food', 'Sushi', 'Swedish', 'Swiss', 'Taiwanese', 'Thai',\n",
    "       'Tibetan', 'Tunisian', 'Turkish', 'Ukrainian', 'Uzbek',\n",
    "       'Vegan Options', 'Vegetarian Friendly', 'Venezuelan', 'Vietnamese',\n",
    "       'Welsh', 'Wine Bar', 'Xinjiang', 'Yunnan']].sum()\n",
    "cuisine_count.sort_values(ascending=False)[0:10]"
   ]
  },
  {
   "cell_type": "code",
   "execution_count": 42,
   "metadata": {
    "execution": {
     "iopub.execute_input": "2021-08-25T09:37:01.125457Z",
     "iopub.status.busy": "2021-08-25T09:37:01.125149Z",
     "iopub.status.idle": "2021-08-25T09:37:01.135517Z",
     "shell.execute_reply": "2021-08-25T09:37:01.134691Z",
     "shell.execute_reply.started": "2021-08-25T09:37:01.125406Z"
    }
   },
   "outputs": [],
   "source": [
    "# create 2 new features by kitchen groups\n",
    "data['cuisine_style_1'] = data2['European'] + data2['Vegetarian Friendly']\n",
    "data['cuisine_style_2'] = data2['Italian'] + data2['Mediterranean'] + data2['Other']"
   ]
  },
  {
   "cell_type": "markdown",
   "metadata": {},
   "source": [
    "#### \"Reviews\""
   ]
  },
  {
   "cell_type": "code",
   "execution_count": 43,
   "metadata": {
    "execution": {
     "iopub.execute_input": "2021-08-25T09:37:01.136978Z",
     "iopub.status.busy": "2021-08-25T09:37:01.136735Z",
     "iopub.status.idle": "2021-08-25T09:37:01.590453Z",
     "shell.execute_reply": "2021-08-25T09:37:01.589367Z",
     "shell.execute_reply.started": "2021-08-25T09:37:01.136942Z"
    }
   },
   "outputs": [],
   "source": [
    "# convert date columns to datetime format\n",
    "# let's take columns with the most recent reviews and with \"review frequency\" - the difference in dates between reviews\n",
    "\n",
    "pattern = re.compile('\\d\\d/\\d\\d/\\d\\d\\d\\d')\n",
    "data['reviews'] = data['reviews'].fillna('')\n",
    "data['review_dates'] = data['reviews'].apply(lambda x: pattern.findall(x))\n",
    "data['review_1'] = data['review_dates'].apply(lambda x: x[:1])\n",
    "data['review_2'] = data['review_dates'].apply(lambda x: x[1:])"
   ]
  },
  {
   "cell_type": "code",
   "execution_count": 44,
   "metadata": {
    "execution": {
     "iopub.execute_input": "2021-08-25T09:37:01.592527Z",
     "iopub.status.busy": "2021-08-25T09:37:01.592198Z",
     "iopub.status.idle": "2021-08-25T09:37:04.943656Z",
     "shell.execute_reply": "2021-08-25T09:37:04.942226Z",
     "shell.execute_reply.started": "2021-08-25T09:37:01.592474Z"
    }
   },
   "outputs": [],
   "source": [
    "# fill in the NANs with the most common value for each review column\n",
    "for i in range(len(data['review_1'])):\n",
    "    if len(data['review_1'][i]) == 0:\n",
    "        data['review_1'][i].append('01/07/2018')\n",
    "for i in range(len(data['review_2'])):\n",
    "    if len(data['review_2'][i]) == 0:\n",
    "        data['review_2'][i].append('01/03/2018')"
   ]
  },
  {
   "cell_type": "code",
   "execution_count": 45,
   "metadata": {
    "execution": {
     "iopub.execute_input": "2021-08-25T09:37:04.945549Z",
     "iopub.status.busy": "2021-08-25T09:37:04.945206Z",
     "iopub.status.idle": "2021-08-25T09:37:06.400732Z",
     "shell.execute_reply": "2021-08-25T09:37:06.399490Z",
     "shell.execute_reply.started": "2021-08-25T09:37:04.945489Z"
    }
   },
   "outputs": [],
   "source": [
    "# convert to datetime format\n",
    "data['review_1'] = data['review_1'].apply(\n",
    "                   lambda x: datetime.strptime(x[0], '%m/%d/%Y'))\n",
    "data['review_2'] = data['review_2'].apply(\n",
    "                   lambda x: datetime.strptime(x[0], '%m/%d/%Y'))\n",
    "data.drop(['review_dates'], axis=1, inplace=True)"
   ]
  },
  {
   "cell_type": "code",
   "execution_count": 46,
   "metadata": {
    "execution": {
     "iopub.execute_input": "2021-08-25T09:37:06.402660Z",
     "iopub.status.busy": "2021-08-25T09:37:06.402304Z",
     "iopub.status.idle": "2021-08-25T09:37:07.152989Z",
     "shell.execute_reply": "2021-08-25T09:37:07.151795Z",
     "shell.execute_reply.started": "2021-08-25T09:37:06.402599Z"
    }
   },
   "outputs": [],
   "source": [
    "# create a new feature 'review_update' with a difference in days between reviews\n",
    "data['review_update'] = data['review_1'] - data['review_2']\n",
    "data['review_update'] = data['review_update'].apply(lambda x: x.days)"
   ]
  },
  {
   "cell_type": "code",
   "execution_count": 47,
   "metadata": {
    "execution": {
     "iopub.execute_input": "2021-08-25T09:37:07.154867Z",
     "iopub.status.busy": "2021-08-25T09:37:07.154531Z",
     "iopub.status.idle": "2021-08-25T09:37:08.638836Z",
     "shell.execute_reply": "2021-08-25T09:37:08.637583Z",
     "shell.execute_reply.started": "2021-08-25T09:37:07.154808Z"
    }
   },
   "outputs": [],
   "source": [
    "# create a new feature 'last_review'\n",
    "# highlight the most recent reviews\n",
    "new_review = data['review_1'].max()\n",
    "data['new_review'] = data['review_1'].apply(\n",
    "                         lambda x: (new_review - x).days)"
   ]
  },
  {
   "cell_type": "code",
   "execution_count": 48,
   "metadata": {
    "execution": {
     "iopub.execute_input": "2021-08-25T09:37:08.641286Z",
     "iopub.status.busy": "2021-08-25T09:37:08.640875Z",
     "iopub.status.idle": "2021-08-25T09:37:08.651475Z",
     "shell.execute_reply": "2021-08-25T09:37:08.650330Z",
     "shell.execute_reply.started": "2021-08-25T09:37:08.641219Z"
    }
   },
   "outputs": [],
   "source": [
    "# population of cities according to wikipedia.org\n",
    "city_pop_dict = {\n",
    "    'Paris': 2187526,\n",
    "    'Stockholm': 975551,\n",
    "    'London': 8982000,\n",
    "    'Berlin': 3769000,\n",
    "    'Munich': 1472000,\n",
    "    'Oporto': 214349,\n",
    "    'Milan': 1352000,\n",
    "    'Bratislava': 424428,\n",
    "    'Vienna': 1897000,\n",
    "    'Rome': 2873000,\n",
    "    'Barcelona': 5575000,\n",
    "    'Madrid': 6642000,\n",
    "    'Dublin': 1388000,\n",
    "    'Brussels': 174383,\n",
    "    'Zurich': 402762,\n",
    "    'Warsaw': 1708000,\n",
    "    'Budapest': 1752000,\n",
    "    'Copenhagen': 602481,\n",
    "    'Amsterdam': 821752,\n",
    "    'Lyon': 513275,\n",
    "    'Hamburg': 1845000,\n",
    "    'Lisbon': 504718,\n",
    "    'Prague': 1309000,\n",
    "    'Oslo': 681067,\n",
    "    'Helsinki': 631695,\n",
    "    'Edinburgh': 482005,\n",
    "    'Geneva': 499480,\n",
    "    'Ljubljana': 279631,\n",
    "    'Athens': 664046,\n",
    "    'Luxembourg': 124528,\n",
    "    'Krakow': 762508\n",
    "}"
   ]
  },
  {
   "cell_type": "code",
   "execution_count": 49,
   "metadata": {
    "execution": {
     "iopub.execute_input": "2021-08-25T09:37:08.655316Z",
     "iopub.status.busy": "2021-08-25T09:37:08.654692Z",
     "iopub.status.idle": "2021-08-25T09:37:08.678551Z",
     "shell.execute_reply": "2021-08-25T09:37:08.677327Z",
     "shell.execute_reply.started": "2021-08-25T09:37:08.655250Z"
    }
   },
   "outputs": [],
   "source": [
    " data['population'] = data['city_copy'].map(city_pop_dict)"
   ]
  },
  {
   "cell_type": "code",
   "execution_count": 50,
   "metadata": {
    "execution": {
     "iopub.execute_input": "2021-08-25T09:37:08.680860Z",
     "iopub.status.busy": "2021-08-25T09:37:08.680261Z",
     "iopub.status.idle": "2021-08-25T09:37:08.801023Z",
     "shell.execute_reply": "2021-08-25T09:37:08.799970Z",
     "shell.execute_reply.started": "2021-08-25T09:37:08.680641Z"
    }
   },
   "outputs": [],
   "source": [
    "# create feature 'Review to Population' - the ratio of the number of reviews to the population:\n",
    "data['review_to_population'] = data['number_of_reviews'] / data['population']"
   ]
  },
  {
   "cell_type": "code",
   "execution_count": 51,
   "metadata": {
    "execution": {
     "iopub.execute_input": "2021-08-25T09:37:08.803009Z",
     "iopub.status.busy": "2021-08-25T09:37:08.802722Z",
     "iopub.status.idle": "2021-08-25T09:37:29.778244Z",
     "shell.execute_reply": "2021-08-25T09:37:29.776980Z",
     "shell.execute_reply.started": "2021-08-25T09:37:08.802968Z"
    }
   },
   "outputs": [],
   "source": [
    "# create the feature 'Relative_Ranking' - rank relative to the number of restaurants in this city:\n",
    "def rel_rank(row, c_s):\n",
    "    #функция деления ранга ресторана на количество ресторанов\n",
    "    # в городе по данным датасета\n",
    "    for i in c_s.keys():\n",
    "        if row[i] == 1:\n",
    "            res = row['ranking']/c_s[i]\n",
    "    return res\n",
    "\n",
    "data['relative_ranking'] = data.apply(lambda x: rel_rank(x, city_sum), axis=1)"
   ]
  },
  {
   "cell_type": "code",
   "execution_count": 52,
   "metadata": {
    "execution": {
     "iopub.execute_input": "2021-08-25T09:37:29.780647Z",
     "iopub.status.busy": "2021-08-25T09:37:29.780050Z",
     "iopub.status.idle": "2021-08-25T09:37:29.788508Z",
     "shell.execute_reply": "2021-08-25T09:37:29.787543Z",
     "shell.execute_reply.started": "2021-08-25T09:37:29.780417Z"
    }
   },
   "outputs": [],
   "source": [
    "# create feature 'Rel_Rank to Population' - ratio of relative rank to population:\n",
    "data['rel_rank_to_population'] = data['relative_ranking'] / data['population']"
   ]
  },
  {
   "cell_type": "markdown",
   "metadata": {
    "_cell_guid": "35413c8c-fd6f-472e-bb0d-21df1db41f94",
    "_uuid": "7e381bb9-9d8f-4d1c-8530-f98ed25213fa"
   },
   "source": [
    "### Feature distribution"
   ]
  },
  {
   "cell_type": "markdown",
   "metadata": {},
   "source": [
    "#### \"Ranking\""
   ]
  },
  {
   "cell_type": "code",
   "execution_count": 53,
   "metadata": {
    "_cell_guid": "5a5b131c-9f23-4fab-bdda-cad26c7e43b1",
    "_uuid": "64a2dca6-5890-4f0b-a8e9-a585f77f5cea",
    "collapsed": false,
    "execution": {
     "iopub.execute_input": "2021-08-25T09:37:29.790161Z",
     "iopub.status.busy": "2021-08-25T09:37:29.789828Z",
     "iopub.status.idle": "2021-08-25T09:37:30.317176Z",
     "shell.execute_reply": "2021-08-25T09:37:30.315950Z",
     "shell.execute_reply.started": "2021-08-25T09:37:29.790091Z"
    },
    "jupyter": {
     "outputs_hidden": false
    }
   },
   "outputs": [
    {
     "data": {
      "text/plain": [
       "<matplotlib.axes._subplots.AxesSubplot at 0x7f0ba331c748>"
      ]
     },
     "execution_count": 53,
     "metadata": {},
     "output_type": "execute_result"
    },
    {
     "data": {
      "image/png": "[encoded data removed]",
      "text/plain": [
       "<Figure size 720x504 with 1 Axes>"
      ]
     },
     "metadata": {
      "needs_background": "light"
     },
     "output_type": "display_data"
    }
   ],
   "source": [
    "plt.rcParams['figure.figsize'] = (10,7)\n",
    "df_train['Ranking'].hist(bins=100)"
   ]
  },
  {
   "cell_type": "markdown",
   "metadata": {
    "_cell_guid": "7677331a-2274-4099-b7a3-369a4bd9e9b1",
    "_uuid": "5c171c68-eb1f-4e0a-9ef6-05bd2f8e568e"
   },
   "source": [
    "We have many restaurants that do not even reach 2500 places in their city, but what about the cities?"
   ]
  },
  {
   "cell_type": "code",
   "execution_count": 54,
   "metadata": {
    "_cell_guid": "244f6217-683d-4996-8632-e85711ba7c3a",
    "_uuid": "e8cad084-9d74-4374-a4ac-b9fb52719983",
    "collapsed": false,
    "execution": {
     "iopub.execute_input": "2021-08-25T09:37:30.320151Z",
     "iopub.status.busy": "2021-08-25T09:37:30.319374Z",
     "iopub.status.idle": "2021-08-25T09:37:30.806832Z",
     "shell.execute_reply": "2021-08-25T09:37:30.805685Z",
     "shell.execute_reply.started": "2021-08-25T09:37:30.320064Z"
    },
    "jupyter": {
     "outputs_hidden": false
    }
   },
   "outputs": [
    {
     "data": {
      "text/plain": [
       "<matplotlib.axes._subplots.AxesSubplot at 0x7f0b8c739be0>"
      ]
     },
     "execution_count": 54,
     "metadata": {},
     "output_type": "execute_result"
    },
    {
     "data": {
      "image/png": "[encoded data removed]",
      "text/plain": [
       "<Figure size 720x504 with 1 Axes>"
      ]
     },
     "metadata": {
      "needs_background": "light"
     },
     "output_type": "display_data"
    }
   ],
   "source": [
    "df_train['City'].value_counts(ascending=True).plot(kind='barh')"
   ]
  },
  {
   "cell_type": "code",
   "execution_count": 55,
   "metadata": {
    "_cell_guid": "42ccdec7-95ae-45b0-ba6c-7104682ee303",
    "_uuid": "29e66276-39c7-4b9e-a511-0b8f00d00c98",
    "collapsed": false,
    "execution": {
     "iopub.execute_input": "2021-08-25T09:37:30.809865Z",
     "iopub.status.busy": "2021-08-25T09:37:30.809050Z",
     "iopub.status.idle": "2021-08-25T09:37:31.333270Z",
     "shell.execute_reply": "2021-08-25T09:37:31.332047Z",
     "shell.execute_reply.started": "2021-08-25T09:37:30.809777Z"
    },
    "jupyter": {
     "outputs_hidden": false
    }
   },
   "outputs": [
    {
     "data": {
      "text/plain": [
       "<matplotlib.axes._subplots.AxesSubplot at 0x7f0bbd05bcf8>"
      ]
     },
     "execution_count": 55,
     "metadata": {},
     "output_type": "execute_result"
    },
    {
     "data": {
      "image/png": "[encoded data removed]",
      "text/plain": [
       "<Figure size 720x504 with 1 Axes>"
      ]
     },
     "metadata": {
      "needs_background": "light"
     },
     "output_type": "display_data"
    }
   ],
   "source": [
    "df_train['Ranking'][df_train['City'] =='London'].hist(bins=100)"
   ]
  },
  {
   "cell_type": "code",
   "execution_count": 56,
   "metadata": {
    "_cell_guid": "1b40c024-a717-45e6-a7c0-2c6213fa4022",
    "_uuid": "bcf56bcc-4157-4b60-adfb-45a4490afcdf",
    "collapsed": false,
    "execution": {
     "iopub.execute_input": "2021-08-25T09:37:31.336200Z",
     "iopub.status.busy": "2021-08-25T09:37:31.335457Z",
     "iopub.status.idle": "2021-08-25T09:37:34.193746Z",
     "shell.execute_reply": "2021-08-25T09:37:34.192437Z",
     "shell.execute_reply.started": "2021-08-25T09:37:31.336104Z"
    },
    "jupyter": {
     "outputs_hidden": false
    }
   },
   "outputs": [
    {
     "data": {
      "image/png": "[encoded data removed]",
      "text/plain": [
       "<Figure size 720x504 with 1 Axes>"
      ]
     },
     "metadata": {
      "needs_background": "light"
     },
     "output_type": "display_data"
    }
   ],
   "source": [
    "# Let's look at the top 10 cities\n",
    "# The plot clearly shows that Ranking directly depends on the number of restaurants in the city\n",
    "for x in (df_train['City'].value_counts())[0:10].index:\n",
    "    df_train['Ranking'][df_train['City'] == x].hist(bins=100)\n",
    "plt.show()"
   ]
  },
  {
   "cell_type": "code",
   "execution_count": 57,
   "metadata": {
    "execution": {
     "iopub.execute_input": "2021-08-25T09:37:34.196683Z",
     "iopub.status.busy": "2021-08-25T09:37:34.195904Z",
     "iopub.status.idle": "2021-08-25T09:37:34.207383Z",
     "shell.execute_reply": "2021-08-25T09:37:34.206433Z",
     "shell.execute_reply.started": "2021-08-25T09:37:34.196606Z"
    }
   },
   "outputs": [],
   "source": [
    "# check the distribution of the feature Ranking\n",
    "# function for calculating and visualizing outlier boundaries\n",
    "# displays calculated parameters of quantiles and distribution histograms and boxplot\n",
    "def show_IQR(pd_dataset, column_name, bins_n=10):\n",
    "    data_column = pd_dataset[column_name]\n",
    "    perc_25 = data_column.quantile(0.25, interpolation=\"midpoint\")\n",
    "    perc_75 = data_column.quantile(0.75, interpolation=\"midpoint\")\n",
    "    IQR = perc_75 - perc_25\n",
    "    print(f'Q1: {perc_25}\\nQ3: {perc_75}\\nIQR: {IQR}',\n",
    "          f'\\nГраница выбросов: [{perc_25 - 1.5*IQR}, {perc_75 + 1.5*IQR}]')\n",
    "    # гистограмма распределения: \n",
    "    plt.figure(figsize=(15, 5))\n",
    "    plt.subplot(121)\n",
    "    sns.distplot(data_column.values, bins=bins_n, color='#50248f')\n",
    "    plt.title(column_name + ' Distribution\\n', fontsize=15)\n",
    "    plt.xlabel(column_name)\n",
    "    plt.ylabel('Quantity (frequency)')\n",
    "\n",
    "    # boxplot: \n",
    "    plt.subplot(122)\n",
    "    sns.boxplot(data_column.values, color='#38d1ff')\n",
    "    plt.title(column_name + ' Distribution\\n', fontsize=15)\n",
    "    plt.xlabel(column_name)\n",
    "    return 0"
   ]
  },
  {
   "cell_type": "code",
   "execution_count": 58,
   "metadata": {
    "execution": {
     "iopub.execute_input": "2021-08-25T09:37:34.209446Z",
     "iopub.status.busy": "2021-08-25T09:37:34.208908Z",
     "iopub.status.idle": "2021-08-25T09:37:34.933515Z",
     "shell.execute_reply": "2021-08-25T09:37:34.932022Z",
     "shell.execute_reply.started": "2021-08-25T09:37:34.209173Z"
    }
   },
   "outputs": [
    {
     "name": "stdout",
     "output_type": "stream",
     "text": [
      "Q1: 972.0\n",
      "Q3: 5241.0\n",
      "IQR: 4269.0 \n",
      "Граница выбросов: [-5431.5, 11644.5]\n"
     ]
    },
    {
     "data": {
      "text/plain": [
       "0"
      ]
     },
     "execution_count": 58,
     "metadata": {},
     "output_type": "execute_result"
    },
    {
     "data": {
      "image/png": "[encoded data removed]",
      "text/plain": [
       "<Figure size 1080x360 with 2 Axes>"
      ]
     },
     "metadata": {
      "needs_background": "light"
     },
     "output_type": "display_data"
    }
   ],
   "source": [
    "show_IQR(data, \"ranking\", 100)"
   ]
  },
  {
   "cell_type": "code",
   "execution_count": 59,
   "metadata": {
    "execution": {
     "iopub.execute_input": "2021-08-25T09:37:34.936394Z",
     "iopub.status.busy": "2021-08-25T09:37:34.935883Z",
     "iopub.status.idle": "2021-08-25T09:37:34.941310Z",
     "shell.execute_reply": "2021-08-25T09:37:34.940097Z",
     "shell.execute_reply.started": "2021-08-25T09:37:34.936327Z"
    }
   },
   "outputs": [],
   "source": [
    "# Lower number - higher rank. It is distributed among the restaurants in the city.\n",
    "# so every city has a restaurant with the highest ranking, but not every city with a higher number"
   ]
  },
  {
   "cell_type": "code",
   "execution_count": 60,
   "metadata": {
    "execution": {
     "iopub.execute_input": "2021-08-25T09:37:34.944055Z",
     "iopub.status.busy": "2021-08-25T09:37:34.943312Z",
     "iopub.status.idle": "2021-08-25T09:37:34.998288Z",
     "shell.execute_reply": "2021-08-25T09:37:34.997084Z",
     "shell.execute_reply.started": "2021-08-25T09:37:34.943960Z"
    }
   },
   "outputs": [],
   "source": [
    "# create a copy of the 'ranking' feature\n",
    "data['ranking_copy'] = data['ranking'].copy()\n",
    "\n",
    "# normalize \"ranking\" relative to the maximum value in the dataset\n",
    "data['ranking'] = data.groupby(\n",
    "    'city_copy')['ranking'].apply(lambda x: x/x.max())"
   ]
  },
  {
   "cell_type": "code",
   "execution_count": 61,
   "metadata": {
    "execution": {
     "iopub.execute_input": "2021-08-25T09:37:35.000179Z",
     "iopub.status.busy": "2021-08-25T09:37:34.999829Z",
     "iopub.status.idle": "2021-08-25T09:37:38.962957Z",
     "shell.execute_reply": "2021-08-25T09:37:38.961614Z",
     "shell.execute_reply.started": "2021-08-25T09:37:35.000109Z"
    }
   },
   "outputs": [],
   "source": [
    "# add variables with the average, maximum and minimum ranks of the restaurant in the city\n",
    "ranking_mean_per_city = data.groupby('city_copy')['ranking'].mean()\n",
    "data['rating_mean_per_city'] = data.city_copy.map(ranking_mean_per_city)\n",
    "rank_city_min = data.groupby(['city_copy'])['ranking'].min().to_dict()\n",
    "rank_city_max = data.groupby(['city_copy'])['ranking'].max().to_dict()\n",
    "data['rank_city_min'] = data.city_copy.map(rank_city_min)\n",
    "data['rank_city_max'] = data.city_copy.map(rank_city_max)\n",
    "data['rank_norm'] = data.apply(lambda x: (\n",
    "    x['ranking'] - x['rank_city_min'])/(x['rank_city_max'] - \\\n",
    "                                        x['rank_city_min']), axis=1)"
   ]
  },
  {
   "cell_type": "markdown",
   "metadata": {
    "_cell_guid": "577e55ea-70b6-4649-a084-a287ca4cd88a",
    "_uuid": "b3aa4ccf-ced9-41f8-9cbb-3a5af318c9e1"
   },
   "source": [
    "### Let's look at the distribution of the target variable"
   ]
  },
  {
   "cell_type": "code",
   "execution_count": 62,
   "metadata": {
    "_cell_guid": "a1f1e190-d4fd-4243-8b51-d3b237065aaf",
    "_uuid": "bf07a28d-1749-4fb6-bcc2-12f30e4117e2",
    "collapsed": false,
    "execution": {
     "iopub.execute_input": "2021-08-25T09:37:38.965033Z",
     "iopub.status.busy": "2021-08-25T09:37:38.964681Z",
     "iopub.status.idle": "2021-08-25T09:37:39.264614Z",
     "shell.execute_reply": "2021-08-25T09:37:39.263170Z",
     "shell.execute_reply.started": "2021-08-25T09:37:38.964972Z"
    },
    "jupyter": {
     "outputs_hidden": false
    }
   },
   "outputs": [
    {
     "data": {
      "text/plain": [
       "<matplotlib.axes._subplots.AxesSubplot at 0x7f0b8c777eb8>"
      ]
     },
     "execution_count": 62,
     "metadata": {},
     "output_type": "execute_result"
    },
    {
     "data": {
      "image/png": "[encoded data removed]",
      "text/plain": [
       "<Figure size 720x504 with 1 Axes>"
      ]
     },
     "metadata": {
      "needs_background": "light"
     },
     "output_type": "display_data"
    }
   ],
   "source": [
    "df_train['Rating'].value_counts(ascending=True).plot(kind='barh')"
   ]
  },
  {
   "cell_type": "markdown",
   "metadata": {
    "_cell_guid": "50023cc3-a877-45b9-82e4-66c04d92285b",
    "_uuid": "77a52384-d6e3-4081-b826-441ce4d242fe"
   },
   "source": [
    "### Let's look at the distribution of the target variable relative to the feature"
   ]
  },
  {
   "cell_type": "code",
   "execution_count": 63,
   "metadata": {
    "_cell_guid": "8576f13f-5aac-46f3-bfae-f224c3a27f95",
    "_uuid": "f7ba19f0-1fc5-499e-bb63-a873ef83a279",
    "collapsed": false,
    "execution": {
     "iopub.execute_input": "2021-08-25T09:37:39.267441Z",
     "iopub.status.busy": "2021-08-25T09:37:39.266779Z",
     "iopub.status.idle": "2021-08-25T09:37:39.812571Z",
     "shell.execute_reply": "2021-08-25T09:37:39.811174Z",
     "shell.execute_reply.started": "2021-08-25T09:37:39.267188Z"
    },
    "jupyter": {
     "outputs_hidden": false
    }
   },
   "outputs": [
    {
     "data": {
      "text/plain": [
       "<matplotlib.axes._subplots.AxesSubplot at 0x7f0b8f6b7400>"
      ]
     },
     "execution_count": 63,
     "metadata": {},
     "output_type": "execute_result"
    },
    {
     "data": {
      "image/png": "[encoded data removed]",
      "text/plain": [
       "<Figure size 720x504 with 1 Axes>"
      ]
     },
     "metadata": {
      "needs_background": "light"
     },
     "output_type": "display_data"
    }
   ],
   "source": [
    "df_train['Ranking'][df_train['Rating'] == 5].hist(bins=100)"
   ]
  },
  {
   "cell_type": "code",
   "execution_count": 64,
   "metadata": {
    "_cell_guid": "8e3ea6bb-11bd-422a-9da5-17b5e5b67652",
    "_uuid": "8f0d0a6b-7b5b-459d-94ca-5d6289510938",
    "collapsed": false,
    "execution": {
     "iopub.execute_input": "2021-08-25T09:37:39.815357Z",
     "iopub.status.busy": "2021-08-25T09:37:39.814731Z",
     "iopub.status.idle": "2021-08-25T09:37:40.347223Z",
     "shell.execute_reply": "2021-08-25T09:37:40.346002Z",
     "shell.execute_reply.started": "2021-08-25T09:37:39.815116Z"
    },
    "jupyter": {
     "outputs_hidden": false
    }
   },
   "outputs": [
    {
     "data": {
      "text/plain": [
       "<matplotlib.axes._subplots.AxesSubplot at 0x7f0b8c6f5a58>"
      ]
     },
     "execution_count": 64,
     "metadata": {},
     "output_type": "execute_result"
    },
    {
     "data": {
      "image/png": "[encoded data removed]",
      "text/plain": [
       "<Figure size 720x504 with 1 Axes>"
      ]
     },
     "metadata": {
      "needs_background": "light"
     },
     "output_type": "display_data"
    }
   ],
   "source": [
    "df_train['Ranking'][df_train['Rating'] < 4].hist(bins=100)"
   ]
  },
  {
   "cell_type": "markdown",
   "metadata": {
    "_cell_guid": "8724e2ea-d9e7-414c-9ffb-801bea14fc33",
    "_uuid": "7a34a5b8-9f59-435a-9772-0f3c89ca1746"
   },
   "source": [
    "### Feature correlation"
   ]
  },
  {
   "cell_type": "code",
   "execution_count": 65,
   "metadata": {
    "_cell_guid": "226d351c-ea60-4f31-87cd-0e4df9a3e7aa",
    "_uuid": "9a611abf-4911-4391-9388-019ffe7e7808",
    "collapsed": false,
    "execution": {
     "iopub.execute_input": "2021-08-25T09:37:40.349762Z",
     "iopub.status.busy": "2021-08-25T09:37:40.349139Z",
     "iopub.status.idle": "2021-08-25T09:37:42.747632Z",
     "shell.execute_reply": "2021-08-25T09:37:42.746184Z",
     "shell.execute_reply.started": "2021-08-25T09:37:40.349698Z"
    },
    "jupyter": {
     "outputs_hidden": false
    }
   },
   "outputs": [
    {
     "data": {
      "text/plain": [
       "<matplotlib.axes._subplots.AxesSubplot at 0x7f0b8c69fc50>"
      ]
     },
     "execution_count": 65,
     "metadata": {},
     "output_type": "execute_result"
    },
    {
     "data": {
      "image/png": "[encoded data removed]",
      "text/plain": [
       "<Figure size 1080x720 with 2 Axes>"
      ]
     },
     "metadata": {
      "needs_background": "light"
     },
     "output_type": "display_data"
    }
   ],
   "source": [
    "plt.rcParams['figure.figsize'] = (15,10)\n",
    "sns.heatmap(data.drop(['sample'], axis=1).corr(),)"
   ]
  },
  {
   "cell_type": "markdown",
   "metadata": {
    "_cell_guid": "7be7c5a9-90b7-4f63-bfb6-3e392098d7bf",
    "_uuid": "3b1f5c2b-ff45-47db-afcd-7659e71f9344"
   },
   "source": [
    "# Data Preprocessing\n",
    "Now, for convenience and reproducibility of the code, we do all the processing in one big function"
   ]
  },
  {
   "cell_type": "code",
   "execution_count": 66,
   "metadata": {
    "execution": {
     "iopub.execute_input": "2021-08-25T09:37:42.749906Z",
     "iopub.status.busy": "2021-08-25T09:37:42.749473Z",
     "iopub.status.idle": "2021-08-25T09:37:42.818403Z",
     "shell.execute_reply": "2021-08-25T09:37:42.817391Z",
     "shell.execute_reply.started": "2021-08-25T09:37:42.749846Z"
    }
   },
   "outputs": [
    {
     "data": {
      "text/html": [
       "<div>\n",
       "<style scoped>\n",
       "    .dataframe tbody tr th:only-of-type {\n",
       "        vertical-align: middle;\n",
       "    }\n",
       "\n",
       "    .dataframe tbody tr th {\n",
       "        vertical-align: top;\n",
       "    }\n",
       "\n",
       "    .dataframe thead th {\n",
       "        text-align: right;\n",
       "    }\n",
       "</style>\n",
       "<table border=\"1\" class=\"dataframe\">\n",
       "  <thead>\n",
       "    <tr style=\"text-align: right;\">\n",
       "      <th></th>\n",
       "      <th>ranking</th>\n",
       "      <th>price_range</th>\n",
       "      <th>number_of_reviews</th>\n",
       "      <th>sample</th>\n",
       "      <th>rating</th>\n",
       "      <th>number_of_reviews_isnan</th>\n",
       "      <th>reviews_isnan</th>\n",
       "      <th>cuisine_style_isnan</th>\n",
       "      <th>price_range_isnan</th>\n",
       "      <th>Amsterdam</th>\n",
       "      <th>Athens</th>\n",
       "      <th>Barcelona</th>\n",
       "      <th>Berlin</th>\n",
       "      <th>Bratislava</th>\n",
       "      <th>Brussels</th>\n",
       "      <th>Budapest</th>\n",
       "      <th>Copenhagen</th>\n",
       "      <th>Dublin</th>\n",
       "      <th>Edinburgh</th>\n",
       "      <th>Geneva</th>\n",
       "      <th>Hamburg</th>\n",
       "      <th>Helsinki</th>\n",
       "      <th>Krakow</th>\n",
       "      <th>Lisbon</th>\n",
       "      <th>Ljubljana</th>\n",
       "      <th>London</th>\n",
       "      <th>Luxembourg</th>\n",
       "      <th>Lyon</th>\n",
       "      <th>Madrid</th>\n",
       "      <th>Milan</th>\n",
       "      <th>Munich</th>\n",
       "      <th>Oporto</th>\n",
       "      <th>Oslo</th>\n",
       "      <th>Paris</th>\n",
       "      <th>Prague</th>\n",
       "      <th>Rome</th>\n",
       "      <th>Stockholm</th>\n",
       "      <th>Vienna</th>\n",
       "      <th>Warsaw</th>\n",
       "      <th>Zurich</th>\n",
       "      <th>len_cuisines</th>\n",
       "      <th>cuisine_style_1</th>\n",
       "      <th>cuisine_style_2</th>\n",
       "      <th>review_update</th>\n",
       "      <th>new_review</th>\n",
       "      <th>population</th>\n",
       "      <th>review_to_population</th>\n",
       "      <th>relative_ranking</th>\n",
       "      <th>rel_rank_to_population</th>\n",
       "      <th>ranking_copy</th>\n",
       "      <th>rating_mean_per_city</th>\n",
       "      <th>rank_city_min</th>\n",
       "      <th>rank_city_max</th>\n",
       "      <th>rank_norm</th>\n",
       "    </tr>\n",
       "  </thead>\n",
       "  <tbody>\n",
       "    <tr>\n",
       "      <th>0</th>\n",
       "      <td>0.926855</td>\n",
       "      <td>2.0</td>\n",
       "      <td>4.0</td>\n",
       "      <td>0</td>\n",
       "      <td>0.0</td>\n",
       "      <td>0</td>\n",
       "      <td>1.0</td>\n",
       "      <td>0</td>\n",
       "      <td>0</td>\n",
       "      <td>0</td>\n",
       "      <td>0</td>\n",
       "      <td>0</td>\n",
       "      <td>0</td>\n",
       "      <td>0</td>\n",
       "      <td>0</td>\n",
       "      <td>0</td>\n",
       "      <td>0</td>\n",
       "      <td>0</td>\n",
       "      <td>0</td>\n",
       "      <td>0</td>\n",
       "      <td>0</td>\n",
       "      <td>0</td>\n",
       "      <td>0</td>\n",
       "      <td>0</td>\n",
       "      <td>0</td>\n",
       "      <td>0</td>\n",
       "      <td>0</td>\n",
       "      <td>0</td>\n",
       "      <td>0</td>\n",
       "      <td>0</td>\n",
       "      <td>0</td>\n",
       "      <td>0</td>\n",
       "      <td>0</td>\n",
       "      <td>1</td>\n",
       "      <td>0</td>\n",
       "      <td>0</td>\n",
       "      <td>0</td>\n",
       "      <td>0</td>\n",
       "      <td>0</td>\n",
       "      <td>0</td>\n",
       "      <td>2</td>\n",
       "      <td>0</td>\n",
       "      <td>0</td>\n",
       "      <td>4</td>\n",
       "      <td>50</td>\n",
       "      <td>2187526</td>\n",
       "      <td>0.000002</td>\n",
       "      <td>2.122299</td>\n",
       "      <td>9.701821e-07</td>\n",
       "      <td>12963.0</td>\n",
       "      <td>0.496107</td>\n",
       "      <td>0.000215</td>\n",
       "      <td>1.0</td>\n",
       "      <td>0.926840</td>\n",
       "    </tr>\n",
       "    <tr>\n",
       "      <th>1</th>\n",
       "      <td>0.092901</td>\n",
       "      <td>2.0</td>\n",
       "      <td>97.0</td>\n",
       "      <td>0</td>\n",
       "      <td>0.0</td>\n",
       "      <td>0</td>\n",
       "      <td>0.0</td>\n",
       "      <td>0</td>\n",
       "      <td>0</td>\n",
       "      <td>0</td>\n",
       "      <td>0</td>\n",
       "      <td>0</td>\n",
       "      <td>0</td>\n",
       "      <td>0</td>\n",
       "      <td>0</td>\n",
       "      <td>0</td>\n",
       "      <td>0</td>\n",
       "      <td>0</td>\n",
       "      <td>0</td>\n",
       "      <td>0</td>\n",
       "      <td>0</td>\n",
       "      <td>1</td>\n",
       "      <td>0</td>\n",
       "      <td>0</td>\n",
       "      <td>0</td>\n",
       "      <td>0</td>\n",
       "      <td>0</td>\n",
       "      <td>0</td>\n",
       "      <td>0</td>\n",
       "      <td>0</td>\n",
       "      <td>0</td>\n",
       "      <td>0</td>\n",
       "      <td>0</td>\n",
       "      <td>0</td>\n",
       "      <td>0</td>\n",
       "      <td>0</td>\n",
       "      <td>0</td>\n",
       "      <td>0</td>\n",
       "      <td>0</td>\n",
       "      <td>0</td>\n",
       "      <td>5</td>\n",
       "      <td>2</td>\n",
       "      <td>0</td>\n",
       "      <td>37</td>\n",
       "      <td>83</td>\n",
       "      <td>631695</td>\n",
       "      <td>0.000154</td>\n",
       "      <td>0.223158</td>\n",
       "      <td>3.532684e-07</td>\n",
       "      <td>106.0</td>\n",
       "      <td>0.494506</td>\n",
       "      <td>0.003506</td>\n",
       "      <td>1.0</td>\n",
       "      <td>0.089710</td>\n",
       "    </tr>\n",
       "    <tr>\n",
       "      <th>2</th>\n",
       "      <td>0.458664</td>\n",
       "      <td>2.0</td>\n",
       "      <td>28.0</td>\n",
       "      <td>0</td>\n",
       "      <td>0.0</td>\n",
       "      <td>0</td>\n",
       "      <td>0.0</td>\n",
       "      <td>0</td>\n",
       "      <td>0</td>\n",
       "      <td>0</td>\n",
       "      <td>0</td>\n",
       "      <td>0</td>\n",
       "      <td>0</td>\n",
       "      <td>0</td>\n",
       "      <td>0</td>\n",
       "      <td>0</td>\n",
       "      <td>0</td>\n",
       "      <td>0</td>\n",
       "      <td>1</td>\n",
       "      <td>0</td>\n",
       "      <td>0</td>\n",
       "      <td>0</td>\n",
       "      <td>0</td>\n",
       "      <td>0</td>\n",
       "      <td>0</td>\n",
       "      <td>0</td>\n",
       "      <td>0</td>\n",
       "      <td>0</td>\n",
       "      <td>0</td>\n",
       "      <td>0</td>\n",
       "      <td>0</td>\n",
       "      <td>0</td>\n",
       "      <td>0</td>\n",
       "      <td>0</td>\n",
       "      <td>0</td>\n",
       "      <td>0</td>\n",
       "      <td>0</td>\n",
       "      <td>0</td>\n",
       "      <td>0</td>\n",
       "      <td>0</td>\n",
       "      <td>1</td>\n",
       "      <td>1</td>\n",
       "      <td>0</td>\n",
       "      <td>22</td>\n",
       "      <td>60</td>\n",
       "      <td>482005</td>\n",
       "      <td>0.000058</td>\n",
       "      <td>1.087248</td>\n",
       "      <td>2.255679e-06</td>\n",
       "      <td>810.0</td>\n",
       "      <td>0.501206</td>\n",
       "      <td>0.000566</td>\n",
       "      <td>1.0</td>\n",
       "      <td>0.458357</td>\n",
       "    </tr>\n",
       "  </tbody>\n",
       "</table>\n",
       "</div>"
      ],
      "text/plain": [
       "    ranking  price_range  number_of_reviews  sample  rating  \\\n",
       "0  0.926855          2.0                4.0       0     0.0   \n",
       "1  0.092901          2.0               97.0       0     0.0   \n",
       "2  0.458664          2.0               28.0       0     0.0   \n",
       "\n",
       "   number_of_reviews_isnan  reviews_isnan  cuisine_style_isnan  \\\n",
       "0                        0            1.0                    0   \n",
       "1                        0            0.0                    0   \n",
       "2                        0            0.0                    0   \n",
       "\n",
       "   price_range_isnan  Amsterdam  Athens  Barcelona  Berlin  Bratislava  \\\n",
       "0                  0          0       0          0       0           0   \n",
       "1                  0          0       0          0       0           0   \n",
       "2                  0          0       0          0       0           0   \n",
       "\n",
       "   Brussels  Budapest  Copenhagen  Dublin  Edinburgh  Geneva  Hamburg  \\\n",
       "0         0         0           0       0          0       0        0   \n",
       "1         0         0           0       0          0       0        0   \n",
       "2         0         0           0       0          1       0        0   \n",
       "\n",
       "   Helsinki  Krakow  Lisbon  Ljubljana  London  Luxembourg  Lyon  Madrid  \\\n",
       "0         0       0       0          0       0           0     0       0   \n",
       "1         1       0       0          0       0           0     0       0   \n",
       "2         0       0       0          0       0           0     0       0   \n",
       "\n",
       "   Milan  Munich  Oporto  Oslo  Paris  Prague  Rome  Stockholm  Vienna  \\\n",
       "0      0       0       0     0      1       0     0          0       0   \n",
       "1      0       0       0     0      0       0     0          0       0   \n",
       "2      0       0       0     0      0       0     0          0       0   \n",
       "\n",
       "   Warsaw  Zurich  len_cuisines  cuisine_style_1  cuisine_style_2  \\\n",
       "0       0       0             2                0                0   \n",
       "1       0       0             5                2                0   \n",
       "2       0       0             1                1                0   \n",
       "\n",
       "   review_update  new_review  population  review_to_population  \\\n",
       "0              4          50     2187526              0.000002   \n",
       "1             37          83      631695              0.000154   \n",
       "2             22          60      482005              0.000058   \n",
       "\n",
       "   relative_ranking  rel_rank_to_population  ranking_copy  \\\n",
       "0          2.122299            9.701821e-07       12963.0   \n",
       "1          0.223158            3.532684e-07         106.0   \n",
       "2          1.087248            2.255679e-06         810.0   \n",
       "\n",
       "   rating_mean_per_city  rank_city_min  rank_city_max  rank_norm  \n",
       "0              0.496107       0.000215            1.0   0.926840  \n",
       "1              0.494506       0.003506            1.0   0.089710  \n",
       "2              0.501206       0.000566            1.0   0.458357  "
      ]
     },
     "execution_count": 66,
     "metadata": {},
     "output_type": "execute_result"
    }
   ],
   "source": [
    "df_preproc = data.copy()\n",
    "\n",
    "# remove features that have not yet been processed\n",
    "# model on features with dtypes \"object\" will not be trained\n",
    "# just select them and drop them\n",
    "object_columns = [\n",
    "    s for s in df_preproc.columns if df_preproc[s].dtypes == 'object']\n",
    "df_preproc.drop(object_columns, axis=1, inplace=True)\n",
    "\n",
    "df_preproc.drop(['review_1', 'review_2'], axis = 1, inplace=True)\n",
    "\n",
    "pd.set_option('display.max_rows', 200) # показывать больше строк\n",
    "pd.set_option('display.max_columns', 200) # показывать больше колонок\n",
    "df_preproc.head(3)"
   ]
  },
  {
   "cell_type": "markdown",
   "metadata": {
    "_cell_guid": "eb445990-8cfe-4884-840c-f97a2b14a483",
    "_uuid": "2ab4b475-5d6b-4114-bc00-2fc57610826b"
   },
   "source": [
    "#### Run and check what happened"
   ]
  },
  {
   "cell_type": "code",
   "execution_count": 67,
   "metadata": {
    "_cell_guid": "3f8f07bf-84b8-4110-9749-99bcbba38479",
    "_uuid": "b4d88041-93aa-4a2c-9265-80abf57ce398",
    "collapsed": false,
    "execution": {
     "iopub.execute_input": "2021-08-25T09:37:42.820023Z",
     "iopub.status.busy": "2021-08-25T09:37:42.819771Z",
     "iopub.status.idle": "2021-08-25T09:37:42.844115Z",
     "shell.execute_reply": "2021-08-25T09:37:42.843075Z",
     "shell.execute_reply.started": "2021-08-25T09:37:42.819979Z"
    },
    "jupyter": {
     "outputs_hidden": false
    }
   },
   "outputs": [
    {
     "name": "stdout",
     "output_type": "stream",
     "text": [
      "<class 'pandas.core.frame.DataFrame'>\n",
      "RangeIndex: 50000 entries, 0 to 49999\n",
      "Data columns (total 54 columns):\n",
      "ranking                    50000 non-null float64\n",
      "price_range                50000 non-null float64\n",
      "number_of_reviews          50000 non-null float64\n",
      "sample                     50000 non-null int64\n",
      "rating                     50000 non-null float64\n",
      "number_of_reviews_isnan    50000 non-null uint8\n",
      "reviews_isnan              50000 non-null float64\n",
      "cuisine_style_isnan        50000 non-null uint8\n",
      "price_range_isnan          50000 non-null uint8\n",
      "Amsterdam                  50000 non-null uint8\n",
      "Athens                     50000 non-null uint8\n",
      "Barcelona                  50000 non-null uint8\n",
      "Berlin                     50000 non-null uint8\n",
      "Bratislava                 50000 non-null uint8\n",
      "Brussels                   50000 non-null uint8\n",
      "Budapest                   50000 non-null uint8\n",
      "Copenhagen                 50000 non-null uint8\n",
      "Dublin                     50000 non-null uint8\n",
      "Edinburgh                  50000 non-null uint8\n",
      "Geneva                     50000 non-null uint8\n",
      "Hamburg                    50000 non-null uint8\n",
      "Helsinki                   50000 non-null uint8\n",
      "Krakow                     50000 non-null uint8\n",
      "Lisbon                     50000 non-null uint8\n",
      "Ljubljana                  50000 non-null uint8\n",
      "London                     50000 non-null uint8\n",
      "Luxembourg                 50000 non-null uint8\n",
      "Lyon                       50000 non-null uint8\n",
      "Madrid                     50000 non-null uint8\n",
      "Milan                      50000 non-null uint8\n",
      "Munich                     50000 non-null uint8\n",
      "Oporto                     50000 non-null uint8\n",
      "Oslo                       50000 non-null uint8\n",
      "Paris                      50000 non-null uint8\n",
      "Prague                     50000 non-null uint8\n",
      "Rome                       50000 non-null uint8\n",
      "Stockholm                  50000 non-null uint8\n",
      "Vienna                     50000 non-null uint8\n",
      "Warsaw                     50000 non-null uint8\n",
      "Zurich                     50000 non-null uint8\n",
      "len_cuisines               50000 non-null int64\n",
      "cuisine_style_1            50000 non-null uint8\n",
      "cuisine_style_2            50000 non-null uint8\n",
      "review_update              50000 non-null int64\n",
      "new_review                 50000 non-null int64\n",
      "population                 50000 non-null int64\n",
      "review_to_population       50000 non-null float64\n",
      "relative_ranking           50000 non-null float64\n",
      "rel_rank_to_population     50000 non-null float64\n",
      "ranking_copy               50000 non-null float64\n",
      "rating_mean_per_city       50000 non-null float64\n",
      "rank_city_min              50000 non-null float64\n",
      "rank_city_max              50000 non-null float64\n",
      "rank_norm                  50000 non-null float64\n",
      "dtypes: float64(13), int64(5), uint8(36)\n",
      "memory usage: 8.6 MB\n"
     ]
    }
   ],
   "source": [
    "df_preproc.info()"
   ]
  },
  {
   "cell_type": "code",
   "execution_count": 68,
   "metadata": {
    "_cell_guid": "25f250a7-855a-44c4-903d-756bf91486be",
    "_uuid": "a0168e2f-a488-4bcf-8812-8f99a32f3c81",
    "collapsed": false,
    "execution": {
     "iopub.execute_input": "2021-08-25T09:37:42.845810Z",
     "iopub.status.busy": "2021-08-25T09:37:42.845537Z",
     "iopub.status.idle": "2021-08-25T09:37:42.884670Z",
     "shell.execute_reply": "2021-08-25T09:37:42.883684Z",
     "shell.execute_reply.started": "2021-08-25T09:37:42.845768Z"
    },
    "jupyter": {
     "outputs_hidden": false
    }
   },
   "outputs": [],
   "source": [
    "# now select the test part\n",
    "train_data = df_preproc.query('sample == 1').drop(['sample'], axis=1)\n",
    "test_data = df_preproc.query('sample == 0').drop(['sample'], axis=1)\n",
    "\n",
    "y = train_data.rating.values            # наш таргет\n",
    "X = train_data.drop(['rating'], axis=1)"
   ]
  },
  {
   "cell_type": "markdown",
   "metadata": {
    "_cell_guid": "233c345e-c2b8-44db-8a2a-591009d94f80",
    "_uuid": "9e7677f3-b207-4f20-aa60-c8fb27d1ef82"
   },
   "source": [
    "**Before sending our data for training, let's split the data into one more test and train for validation.\n",
    "This will help us check how well our model is performing before submitting a submission to kaggle.**"
   ]
  },
  {
   "cell_type": "code",
   "execution_count": 69,
   "metadata": {
    "_cell_guid": "161048f9-97b8-47bb-b5fe-a67ed60094f3",
    "_uuid": "c458fc88-0960-48f4-8e03-8f834a98b8d1",
    "collapsed": false,
    "execution": {
     "iopub.execute_input": "2021-08-25T09:37:42.886281Z",
     "iopub.status.busy": "2021-08-25T09:37:42.886006Z",
     "iopub.status.idle": "2021-08-25T09:37:42.906530Z",
     "shell.execute_reply": "2021-08-25T09:37:42.905317Z",
     "shell.execute_reply.started": "2021-08-25T09:37:42.886235Z"
    },
    "jupyter": {
     "outputs_hidden": false
    }
   },
   "outputs": [],
   "source": [
    "# use the special train_test_split function to split the test data\n",
    "# select 20% of the data for validation (parameter test_size)\n",
    "X_train, X_test, y_train, y_test = train_test_split(X, y, test_size=0.2, random_state=RANDOM_SEED)"
   ]
  },
  {
   "cell_type": "code",
   "execution_count": 70,
   "metadata": {
    "_cell_guid": "aa51134f-a65c-4a71-964f-0aa7493edd12",
    "_uuid": "98db5338-c4f1-43f3-b061-e857db7d5004",
    "collapsed": false,
    "execution": {
     "iopub.execute_input": "2021-08-25T09:37:42.908537Z",
     "iopub.status.busy": "2021-08-25T09:37:42.908213Z",
     "iopub.status.idle": "2021-08-25T09:37:42.914582Z",
     "shell.execute_reply": "2021-08-25T09:37:42.913802Z",
     "shell.execute_reply.started": "2021-08-25T09:37:42.908482Z"
    },
    "jupyter": {
     "outputs_hidden": false
    }
   },
   "outputs": [
    {
     "data": {
      "text/plain": [
       "((10000, 53), (40000, 53), (40000, 52), (32000, 52), (8000, 52))"
      ]
     },
     "execution_count": 70,
     "metadata": {},
     "output_type": "execute_result"
    }
   ],
   "source": [
    "# checking\n",
    "test_data.shape, train_data.shape, X.shape, X_train.shape, X_test.shape"
   ]
  },
  {
   "cell_type": "markdown",
   "metadata": {
    "_cell_guid": "cd513b27-2cb2-4704-8edf-81f65d938a9e",
    "_uuid": "c919892a-bb6a-47c5-a207-0490efbd6170"
   },
   "source": [
    "# Model"
   ]
  },
  {
   "cell_type": "code",
   "execution_count": 71,
   "metadata": {
    "_cell_guid": "44889a91-5de1-4df8-8ca1-5d6e8cc0aeb1",
    "_uuid": "37c01539-edef-46a4-97b7-cc48838df476",
    "collapsed": false,
    "execution": {
     "iopub.execute_input": "2021-08-25T09:37:42.916052Z",
     "iopub.status.busy": "2021-08-25T09:37:42.915739Z",
     "iopub.status.idle": "2021-08-25T09:37:43.109795Z",
     "shell.execute_reply": "2021-08-25T09:37:43.108841Z",
     "shell.execute_reply.started": "2021-08-25T09:37:42.916009Z"
    },
    "jupyter": {
     "outputs_hidden": false
    }
   },
   "outputs": [],
   "source": [
    "# import the necessary libraries:\n",
    "from sklearn.ensemble import RandomForestRegressor # инструмент для создания и обучения модели\n",
    "from sklearn import metrics # инструменты для оценки точности модели"
   ]
  },
  {
   "cell_type": "code",
   "execution_count": 72,
   "metadata": {
    "_cell_guid": "35d73330-0907-4981-b1bc-7795a46306cc",
    "_uuid": "21b0e8a6-35f5-44c1-ac58-aacede1c3752",
    "collapsed": false,
    "execution": {
     "iopub.execute_input": "2021-08-25T09:37:43.111699Z",
     "iopub.status.busy": "2021-08-25T09:37:43.111359Z",
     "iopub.status.idle": "2021-08-25T09:37:43.117339Z",
     "shell.execute_reply": "2021-08-25T09:37:43.115754Z",
     "shell.execute_reply.started": "2021-08-25T09:37:43.111640Z"
    },
    "jupyter": {
     "outputs_hidden": false
    }
   },
   "outputs": [],
   "source": [
    "# create a model\n",
    "model = RandomForestRegressor(n_estimators=100, verbose=1, n_jobs=-1, random_state=RANDOM_SEED)"
   ]
  },
  {
   "cell_type": "code",
   "execution_count": 73,
   "metadata": {
    "_cell_guid": "b6b3e9e2-2626-4d11-856c-47f3c0121f06",
    "_uuid": "66a4be70-a5c3-4eb2-b23f-48b23d5c3e69",
    "collapsed": false,
    "execution": {
     "iopub.execute_input": "2021-08-25T09:37:43.119282Z",
     "iopub.status.busy": "2021-08-25T09:37:43.118941Z",
     "iopub.status.idle": "2021-08-25T09:37:58.554465Z",
     "shell.execute_reply": "2021-08-25T09:37:58.553495Z",
     "shell.execute_reply.started": "2021-08-25T09:37:43.119224Z"
    },
    "jupyter": {
     "outputs_hidden": false
    }
   },
   "outputs": [
    {
     "name": "stderr",
     "output_type": "stream",
     "text": [
      "[Parallel(n_jobs=-1)]: Using backend ThreadingBackend with 4 concurrent workers.\n",
      "[Parallel(n_jobs=-1)]: Done  42 tasks      | elapsed:    6.6s\n",
      "[Parallel(n_jobs=-1)]: Done 100 out of 100 | elapsed:   15.1s finished\n",
      "[Parallel(n_jobs=4)]: Using backend ThreadingBackend with 4 concurrent workers.\n",
      "[Parallel(n_jobs=4)]: Done  42 tasks      | elapsed:    0.0s\n",
      "[Parallel(n_jobs=4)]: Done 100 out of 100 | elapsed:    0.1s finished\n"
     ]
    }
   ],
   "source": [
    "# train the model on the test dataset\n",
    "model.fit(X_train, y_train)\n",
    "\n",
    "# we use the trained model to predict the rating of restaurants in the test set\n",
    "# the predicted values are written to the y_pred\n",
    "y_pred = model.predict(X_test)"
   ]
  },
  {
   "cell_type": "code",
   "execution_count": 74,
   "metadata": {
    "execution": {
     "iopub.execute_input": "2021-08-25T09:37:58.556317Z",
     "iopub.status.busy": "2021-08-25T09:37:58.555988Z",
     "iopub.status.idle": "2021-08-25T09:37:58.564030Z",
     "shell.execute_reply": "2021-08-25T09:37:58.562938Z",
     "shell.execute_reply.started": "2021-08-25T09:37:58.556261Z"
    }
   },
   "outputs": [
    {
     "data": {
      "text/plain": [
       "array([4.5, 5. , 4.5, ..., 4.5, 4. , 4. ])"
      ]
     },
     "execution_count": 74,
     "metadata": {},
     "output_type": "execute_result"
    }
   ],
   "source": [
    "# rating rounding up to 0.5\n",
    "y_pred = (y_pred*2).round()/2\n",
    "y_pred"
   ]
  },
  {
   "cell_type": "code",
   "execution_count": 75,
   "metadata": {
    "_cell_guid": "0c4827f4-d735-4248-9641-a263f3e0e46c",
    "_uuid": "550e0f2b-4c74-4c68-b967-50586ad98596",
    "collapsed": false,
    "execution": {
     "iopub.execute_input": "2021-08-25T09:37:58.565885Z",
     "iopub.status.busy": "2021-08-25T09:37:58.565556Z",
     "iopub.status.idle": "2021-08-25T09:37:58.578637Z",
     "shell.execute_reply": "2021-08-25T09:37:58.577413Z",
     "shell.execute_reply.started": "2021-08-25T09:37:58.565783Z"
    },
    "jupyter": {
     "outputs_hidden": false
    }
   },
   "outputs": [
    {
     "name": "stdout",
     "output_type": "stream",
     "text": [
      "MAE: 0.1691875\n"
     ]
    }
   ],
   "source": [
    "# compare the predicted values (y_pred) with the real ones (y_test), and see how they differ on average\n",
    "# the metric is called Mean Absolute Error (MAE) and shows the average deviation of the predicted values from the actual ones\n",
    "print('MAE:', metrics.mean_absolute_error(y_test, y_pred))"
   ]
  },
  {
   "cell_type": "code",
   "execution_count": 76,
   "metadata": {
    "_cell_guid": "83760d7d-0480-4a74-89c1-2cd9cc3b358e",
    "_uuid": "f516912a-b284-4934-b142-22bef0dec188",
    "collapsed": false,
    "execution": {
     "iopub.execute_input": "2021-08-25T09:37:58.580254Z",
     "iopub.status.busy": "2021-08-25T09:37:58.579953Z",
     "iopub.status.idle": "2021-08-25T09:37:59.052618Z",
     "shell.execute_reply": "2021-08-25T09:37:59.051290Z",
     "shell.execute_reply.started": "2021-08-25T09:37:58.580206Z"
    },
    "jupyter": {
     "outputs_hidden": false
    }
   },
   "outputs": [
    {
     "data": {
      "text/plain": [
       "<matplotlib.axes._subplots.AxesSubplot at 0x7f0b8f383400>"
      ]
     },
     "execution_count": 76,
     "metadata": {},
     "output_type": "execute_result"
    },
    {
     "data": {
      "image/png": "[encoded data removed]",
      "text/plain": [
       "<Figure size 720x720 with 1 Axes>"
      ]
     },
     "metadata": {
      "needs_background": "light"
     },
     "output_type": "display_data"
    }
   ],
   "source": [
    "# in RandomForestRegressor it is possible to display the most important features for the model\n",
    "plt.rcParams['figure.figsize'] = (10,10)\n",
    "feat_importances = pd.Series(model.feature_importances_, index=X.columns)\n",
    "feat_importances.nlargest(15).plot(kind='barh')"
   ]
  },
  {
   "cell_type": "markdown",
   "metadata": {
    "_cell_guid": "3c4b7e2a-aa58-4abf-b876-e3726e1f61a3",
    "_uuid": "a021be51-b61a-4b1c-b25a-d8e6f740b5d8"
   },
   "source": [
    "# Submission"
   ]
  },
  {
   "cell_type": "code",
   "execution_count": 77,
   "metadata": {
    "_cell_guid": "ec53b570-1003-4fbf-9628-04cf13e7f929",
    "_uuid": "f550b9ab-edec-4354-b91c-880ff0ee5cdf",
    "collapsed": false,
    "execution": {
     "iopub.execute_input": "2021-08-25T09:37:59.055565Z",
     "iopub.status.busy": "2021-08-25T09:37:59.054790Z",
     "iopub.status.idle": "2021-08-25T09:37:59.109772Z",
     "shell.execute_reply": "2021-08-25T09:37:59.108679Z",
     "shell.execute_reply.started": "2021-08-25T09:37:59.055496Z"
    },
    "jupyter": {
     "outputs_hidden": false
    }
   },
   "outputs": [
    {
     "data": {
      "text/html": [
       "<div>\n",
       "<style scoped>\n",
       "    .dataframe tbody tr th:only-of-type {\n",
       "        vertical-align: middle;\n",
       "    }\n",
       "\n",
       "    .dataframe tbody tr th {\n",
       "        vertical-align: top;\n",
       "    }\n",
       "\n",
       "    .dataframe thead th {\n",
       "        text-align: right;\n",
       "    }\n",
       "</style>\n",
       "<table border=\"1\" class=\"dataframe\">\n",
       "  <thead>\n",
       "    <tr style=\"text-align: right;\">\n",
       "      <th></th>\n",
       "      <th>ranking</th>\n",
       "      <th>price_range</th>\n",
       "      <th>number_of_reviews</th>\n",
       "      <th>rating</th>\n",
       "      <th>number_of_reviews_isnan</th>\n",
       "      <th>reviews_isnan</th>\n",
       "      <th>cuisine_style_isnan</th>\n",
       "      <th>price_range_isnan</th>\n",
       "      <th>Amsterdam</th>\n",
       "      <th>Athens</th>\n",
       "      <th>Barcelona</th>\n",
       "      <th>Berlin</th>\n",
       "      <th>Bratislava</th>\n",
       "      <th>Brussels</th>\n",
       "      <th>Budapest</th>\n",
       "      <th>Copenhagen</th>\n",
       "      <th>Dublin</th>\n",
       "      <th>Edinburgh</th>\n",
       "      <th>Geneva</th>\n",
       "      <th>Hamburg</th>\n",
       "      <th>Helsinki</th>\n",
       "      <th>Krakow</th>\n",
       "      <th>Lisbon</th>\n",
       "      <th>Ljubljana</th>\n",
       "      <th>London</th>\n",
       "      <th>Luxembourg</th>\n",
       "      <th>Lyon</th>\n",
       "      <th>Madrid</th>\n",
       "      <th>Milan</th>\n",
       "      <th>Munich</th>\n",
       "      <th>Oporto</th>\n",
       "      <th>Oslo</th>\n",
       "      <th>Paris</th>\n",
       "      <th>Prague</th>\n",
       "      <th>Rome</th>\n",
       "      <th>Stockholm</th>\n",
       "      <th>Vienna</th>\n",
       "      <th>Warsaw</th>\n",
       "      <th>Zurich</th>\n",
       "      <th>len_cuisines</th>\n",
       "      <th>cuisine_style_1</th>\n",
       "      <th>cuisine_style_2</th>\n",
       "      <th>review_update</th>\n",
       "      <th>new_review</th>\n",
       "      <th>population</th>\n",
       "      <th>review_to_population</th>\n",
       "      <th>relative_ranking</th>\n",
       "      <th>rel_rank_to_population</th>\n",
       "      <th>ranking_copy</th>\n",
       "      <th>rating_mean_per_city</th>\n",
       "      <th>rank_city_min</th>\n",
       "      <th>rank_city_max</th>\n",
       "      <th>rank_norm</th>\n",
       "    </tr>\n",
       "  </thead>\n",
       "  <tbody>\n",
       "    <tr>\n",
       "      <th>5230</th>\n",
       "      <td>0.512298</td>\n",
       "      <td>2.0</td>\n",
       "      <td>18.0</td>\n",
       "      <td>0.0</td>\n",
       "      <td>0</td>\n",
       "      <td>0.0</td>\n",
       "      <td>0</td>\n",
       "      <td>0</td>\n",
       "      <td>0</td>\n",
       "      <td>0</td>\n",
       "      <td>0</td>\n",
       "      <td>0</td>\n",
       "      <td>0</td>\n",
       "      <td>0</td>\n",
       "      <td>0</td>\n",
       "      <td>0</td>\n",
       "      <td>0</td>\n",
       "      <td>0</td>\n",
       "      <td>0</td>\n",
       "      <td>0</td>\n",
       "      <td>0</td>\n",
       "      <td>0</td>\n",
       "      <td>0</td>\n",
       "      <td>0</td>\n",
       "      <td>0</td>\n",
       "      <td>0</td>\n",
       "      <td>0</td>\n",
       "      <td>0</td>\n",
       "      <td>0</td>\n",
       "      <td>0</td>\n",
       "      <td>0</td>\n",
       "      <td>0</td>\n",
       "      <td>1</td>\n",
       "      <td>0</td>\n",
       "      <td>0</td>\n",
       "      <td>0</td>\n",
       "      <td>0</td>\n",
       "      <td>0</td>\n",
       "      <td>0</td>\n",
       "      <td>1</td>\n",
       "      <td>0</td>\n",
       "      <td>1</td>\n",
       "      <td>-339</td>\n",
       "      <td>393</td>\n",
       "      <td>2187526</td>\n",
       "      <td>8.228474e-06</td>\n",
       "      <td>1.173052</td>\n",
       "      <td>5.362458e-07</td>\n",
       "      <td>7165.0</td>\n",
       "      <td>0.496107</td>\n",
       "      <td>0.000215</td>\n",
       "      <td>1.0</td>\n",
       "      <td>0.512193</td>\n",
       "    </tr>\n",
       "    <tr>\n",
       "      <th>2179</th>\n",
       "      <td>0.895936</td>\n",
       "      <td>2.0</td>\n",
       "      <td>8.0</td>\n",
       "      <td>0.0</td>\n",
       "      <td>0</td>\n",
       "      <td>1.0</td>\n",
       "      <td>1</td>\n",
       "      <td>1</td>\n",
       "      <td>0</td>\n",
       "      <td>0</td>\n",
       "      <td>0</td>\n",
       "      <td>0</td>\n",
       "      <td>0</td>\n",
       "      <td>0</td>\n",
       "      <td>0</td>\n",
       "      <td>0</td>\n",
       "      <td>0</td>\n",
       "      <td>0</td>\n",
       "      <td>0</td>\n",
       "      <td>0</td>\n",
       "      <td>0</td>\n",
       "      <td>0</td>\n",
       "      <td>0</td>\n",
       "      <td>0</td>\n",
       "      <td>0</td>\n",
       "      <td>0</td>\n",
       "      <td>0</td>\n",
       "      <td>0</td>\n",
       "      <td>1</td>\n",
       "      <td>0</td>\n",
       "      <td>0</td>\n",
       "      <td>0</td>\n",
       "      <td>0</td>\n",
       "      <td>0</td>\n",
       "      <td>0</td>\n",
       "      <td>0</td>\n",
       "      <td>0</td>\n",
       "      <td>0</td>\n",
       "      <td>0</td>\n",
       "      <td>1</td>\n",
       "      <td>0</td>\n",
       "      <td>1</td>\n",
       "      <td>4</td>\n",
       "      <td>50</td>\n",
       "      <td>1352000</td>\n",
       "      <td>5.917160e-06</td>\n",
       "      <td>2.086860</td>\n",
       "      <td>1.543535e-06</td>\n",
       "      <td>5622.0</td>\n",
       "      <td>0.494985</td>\n",
       "      <td>0.000159</td>\n",
       "      <td>1.0</td>\n",
       "      <td>0.895920</td>\n",
       "    </tr>\n",
       "    <tr>\n",
       "      <th>7574</th>\n",
       "      <td>0.344947</td>\n",
       "      <td>2.0</td>\n",
       "      <td>33.0</td>\n",
       "      <td>0.0</td>\n",
       "      <td>0</td>\n",
       "      <td>0.0</td>\n",
       "      <td>0</td>\n",
       "      <td>0</td>\n",
       "      <td>0</td>\n",
       "      <td>0</td>\n",
       "      <td>0</td>\n",
       "      <td>1</td>\n",
       "      <td>0</td>\n",
       "      <td>0</td>\n",
       "      <td>0</td>\n",
       "      <td>0</td>\n",
       "      <td>0</td>\n",
       "      <td>0</td>\n",
       "      <td>0</td>\n",
       "      <td>0</td>\n",
       "      <td>0</td>\n",
       "      <td>0</td>\n",
       "      <td>0</td>\n",
       "      <td>0</td>\n",
       "      <td>0</td>\n",
       "      <td>0</td>\n",
       "      <td>0</td>\n",
       "      <td>0</td>\n",
       "      <td>0</td>\n",
       "      <td>0</td>\n",
       "      <td>0</td>\n",
       "      <td>0</td>\n",
       "      <td>0</td>\n",
       "      <td>0</td>\n",
       "      <td>0</td>\n",
       "      <td>0</td>\n",
       "      <td>0</td>\n",
       "      <td>0</td>\n",
       "      <td>0</td>\n",
       "      <td>2</td>\n",
       "      <td>0</td>\n",
       "      <td>2</td>\n",
       "      <td>-187</td>\n",
       "      <td>399</td>\n",
       "      <td>3769000</td>\n",
       "      <td>8.755638e-06</td>\n",
       "      <td>0.812569</td>\n",
       "      <td>2.155928e-07</td>\n",
       "      <td>2198.0</td>\n",
       "      <td>0.510894</td>\n",
       "      <td>0.000314</td>\n",
       "      <td>1.0</td>\n",
       "      <td>0.344741</td>\n",
       "    </tr>\n",
       "    <tr>\n",
       "      <th>4760</th>\n",
       "      <td>0.708184</td>\n",
       "      <td>2.0</td>\n",
       "      <td>4.0</td>\n",
       "      <td>0.0</td>\n",
       "      <td>0</td>\n",
       "      <td>1.0</td>\n",
       "      <td>0</td>\n",
       "      <td>0</td>\n",
       "      <td>0</td>\n",
       "      <td>0</td>\n",
       "      <td>1</td>\n",
       "      <td>0</td>\n",
       "      <td>0</td>\n",
       "      <td>0</td>\n",
       "      <td>0</td>\n",
       "      <td>0</td>\n",
       "      <td>0</td>\n",
       "      <td>0</td>\n",
       "      <td>0</td>\n",
       "      <td>0</td>\n",
       "      <td>0</td>\n",
       "      <td>0</td>\n",
       "      <td>0</td>\n",
       "      <td>0</td>\n",
       "      <td>0</td>\n",
       "      <td>0</td>\n",
       "      <td>0</td>\n",
       "      <td>0</td>\n",
       "      <td>0</td>\n",
       "      <td>0</td>\n",
       "      <td>0</td>\n",
       "      <td>0</td>\n",
       "      <td>0</td>\n",
       "      <td>0</td>\n",
       "      <td>0</td>\n",
       "      <td>0</td>\n",
       "      <td>0</td>\n",
       "      <td>0</td>\n",
       "      <td>0</td>\n",
       "      <td>1</td>\n",
       "      <td>0</td>\n",
       "      <td>0</td>\n",
       "      <td>4</td>\n",
       "      <td>50</td>\n",
       "      <td>5575000</td>\n",
       "      <td>7.174888e-07</td>\n",
       "      <td>1.626215</td>\n",
       "      <td>2.916978e-07</td>\n",
       "      <td>5521.0</td>\n",
       "      <td>0.497617</td>\n",
       "      <td>0.000641</td>\n",
       "      <td>1.0</td>\n",
       "      <td>0.707996</td>\n",
       "    </tr>\n",
       "    <tr>\n",
       "      <th>151</th>\n",
       "      <td>0.034903</td>\n",
       "      <td>2.0</td>\n",
       "      <td>468.0</td>\n",
       "      <td>0.0</td>\n",
       "      <td>0</td>\n",
       "      <td>0.0</td>\n",
       "      <td>0</td>\n",
       "      <td>0</td>\n",
       "      <td>0</td>\n",
       "      <td>0</td>\n",
       "      <td>0</td>\n",
       "      <td>0</td>\n",
       "      <td>0</td>\n",
       "      <td>0</td>\n",
       "      <td>0</td>\n",
       "      <td>0</td>\n",
       "      <td>0</td>\n",
       "      <td>0</td>\n",
       "      <td>0</td>\n",
       "      <td>0</td>\n",
       "      <td>0</td>\n",
       "      <td>0</td>\n",
       "      <td>0</td>\n",
       "      <td>0</td>\n",
       "      <td>0</td>\n",
       "      <td>0</td>\n",
       "      <td>0</td>\n",
       "      <td>0</td>\n",
       "      <td>0</td>\n",
       "      <td>0</td>\n",
       "      <td>0</td>\n",
       "      <td>0</td>\n",
       "      <td>0</td>\n",
       "      <td>0</td>\n",
       "      <td>0</td>\n",
       "      <td>1</td>\n",
       "      <td>0</td>\n",
       "      <td>0</td>\n",
       "      <td>0</td>\n",
       "      <td>5</td>\n",
       "      <td>2</td>\n",
       "      <td>0</td>\n",
       "      <td>36</td>\n",
       "      <td>105</td>\n",
       "      <td>975551</td>\n",
       "      <td>4.797289e-04</td>\n",
       "      <td>0.083253</td>\n",
       "      <td>8.533912e-08</td>\n",
       "      <td>86.0</td>\n",
       "      <td>0.502225</td>\n",
       "      <td>0.000406</td>\n",
       "      <td>1.0</td>\n",
       "      <td>0.034511</td>\n",
       "    </tr>\n",
       "    <tr>\n",
       "      <th>7731</th>\n",
       "      <td>0.980974</td>\n",
       "      <td>2.0</td>\n",
       "      <td>2.0</td>\n",
       "      <td>0.0</td>\n",
       "      <td>0</td>\n",
       "      <td>1.0</td>\n",
       "      <td>0</td>\n",
       "      <td>1</td>\n",
       "      <td>0</td>\n",
       "      <td>1</td>\n",
       "      <td>0</td>\n",
       "      <td>0</td>\n",
       "      <td>0</td>\n",
       "      <td>0</td>\n",
       "      <td>0</td>\n",
       "      <td>0</td>\n",
       "      <td>0</td>\n",
       "      <td>0</td>\n",
       "      <td>0</td>\n",
       "      <td>0</td>\n",
       "      <td>0</td>\n",
       "      <td>0</td>\n",
       "      <td>0</td>\n",
       "      <td>0</td>\n",
       "      <td>0</td>\n",
       "      <td>0</td>\n",
       "      <td>0</td>\n",
       "      <td>0</td>\n",
       "      <td>0</td>\n",
       "      <td>0</td>\n",
       "      <td>0</td>\n",
       "      <td>0</td>\n",
       "      <td>0</td>\n",
       "      <td>0</td>\n",
       "      <td>0</td>\n",
       "      <td>0</td>\n",
       "      <td>0</td>\n",
       "      <td>0</td>\n",
       "      <td>0</td>\n",
       "      <td>1</td>\n",
       "      <td>0</td>\n",
       "      <td>0</td>\n",
       "      <td>4</td>\n",
       "      <td>50</td>\n",
       "      <td>664046</td>\n",
       "      <td>3.011840e-06</td>\n",
       "      <td>2.259021</td>\n",
       "      <td>3.401904e-06</td>\n",
       "      <td>1753.0</td>\n",
       "      <td>0.492565</td>\n",
       "      <td>0.001679</td>\n",
       "      <td>1.0</td>\n",
       "      <td>0.980942</td>\n",
       "    </tr>\n",
       "    <tr>\n",
       "      <th>5279</th>\n",
       "      <td>0.588208</td>\n",
       "      <td>2.0</td>\n",
       "      <td>2.0</td>\n",
       "      <td>0.0</td>\n",
       "      <td>0</td>\n",
       "      <td>0.0</td>\n",
       "      <td>0</td>\n",
       "      <td>0</td>\n",
       "      <td>0</td>\n",
       "      <td>0</td>\n",
       "      <td>0</td>\n",
       "      <td>0</td>\n",
       "      <td>0</td>\n",
       "      <td>0</td>\n",
       "      <td>0</td>\n",
       "      <td>0</td>\n",
       "      <td>0</td>\n",
       "      <td>0</td>\n",
       "      <td>0</td>\n",
       "      <td>0</td>\n",
       "      <td>0</td>\n",
       "      <td>0</td>\n",
       "      <td>0</td>\n",
       "      <td>0</td>\n",
       "      <td>0</td>\n",
       "      <td>0</td>\n",
       "      <td>0</td>\n",
       "      <td>0</td>\n",
       "      <td>0</td>\n",
       "      <td>0</td>\n",
       "      <td>0</td>\n",
       "      <td>0</td>\n",
       "      <td>0</td>\n",
       "      <td>0</td>\n",
       "      <td>0</td>\n",
       "      <td>0</td>\n",
       "      <td>0</td>\n",
       "      <td>1</td>\n",
       "      <td>0</td>\n",
       "      <td>1</td>\n",
       "      <td>0</td>\n",
       "      <td>1</td>\n",
       "      <td>13</td>\n",
       "      <td>129</td>\n",
       "      <td>1708000</td>\n",
       "      <td>1.170960e-06</td>\n",
       "      <td>1.369730</td>\n",
       "      <td>8.019495e-07</td>\n",
       "      <td>1267.0</td>\n",
       "      <td>0.489876</td>\n",
       "      <td>0.000464</td>\n",
       "      <td>1.0</td>\n",
       "      <td>0.588017</td>\n",
       "    </tr>\n",
       "    <tr>\n",
       "      <th>1363</th>\n",
       "      <td>0.857377</td>\n",
       "      <td>2.0</td>\n",
       "      <td>14.0</td>\n",
       "      <td>0.0</td>\n",
       "      <td>0</td>\n",
       "      <td>0.0</td>\n",
       "      <td>0</td>\n",
       "      <td>1</td>\n",
       "      <td>0</td>\n",
       "      <td>0</td>\n",
       "      <td>0</td>\n",
       "      <td>0</td>\n",
       "      <td>0</td>\n",
       "      <td>0</td>\n",
       "      <td>1</td>\n",
       "      <td>0</td>\n",
       "      <td>0</td>\n",
       "      <td>0</td>\n",
       "      <td>0</td>\n",
       "      <td>0</td>\n",
       "      <td>0</td>\n",
       "      <td>0</td>\n",
       "      <td>0</td>\n",
       "      <td>0</td>\n",
       "      <td>0</td>\n",
       "      <td>0</td>\n",
       "      <td>0</td>\n",
       "      <td>0</td>\n",
       "      <td>0</td>\n",
       "      <td>0</td>\n",
       "      <td>0</td>\n",
       "      <td>0</td>\n",
       "      <td>0</td>\n",
       "      <td>0</td>\n",
       "      <td>0</td>\n",
       "      <td>0</td>\n",
       "      <td>0</td>\n",
       "      <td>0</td>\n",
       "      <td>0</td>\n",
       "      <td>3</td>\n",
       "      <td>0</td>\n",
       "      <td>0</td>\n",
       "      <td>-98</td>\n",
       "      <td>268</td>\n",
       "      <td>1752000</td>\n",
       "      <td>7.990868e-06</td>\n",
       "      <td>2.048972</td>\n",
       "      <td>1.169504e-06</td>\n",
       "      <td>2092.0</td>\n",
       "      <td>0.499615</td>\n",
       "      <td>0.000410</td>\n",
       "      <td>1.0</td>\n",
       "      <td>0.857319</td>\n",
       "    </tr>\n",
       "    <tr>\n",
       "      <th>9350</th>\n",
       "      <td>0.594523</td>\n",
       "      <td>2.0</td>\n",
       "      <td>0.0</td>\n",
       "      <td>0.0</td>\n",
       "      <td>1</td>\n",
       "      <td>0.0</td>\n",
       "      <td>0</td>\n",
       "      <td>1</td>\n",
       "      <td>0</td>\n",
       "      <td>0</td>\n",
       "      <td>0</td>\n",
       "      <td>0</td>\n",
       "      <td>0</td>\n",
       "      <td>0</td>\n",
       "      <td>0</td>\n",
       "      <td>0</td>\n",
       "      <td>0</td>\n",
       "      <td>0</td>\n",
       "      <td>0</td>\n",
       "      <td>0</td>\n",
       "      <td>0</td>\n",
       "      <td>0</td>\n",
       "      <td>0</td>\n",
       "      <td>0</td>\n",
       "      <td>0</td>\n",
       "      <td>0</td>\n",
       "      <td>0</td>\n",
       "      <td>0</td>\n",
       "      <td>0</td>\n",
       "      <td>0</td>\n",
       "      <td>0</td>\n",
       "      <td>0</td>\n",
       "      <td>1</td>\n",
       "      <td>0</td>\n",
       "      <td>0</td>\n",
       "      <td>0</td>\n",
       "      <td>0</td>\n",
       "      <td>0</td>\n",
       "      <td>0</td>\n",
       "      <td>2</td>\n",
       "      <td>0</td>\n",
       "      <td>0</td>\n",
       "      <td>-55</td>\n",
       "      <td>109</td>\n",
       "      <td>2187526</td>\n",
       "      <td>0.000000e+00</td>\n",
       "      <td>1.361329</td>\n",
       "      <td>6.223146e-07</td>\n",
       "      <td>8315.0</td>\n",
       "      <td>0.496107</td>\n",
       "      <td>0.000215</td>\n",
       "      <td>1.0</td>\n",
       "      <td>0.594436</td>\n",
       "    </tr>\n",
       "    <tr>\n",
       "      <th>4498</th>\n",
       "      <td>0.250653</td>\n",
       "      <td>2.0</td>\n",
       "      <td>19.0</td>\n",
       "      <td>0.0</td>\n",
       "      <td>0</td>\n",
       "      <td>1.0</td>\n",
       "      <td>1</td>\n",
       "      <td>1</td>\n",
       "      <td>0</td>\n",
       "      <td>0</td>\n",
       "      <td>0</td>\n",
       "      <td>0</td>\n",
       "      <td>0</td>\n",
       "      <td>0</td>\n",
       "      <td>0</td>\n",
       "      <td>0</td>\n",
       "      <td>0</td>\n",
       "      <td>0</td>\n",
       "      <td>0</td>\n",
       "      <td>0</td>\n",
       "      <td>0</td>\n",
       "      <td>0</td>\n",
       "      <td>0</td>\n",
       "      <td>0</td>\n",
       "      <td>0</td>\n",
       "      <td>0</td>\n",
       "      <td>0</td>\n",
       "      <td>1</td>\n",
       "      <td>0</td>\n",
       "      <td>0</td>\n",
       "      <td>0</td>\n",
       "      <td>0</td>\n",
       "      <td>0</td>\n",
       "      <td>0</td>\n",
       "      <td>0</td>\n",
       "      <td>0</td>\n",
       "      <td>0</td>\n",
       "      <td>0</td>\n",
       "      <td>0</td>\n",
       "      <td>1</td>\n",
       "      <td>0</td>\n",
       "      <td>1</td>\n",
       "      <td>4</td>\n",
       "      <td>50</td>\n",
       "      <td>6642000</td>\n",
       "      <td>2.860584e-06</td>\n",
       "      <td>0.579072</td>\n",
       "      <td>8.718332e-08</td>\n",
       "      <td>2208.0</td>\n",
       "      <td>0.498186</td>\n",
       "      <td>0.000114</td>\n",
       "      <td>1.0</td>\n",
       "      <td>0.250568</td>\n",
       "    </tr>\n",
       "  </tbody>\n",
       "</table>\n",
       "</div>"
      ],
      "text/plain": [
       "       ranking  price_range  number_of_reviews  rating  \\\n",
       "5230  0.512298          2.0               18.0     0.0   \n",
       "2179  0.895936          2.0                8.0     0.0   \n",
       "7574  0.344947          2.0               33.0     0.0   \n",
       "4760  0.708184          2.0                4.0     0.0   \n",
       "151   0.034903          2.0              468.0     0.0   \n",
       "7731  0.980974          2.0                2.0     0.0   \n",
       "5279  0.588208          2.0                2.0     0.0   \n",
       "1363  0.857377          2.0               14.0     0.0   \n",
       "9350  0.594523          2.0                0.0     0.0   \n",
       "4498  0.250653          2.0               19.0     0.0   \n",
       "\n",
       "      number_of_reviews_isnan  reviews_isnan  cuisine_style_isnan  \\\n",
       "5230                        0            0.0                    0   \n",
       "2179                        0            1.0                    1   \n",
       "7574                        0            0.0                    0   \n",
       "4760                        0            1.0                    0   \n",
       "151                         0            0.0                    0   \n",
       "7731                        0            1.0                    0   \n",
       "5279                        0            0.0                    0   \n",
       "1363                        0            0.0                    0   \n",
       "9350                        1            0.0                    0   \n",
       "4498                        0            1.0                    1   \n",
       "\n",
       "      price_range_isnan  Amsterdam  Athens  Barcelona  Berlin  Bratislava  \\\n",
       "5230                  0          0       0          0       0           0   \n",
       "2179                  1          0       0          0       0           0   \n",
       "7574                  0          0       0          0       1           0   \n",
       "4760                  0          0       0          1       0           0   \n",
       "151                   0          0       0          0       0           0   \n",
       "7731                  1          0       1          0       0           0   \n",
       "5279                  0          0       0          0       0           0   \n",
       "1363                  1          0       0          0       0           0   \n",
       "9350                  1          0       0          0       0           0   \n",
       "4498                  1          0       0          0       0           0   \n",
       "\n",
       "      Brussels  Budapest  Copenhagen  Dublin  Edinburgh  Geneva  Hamburg  \\\n",
       "5230         0         0           0       0          0       0        0   \n",
       "2179         0         0           0       0          0       0        0   \n",
       "7574         0         0           0       0          0       0        0   \n",
       "4760         0         0           0       0          0       0        0   \n",
       "151          0         0           0       0          0       0        0   \n",
       "7731         0         0           0       0          0       0        0   \n",
       "5279         0         0           0       0          0       0        0   \n",
       "1363         0         1           0       0          0       0        0   \n",
       "9350         0         0           0       0          0       0        0   \n",
       "4498         0         0           0       0          0       0        0   \n",
       "\n",
       "      Helsinki  Krakow  Lisbon  Ljubljana  London  Luxembourg  Lyon  Madrid  \\\n",
       "5230         0       0       0          0       0           0     0       0   \n",
       "2179         0       0       0          0       0           0     0       0   \n",
       "7574         0       0       0          0       0           0     0       0   \n",
       "4760         0       0       0          0       0           0     0       0   \n",
       "151          0       0       0          0       0           0     0       0   \n",
       "7731         0       0       0          0       0           0     0       0   \n",
       "5279         0       0       0          0       0           0     0       0   \n",
       "1363         0       0       0          0       0           0     0       0   \n",
       "9350         0       0       0          0       0           0     0       0   \n",
       "4498         0       0       0          0       0           0     0       1   \n",
       "\n",
       "      Milan  Munich  Oporto  Oslo  Paris  Prague  Rome  Stockholm  Vienna  \\\n",
       "5230      0       0       0     0      1       0     0          0       0   \n",
       "2179      1       0       0     0      0       0     0          0       0   \n",
       "7574      0       0       0     0      0       0     0          0       0   \n",
       "4760      0       0       0     0      0       0     0          0       0   \n",
       "151       0       0       0     0      0       0     0          1       0   \n",
       "7731      0       0       0     0      0       0     0          0       0   \n",
       "5279      0       0       0     0      0       0     0          0       0   \n",
       "1363      0       0       0     0      0       0     0          0       0   \n",
       "9350      0       0       0     0      1       0     0          0       0   \n",
       "4498      0       0       0     0      0       0     0          0       0   \n",
       "\n",
       "      Warsaw  Zurich  len_cuisines  cuisine_style_1  cuisine_style_2  \\\n",
       "5230       0       0             1                0                1   \n",
       "2179       0       0             1                0                1   \n",
       "7574       0       0             2                0                2   \n",
       "4760       0       0             1                0                0   \n",
       "151        0       0             5                2                0   \n",
       "7731       0       0             1                0                0   \n",
       "5279       1       0             1                0                1   \n",
       "1363       0       0             3                0                0   \n",
       "9350       0       0             2                0                0   \n",
       "4498       0       0             1                0                1   \n",
       "\n",
       "      review_update  new_review  population  review_to_population  \\\n",
       "5230           -339         393     2187526          8.228474e-06   \n",
       "2179              4          50     1352000          5.917160e-06   \n",
       "7574           -187         399     3769000          8.755638e-06   \n",
       "4760              4          50     5575000          7.174888e-07   \n",
       "151              36         105      975551          4.797289e-04   \n",
       "7731              4          50      664046          3.011840e-06   \n",
       "5279             13         129     1708000          1.170960e-06   \n",
       "1363            -98         268     1752000          7.990868e-06   \n",
       "9350            -55         109     2187526          0.000000e+00   \n",
       "4498              4          50     6642000          2.860584e-06   \n",
       "\n",
       "      relative_ranking  rel_rank_to_population  ranking_copy  \\\n",
       "5230          1.173052            5.362458e-07        7165.0   \n",
       "2179          2.086860            1.543535e-06        5622.0   \n",
       "7574          0.812569            2.155928e-07        2198.0   \n",
       "4760          1.626215            2.916978e-07        5521.0   \n",
       "151           0.083253            8.533912e-08          86.0   \n",
       "7731          2.259021            3.401904e-06        1753.0   \n",
       "5279          1.369730            8.019495e-07        1267.0   \n",
       "1363          2.048972            1.169504e-06        2092.0   \n",
       "9350          1.361329            6.223146e-07        8315.0   \n",
       "4498          0.579072            8.718332e-08        2208.0   \n",
       "\n",
       "      rating_mean_per_city  rank_city_min  rank_city_max  rank_norm  \n",
       "5230              0.496107       0.000215            1.0   0.512193  \n",
       "2179              0.494985       0.000159            1.0   0.895920  \n",
       "7574              0.510894       0.000314            1.0   0.344741  \n",
       "4760              0.497617       0.000641            1.0   0.707996  \n",
       "151               0.502225       0.000406            1.0   0.034511  \n",
       "7731              0.492565       0.001679            1.0   0.980942  \n",
       "5279              0.489876       0.000464            1.0   0.588017  \n",
       "1363              0.499615       0.000410            1.0   0.857319  \n",
       "9350              0.496107       0.000215            1.0   0.594436  \n",
       "4498              0.498186       0.000114            1.0   0.250568  "
      ]
     },
     "execution_count": 77,
     "metadata": {},
     "output_type": "execute_result"
    }
   ],
   "source": [
    "test_data.sample(10)"
   ]
  },
  {
   "cell_type": "code",
   "execution_count": 78,
   "metadata": {
    "_cell_guid": "ca89709b-dd53-4c6e-8579-15ba9a29ce95",
    "_uuid": "dbaa1f6b-9255-4486-9b30-ea02cb745a8f",
    "collapsed": false,
    "execution": {
     "iopub.execute_input": "2021-08-25T09:37:59.112374Z",
     "iopub.status.busy": "2021-08-25T09:37:59.111687Z",
     "iopub.status.idle": "2021-08-25T09:37:59.121631Z",
     "shell.execute_reply": "2021-08-25T09:37:59.120499Z",
     "shell.execute_reply.started": "2021-08-25T09:37:59.112308Z"
    },
    "jupyter": {
     "outputs_hidden": false
    }
   },
   "outputs": [],
   "source": [
    "test_data = test_data.drop(['rating'], axis=1)"
   ]
  },
  {
   "cell_type": "code",
   "execution_count": 79,
   "metadata": {
    "_cell_guid": "fb00faea-b356-4996-a55a-b9bbc46fc7c4",
    "_uuid": "e30437f0-336c-4b3a-984c-6b05fc38cd14",
    "collapsed": false,
    "execution": {
     "iopub.execute_input": "2021-08-25T09:37:59.124273Z",
     "iopub.status.busy": "2021-08-25T09:37:59.123780Z",
     "iopub.status.idle": "2021-08-25T09:37:59.143522Z",
     "shell.execute_reply": "2021-08-25T09:37:59.142314Z",
     "shell.execute_reply.started": "2021-08-25T09:37:59.124196Z"
    },
    "jupyter": {
     "outputs_hidden": false
    }
   },
   "outputs": [
    {
     "data": {
      "text/html": [
       "<div>\n",
       "<style scoped>\n",
       "    .dataframe tbody tr th:only-of-type {\n",
       "        vertical-align: middle;\n",
       "    }\n",
       "\n",
       "    .dataframe tbody tr th {\n",
       "        vertical-align: top;\n",
       "    }\n",
       "\n",
       "    .dataframe thead th {\n",
       "        text-align: right;\n",
       "    }\n",
       "</style>\n",
       "<table border=\"1\" class=\"dataframe\">\n",
       "  <thead>\n",
       "    <tr style=\"text-align: right;\">\n",
       "      <th></th>\n",
       "      <th>Restaurant_id</th>\n",
       "      <th>Rating</th>\n",
       "    </tr>\n",
       "  </thead>\n",
       "  <tbody>\n",
       "    <tr>\n",
       "      <th>0</th>\n",
       "      <td>id_0</td>\n",
       "      <td>2.0</td>\n",
       "    </tr>\n",
       "    <tr>\n",
       "      <th>1</th>\n",
       "      <td>id_1</td>\n",
       "      <td>2.5</td>\n",
       "    </tr>\n",
       "    <tr>\n",
       "      <th>2</th>\n",
       "      <td>id_2</td>\n",
       "      <td>4.0</td>\n",
       "    </tr>\n",
       "    <tr>\n",
       "      <th>3</th>\n",
       "      <td>id_3</td>\n",
       "      <td>1.0</td>\n",
       "    </tr>\n",
       "    <tr>\n",
       "      <th>4</th>\n",
       "      <td>id_4</td>\n",
       "      <td>4.0</td>\n",
       "    </tr>\n",
       "    <tr>\n",
       "      <th>...</th>\n",
       "      <td>...</td>\n",
       "      <td>...</td>\n",
       "    </tr>\n",
       "    <tr>\n",
       "      <th>9995</th>\n",
       "      <td>id_9995</td>\n",
       "      <td>3.0</td>\n",
       "    </tr>\n",
       "    <tr>\n",
       "      <th>9996</th>\n",
       "      <td>id_9996</td>\n",
       "      <td>1.5</td>\n",
       "    </tr>\n",
       "    <tr>\n",
       "      <th>9997</th>\n",
       "      <td>id_9997</td>\n",
       "      <td>4.5</td>\n",
       "    </tr>\n",
       "    <tr>\n",
       "      <th>9998</th>\n",
       "      <td>id_9998</td>\n",
       "      <td>1.0</td>\n",
       "    </tr>\n",
       "    <tr>\n",
       "      <th>9999</th>\n",
       "      <td>id_9999</td>\n",
       "      <td>2.5</td>\n",
       "    </tr>\n",
       "  </tbody>\n",
       "</table>\n",
       "<p>10000 rows × 2 columns</p>\n",
       "</div>"
      ],
      "text/plain": [
       "     Restaurant_id  Rating\n",
       "0             id_0     2.0\n",
       "1             id_1     2.5\n",
       "2             id_2     4.0\n",
       "3             id_3     1.0\n",
       "4             id_4     4.0\n",
       "...            ...     ...\n",
       "9995       id_9995     3.0\n",
       "9996       id_9996     1.5\n",
       "9997       id_9997     4.5\n",
       "9998       id_9998     1.0\n",
       "9999       id_9999     2.5\n",
       "\n",
       "[10000 rows x 2 columns]"
      ]
     },
     "execution_count": 79,
     "metadata": {},
     "output_type": "execute_result"
    }
   ],
   "source": [
    "sample_submission"
   ]
  },
  {
   "cell_type": "code",
   "execution_count": 80,
   "metadata": {
    "_cell_guid": "44d508df-f0c9-41a0-8367-5abef2b67543",
    "_uuid": "c1cd085f-2d44-4ac6-8e26-97ebf78deae6",
    "collapsed": false,
    "execution": {
     "iopub.execute_input": "2021-08-25T09:37:59.145195Z",
     "iopub.status.busy": "2021-08-25T09:37:59.144874Z",
     "iopub.status.idle": "2021-08-25T09:37:59.363477Z",
     "shell.execute_reply": "2021-08-25T09:37:59.362503Z",
     "shell.execute_reply.started": "2021-08-25T09:37:59.145143Z"
    },
    "jupyter": {
     "outputs_hidden": false
    }
   },
   "outputs": [
    {
     "name": "stderr",
     "output_type": "stream",
     "text": [
      "[Parallel(n_jobs=4)]: Using backend ThreadingBackend with 4 concurrent workers.\n",
      "[Parallel(n_jobs=4)]: Done  42 tasks      | elapsed:    0.1s\n",
      "[Parallel(n_jobs=4)]: Done 100 out of 100 | elapsed:    0.1s finished\n"
     ]
    }
   ],
   "source": [
    "predict_submission = model.predict(test_data)"
   ]
  },
  {
   "cell_type": "code",
   "execution_count": 81,
   "metadata": {
    "_cell_guid": "85d335fc-8721-4bd9-a932-63e359f87234",
    "_uuid": "fa5051d8-4ed8-4fd5-a8a8-6ac6b17fa182",
    "collapsed": false,
    "execution": {
     "iopub.execute_input": "2021-08-25T09:37:59.365426Z",
     "iopub.status.busy": "2021-08-25T09:37:59.365034Z",
     "iopub.status.idle": "2021-08-25T09:37:59.372772Z",
     "shell.execute_reply": "2021-08-25T09:37:59.371553Z",
     "shell.execute_reply.started": "2021-08-25T09:37:59.365360Z"
    },
    "jupyter": {
     "outputs_hidden": false
    }
   },
   "outputs": [
    {
     "data": {
      "text/plain": [
       "array([3.07 , 4.315, 4.46 , ..., 3.12 , 4.49 , 4.29 ])"
      ]
     },
     "execution_count": 81,
     "metadata": {},
     "output_type": "execute_result"
    }
   ],
   "source": [
    "predict_submission"
   ]
  },
  {
   "cell_type": "code",
   "execution_count": 82,
   "metadata": {
    "execution": {
     "iopub.execute_input": "2021-08-25T09:37:59.375347Z",
     "iopub.status.busy": "2021-08-25T09:37:59.374707Z",
     "iopub.status.idle": "2021-08-25T09:37:59.385657Z",
     "shell.execute_reply": "2021-08-25T09:37:59.384453Z",
     "shell.execute_reply.started": "2021-08-25T09:37:59.375277Z"
    }
   },
   "outputs": [
    {
     "data": {
      "text/plain": [
       "array([3. , 4.5, 4.5, ..., 3. , 4.5, 4.5])"
      ]
     },
     "execution_count": 82,
     "metadata": {},
     "output_type": "execute_result"
    }
   ],
   "source": [
    "# rating rounding up to 0.5\n",
    "predict_submission = (predict_submission * 2).round() / 2\n",
    "predict_submission"
   ]
  },
  {
   "cell_type": "code",
   "execution_count": 83,
   "metadata": {
    "_cell_guid": "26a3724a-1fde-44bd-a3b1-5b128522f161",
    "_uuid": "41d56d38-7de6-471f-abb0-7b679e2eaae1",
    "collapsed": false,
    "execution": {
     "iopub.execute_input": "2021-08-25T09:37:59.387647Z",
     "iopub.status.busy": "2021-08-25T09:37:59.387179Z",
     "iopub.status.idle": "2021-08-25T09:37:59.932855Z",
     "shell.execute_reply": "2021-08-25T09:37:59.931933Z",
     "shell.execute_reply.started": "2021-08-25T09:37:59.387589Z"
    },
    "jupyter": {
     "outputs_hidden": false
    }
   },
   "outputs": [
    {
     "data": {
      "text/html": [
       "<div>\n",
       "<style scoped>\n",
       "    .dataframe tbody tr th:only-of-type {\n",
       "        vertical-align: middle;\n",
       "    }\n",
       "\n",
       "    .dataframe tbody tr th {\n",
       "        vertical-align: top;\n",
       "    }\n",
       "\n",
       "    .dataframe thead th {\n",
       "        text-align: right;\n",
       "    }\n",
       "</style>\n",
       "<table border=\"1\" class=\"dataframe\">\n",
       "  <thead>\n",
       "    <tr style=\"text-align: right;\">\n",
       "      <th></th>\n",
       "      <th>Restaurant_id</th>\n",
       "      <th>Rating</th>\n",
       "    </tr>\n",
       "  </thead>\n",
       "  <tbody>\n",
       "    <tr>\n",
       "      <th>0</th>\n",
       "      <td>id_0</td>\n",
       "      <td>3.0</td>\n",
       "    </tr>\n",
       "    <tr>\n",
       "      <th>1</th>\n",
       "      <td>id_1</td>\n",
       "      <td>4.5</td>\n",
       "    </tr>\n",
       "    <tr>\n",
       "      <th>2</th>\n",
       "      <td>id_2</td>\n",
       "      <td>4.5</td>\n",
       "    </tr>\n",
       "    <tr>\n",
       "      <th>3</th>\n",
       "      <td>id_3</td>\n",
       "      <td>4.5</td>\n",
       "    </tr>\n",
       "    <tr>\n",
       "      <th>4</th>\n",
       "      <td>id_4</td>\n",
       "      <td>4.5</td>\n",
       "    </tr>\n",
       "    <tr>\n",
       "      <th>5</th>\n",
       "      <td>id_5</td>\n",
       "      <td>4.5</td>\n",
       "    </tr>\n",
       "    <tr>\n",
       "      <th>6</th>\n",
       "      <td>id_6</td>\n",
       "      <td>2.0</td>\n",
       "    </tr>\n",
       "    <tr>\n",
       "      <th>7</th>\n",
       "      <td>id_7</td>\n",
       "      <td>3.0</td>\n",
       "    </tr>\n",
       "    <tr>\n",
       "      <th>8</th>\n",
       "      <td>id_8</td>\n",
       "      <td>4.0</td>\n",
       "    </tr>\n",
       "    <tr>\n",
       "      <th>9</th>\n",
       "      <td>id_9</td>\n",
       "      <td>4.5</td>\n",
       "    </tr>\n",
       "  </tbody>\n",
       "</table>\n",
       "</div>"
      ],
      "text/plain": [
       "  Restaurant_id  Rating\n",
       "0          id_0     3.0\n",
       "1          id_1     4.5\n",
       "2          id_2     4.5\n",
       "3          id_3     4.5\n",
       "4          id_4     4.5\n",
       "5          id_5     4.5\n",
       "6          id_6     2.0\n",
       "7          id_7     3.0\n",
       "8          id_8     4.0\n",
       "9          id_9     4.5"
      ]
     },
     "execution_count": 83,
     "metadata": {},
     "output_type": "execute_result"
    }
   ],
   "source": [
    "sample_submission['Rating'] = predict_submission\n",
    "sample_submission.to_csv('submission.csv', index=False)\n",
    "sample_submission.head(10)"
   ]
  },
  {
   "cell_type": "markdown",
   "metadata": {
    "_cell_guid": "cd55ab59-4ef4-4bd0-bfbb-61117b4f83b4",
    "_uuid": "11fa2d47-0546-4e1d-8c58-c86b381a352c"
   },
   "source": [
    "# Conclusions\n",
    "\n",
    "* Analysis and preparation of dataset modeling with information on restaurants from TripAdvisor were carried out.\n",
    "* The missing values in the 'Number of Reviews', 'Price Range' and 'Cuisine Style' features were filled in.\n",
    "* At the same time, new features 'isnan' were created with information about the absence of data.\n",
    "* The categorical feature 'City' was encoded using the get_dummies function.\n",
    "* Created a new attribute 'Population' (information about the population of cities entered manually in the form of a dictionary).\n",
    "* Based on this, new relative features were created: 'Review to Population' (the ratio of the number of reviews to the population) and 'Rel Rank to Population'.\n",
    "* Order sign 'Price Range' - 3 gradations - was replaced by consecutive numbers 1,2,3. Most restaurants are in the middle price range.\n",
    "* Categorical attribute 'Cuisine Style': there are 125 unique cuisines in the dataset.\n",
    "* The most common - vegetarian, European, other (this includes all the gaps on the basis of 'Cuisine Style'),mediterranean and italian).\n",
    "* Based on 'Cuisine Style', features were created with the number of cuisines in the restaurant, as well as two features 'Cusine Style 1' and 'Cusine Style 2'.\n",
    "* They include the first two and the next three of the most popular cuisines.\n",
    "* According to information published by Tripadvisor, the presence of recent reviews plays a significant role in the ranking of establishments.\n",
    "* So the lack of reviews can lead to a drop in the rating relative to those institutions where they were left recently.\n",
    "* Based on the 'Reviews' feature, the dates of the reviews were extracted and a feature was created with the difference in days between two reviews ('Review Update').\n",
    "* 'New Review' reflects the relevance (relative to the timeline) of the establishment's reviews. That is, which establishments have the most recent reviews.\n",
    "* In fact, these features did not make the greatest contribution to improving the accuracy of the simulation.\n",
    "* A new attribute 'Relative Ranking' has been created - the ratio of the rank of a restaurant to the number of restaurants in this city according to the dataset.\n",
    "* Normalization of the feature \"Ranking\" relative to the maximum value in the dataset makes the greatest contribution to improving the accuracy of modeling.\n",
    "* The correlation matrix showed no multicollinearity, so all features were left for further use in the ML model.\n",
    "* All iterations kept MAE close to 0.20000.\n",
    "* But rounding the simulation results (to 0.5, like the 'Rating' step in the original dataset) was able to reduce the absolute error.\n",
    "* As a result, we managed to get MAE=0.1691875. This is already significantly less than the MAE from the baseline notebook."
   ]
  }
 ],
 "metadata": {
  "kernelspec": {
   "display_name": "Python 3",
   "language": "python",
   "name": "python3"
  },
  "language_info": {
   "codemirror_mode": {
    "name": "ipython",
    "version": 3
   },
   "file_extension": ".py",
   "mimetype": "text/x-python",
   "name": "python",
   "nbconvert_exporter": "python",
   "pygments_lexer": "ipython3",
   "version": "3.6.6"
  }
 },
 "nbformat": 4,
 "nbformat_minor": 4
}
